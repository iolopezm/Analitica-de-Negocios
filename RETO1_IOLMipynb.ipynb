{
  "nbformat": 4,
  "nbformat_minor": 0,
  "metadata": {
    "colab": {
      "provenance": [],
      "authorship_tag": "ABX9TyMxdRUdu3xTY484moXjCAhH",
      "include_colab_link": true
    },
    "kernelspec": {
      "name": "python3",
      "display_name": "Python 3"
    },
    "language_info": {
      "name": "python"
    }
  },
  "cells": [
    {
      "cell_type": "markdown",
      "metadata": {
        "id": "view-in-github",
        "colab_type": "text"
      },
      "source": [
        "<a href=\"https://colab.research.google.com/github/iolopezm/Analitica-de-Negocios/blob/main/RETO1_IOLMipynb.ipynb\" target=\"_parent\"><img src=\"https://colab.research.google.com/assets/colab-badge.svg\" alt=\"Open In Colab\"/></a>"
      ]
    },
    {
      "cell_type": "code",
      "execution_count": null,
      "metadata": {
        "id": "O7cPZc5LUbI8"
      },
      "outputs": [],
      "source": [
        "import numpy as np #Funciones Matemáticas\n",
        "import pandas as pd #Comunicación con Excel\n",
        "from sklearn.naive_bayes import GaussianNB #Función Gaussiana\n",
        "from sklearn.metrics import confusion_matrix #La métrica de Medida"
      ]
    },
    {
      "cell_type": "code",
      "source": [
        "XDB.columns"
      ],
      "metadata": {
        "colab": {
          "base_uri": "https://localhost:8080/"
        },
        "id": "hvHBrhvWWbG6",
        "outputId": "4cee9146-24f7-49ad-b2f9-f80b53be1531"
      },
      "execution_count": null,
      "outputs": [
        {
          "output_type": "execute_result",
          "data": {
            "text/plain": [
              "Index(['ID', 'Age', 'Urban', 'Mother_Edu', 'Father_Edu', 'Siblings', 'Black',\n",
              "       'Hispanic', 'White', 'Christian', 'WomenPlace', 'Male', 'FamilySize',\n",
              "       'Self_Esteem', 'Height', 'Weight', 'Outgoing_Kid', 'Outgoing_Adult',\n",
              "       'HealthPlan', 'Income', 'Marital_Status', 'Education', 'WeeksEmployed',\n",
              "       'NumberSpouses'],\n",
              "      dtype='object')"
            ]
          },
          "metadata": {},
          "execution_count": 5
        }
      ]
    },
    {
      "cell_type": "code",
      "source": [
        "nxl=\"/content/sample_data/1. BD1_Longitudinal_Survey_Int.xlsx\"\n",
        "XDB=pd.read_excel(nxl,sheet_name=0).dropna() #Traigo los datos\n",
        "\n",
        "\n",
        "#Seleccionamos las variables de interes\n",
        "XDB=XDB[['Age', 'Mother_Edu', 'Father_Edu', 'Height', 'Weight', 'Income', 'Self_Esteem','FamilySize', 'Urban']]\n",
        "XDB.head()\n",
        "\n",
        "#Datos de Entrada -np.array() convertir a numeros\n",
        "XD=np.array(XDB[['Age', 'Mother_Edu', 'Father_Edu', 'Height', 'Weight', 'Income', 'Self_Esteem','FamilySize']])\n",
        "\n",
        "#Datos de Salida - Valor Deseado - que quiero que aprenda el modelo\n",
        "yd=np.array(XDB['Urban'])"
      ],
      "metadata": {
        "id": "sXUSY7lpVO80"
      },
      "execution_count": null,
      "outputs": []
    },
    {
      "cell_type": "markdown",
      "source": [
        "**¿Cuál es el numero de datos total de la base de datos?**\n",
        "\n",
        "r// 5683 datos"
      ],
      "metadata": {
        "id": "SYnBKWqYZ1Fq"
      }
    },
    {
      "cell_type": "code",
      "source": [
        "total_datos = XDB.shape[0]\n",
        "total_datos"
      ],
      "metadata": {
        "colab": {
          "base_uri": "https://localhost:8080/"
        },
        "id": "plVT5cjIaEOs",
        "outputId": "a6af2712-0545-4693-e03e-79fe7e3151d1"
      },
      "execution_count": null,
      "outputs": [
        {
          "output_type": "execute_result",
          "data": {
            "text/plain": [
              "5683"
            ]
          },
          "metadata": {},
          "execution_count": 21
        }
      ]
    },
    {
      "cell_type": "code",
      "source": [
        "total_datos_urbanos = XDB[XDB['Urban'] == 1].shape[0]\n",
        "total_datos_urbanos"
      ],
      "metadata": {
        "colab": {
          "base_uri": "https://localhost:8080/"
        },
        "id": "2SjEU34gqWBo",
        "outputId": "8fdf2e68-1cbe-4811-e016-93bce86abfd8"
      },
      "execution_count": null,
      "outputs": [
        {
          "output_type": "execute_result",
          "data": {
            "text/plain": [
              "4510"
            ]
          },
          "metadata": {},
          "execution_count": 16
        }
      ]
    },
    {
      "cell_type": "markdown",
      "source": [
        "**Qué proporción del total de los datos corresponde al area rural?**"
      ],
      "metadata": {
        "id": "aKjv3P4lapVG"
      }
    },
    {
      "cell_type": "code",
      "source": [
        "total_datos_rural = XDB[XDB['Urban'] == 0].shape[0]\n",
        "total_datos_rural"
      ],
      "metadata": {
        "id": "Hv1RTRyqasqL",
        "colab": {
          "base_uri": "https://localhost:8080/"
        },
        "outputId": "1a532343-24dd-49da-aa16-7cbec00012d1"
      },
      "execution_count": null,
      "outputs": [
        {
          "output_type": "execute_result",
          "data": {
            "text/plain": [
              "1173"
            ]
          },
          "metadata": {},
          "execution_count": 17
        }
      ]
    },
    {
      "cell_type": "code",
      "source": [
        "tasa_rural = total_datos_rural /total_datos\n",
        "tasa_rural"
      ],
      "metadata": {
        "colab": {
          "base_uri": "https://localhost:8080/"
        },
        "id": "I7gtEz9hqx1l",
        "outputId": "ebbd2135-a4eb-42dc-abe1-483eec2b9841"
      },
      "execution_count": null,
      "outputs": [
        {
          "output_type": "execute_result",
          "data": {
            "text/plain": [
              "0.20640506774590886"
            ]
          },
          "metadata": {},
          "execution_count": 22
        }
      ]
    },
    {
      "cell_type": "markdown",
      "source": [
        "**Que proporcion del total de los datos corresponde al area urbana?**"
      ],
      "metadata": {
        "id": "0NPwT3Fzqumw"
      }
    },
    {
      "cell_type": "code",
      "source": [
        "tasa_urbanos = total_datos_urbanos / total_datos\n",
        "tasa_urbanos"
      ],
      "metadata": {
        "colab": {
          "base_uri": "https://localhost:8080/"
        },
        "id": "bBUKysuwrS9B",
        "outputId": "cd68df0c-dad1-4d4b-ee66-0ee0e9846a4e"
      },
      "execution_count": null,
      "outputs": [
        {
          "output_type": "execute_result",
          "data": {
            "text/plain": [
              "0.7935949322540912"
            ]
          },
          "metadata": {},
          "execution_count": 23
        }
      ]
    },
    {
      "cell_type": "code",
      "source": [
        "mnb=GaussianNB() #Llamamos el modelo\n",
        "mnb.fit(XD,yd)\n",
        "ydp=mnb.predict(XD) #Muestra los datos de salida - pero que el obtuvo\n",
        "\n",
        "#Parametros del Modelo por categoría - PreApr/PreNeg\n",
        "u=mnb.theta_ #Se estima las medias\n",
        "sigma=np.sqrt(mnb.var_) #Se estima las varianzas\n",
        "\n",
        "#Las variaciones de las variables\n",
        "LI=u-sigma\n",
        "LS=u+sigma\n",
        "\n",
        "print(\"La media de las variables por categoría:\")\n",
        "print(u)\n",
        "print(\"El limite inferior de la variacion de las variables por categoria:\")\n",
        "print(LI)\n",
        "print(\"El limite superior de la variacion de las variables por categoría:\")\n",
        "print(LS)"
      ],
      "metadata": {
        "colab": {
          "base_uri": "https://localhost:8080/"
        },
        "id": "qIp_qBlaY8HF",
        "outputId": "343609d8-3f13-4658-914e-722b7d2ee008"
      },
      "execution_count": null,
      "outputs": [
        {
          "output_type": "stream",
          "name": "stdout",
          "text": [
            "La media de las variables por categoría:\n",
            "[[1.83810742e+01 1.07612958e+01 1.03324808e+01 6.72148338e+01\n",
            "  1.48857630e+02 3.03672506e+04 2.20272805e+01 4.74168798e+00]\n",
            " [1.83569845e+01 1.11769401e+01 1.12565410e+01 6.69031042e+01\n",
            "  1.44760976e+02 3.34278929e+04 2.26004435e+01 4.68780488e+00]]\n",
            "El limite inferior de la variacion de las variables por categoria:\n",
            "[[ 1.58996876e+01  7.58892579e+00  6.46311334e+00  6.31369799e+01\n",
            "   1.18746964e+02 -1.33465823e+03  1.78344685e+01  2.16621834e+00]\n",
            " [ 1.58811112e+01  7.79013864e+00  7.15097738e+00  6.26897933e+01\n",
            "   1.14669654e+02 -2.69533531e+03  1.84154526e+01  2.24996381e+00]]\n",
            "El limite superior de la variacion de las variables por categoría:\n",
            "[[2.08624608e+01 1.39336659e+01 1.42018483e+01 7.12926877e+01\n",
            "  1.78968296e+02 6.20691595e+04 2.62200925e+01 7.31715762e+00]\n",
            " [2.08328577e+01 1.45637416e+01 1.53621047e+01 7.11164151e+01\n",
            "  1.74852297e+02 6.95511211e+04 2.67854344e+01 7.12564594e+00]]\n",
            "La matriz de confusión:\n",
            "[[   2 1171]\n",
            " [   4 4506]]\n"
          ]
        }
      ]
    },
    {
      "cell_type": "markdown",
      "source": [
        "**Determinar el intervalo en el cual se encuentra la variación de la Edad**\n",
        "\n",
        "AREA URBANA: El límite inferior es 1.58996876e+01 y el límite superior 2.08624608e+01\n",
        "\n",
        "AREA RURAL:  El límite inferior es 1.58811112e+01 y el límite superior 2.08328577e+01"
      ],
      "metadata": {
        "id": "-4JhBQEufVAS"
      }
    },
    {
      "cell_type": "markdown",
      "source": [
        "**Determinar el intervalo en el cual se encuentra la variación de la Altura**\n",
        "\n",
        "AREA URBANA:  El límite inferior es 6.31369799e+01 y el límite superior es 7.12926877e+01\n",
        "\n",
        "AREA RURAL: El límite inferior es 6.26897933e+01 y el límite superior es 7.11164151e+01"
      ],
      "metadata": {
        "id": "JquRM5HpgHyM"
      }
    },
    {
      "cell_type": "markdown",
      "source": [
        "**Determinar el intervalo en el cual se encuentra la variación del Peso de las Personas**\n",
        "\n",
        "AREA URBANA: El límite inferior es 1.48857630e+02 y el límite superior es 1.78968296e+02\n",
        "\n",
        "AREA RURAL: El límite inferior es 1.14669654e+0 y el límite superior es 1.74852297e+02"
      ],
      "metadata": {
        "id": "rAZJiaaZhBKT"
      }
    },
    {
      "cell_type": "code",
      "source": [
        "VN=cm[0,0] #Verdadero Negativo\n",
        "FP=cm[0,1] #Falso Positivo\n",
        "FN=cm[1,0] #Falso Negativo\n",
        "VP=cm[1,1] #Verdadero Positivo\n",
        "\n",
        "Exactitud=(VP+VN)/len(XD)\n",
        "print(\"La exactitud del modelo es:\",Exactitud) #Comportamiento General\n",
        "\n",
        "TE=(FN+FP)/len(XD)\n",
        "print(\"La tasa de error del modelo es:\",TE) #Porcentaje Equivocaciones\n",
        "\n",
        "Sensibilidad=VP/(VP+FP)\n",
        "print(\"La sensibilidad es:\",Sensibilidad) #Como se comportó frente a los positivos\n",
        "\n",
        "Especificidad=VN/(VN+FN)\n",
        "print(\"La especificidad es:\",Especificidad) #Como se comportó frente a los negativos\n"
      ],
      "metadata": {
        "colab": {
          "base_uri": "https://localhost:8080/"
        },
        "id": "QwYYk0bah5bW",
        "outputId": "ec9b20f3-38c1-411f-ec9b-4de8cc8b95f7"
      },
      "execution_count": null,
      "outputs": [
        {
          "output_type": "stream",
          "name": "stdout",
          "text": [
            "La exactitud del modelo es: 0.7932430054548654\n",
            "La tasa de error del modelo es: 0.2067569945451346\n",
            "La sensibilidad es: 0.793729082261758\n",
            "La especificidad es: 0.3333333333333333\n"
          ]
        }
      ]
    },
    {
      "cell_type": "markdown",
      "source": [
        "**¿Para una persona con las siguientes características indicar si vive en la ciudad o las áreas rurales 34,9,6,65,135,50000,30,3?**"
      ],
      "metadata": {
        "id": "bx2tacpLiui-"
      }
    },
    {
      "cell_type": "code",
      "source": [
        "Xun=np.array([[34,9,6,65,135,50000,30,3]]) #Esta es la persona del Excel\n",
        "ydun=mnb.predict(Xun)\n",
        "print(ydun)"
      ],
      "metadata": {
        "colab": {
          "base_uri": "https://localhost:8080/"
        },
        "id": "Am0Bs_AurwYH",
        "outputId": "689a17f3-d696-4723-a32c-ce265994733a"
      },
      "execution_count": null,
      "outputs": [
        {
          "output_type": "stream",
          "name": "stdout",
          "text": [
            "[1.]\n"
          ]
        }
      ]
    },
    {
      "cell_type": "markdown",
      "source": [
        "Esta persona vive en una zona urbana."
      ],
      "metadata": {
        "id": "VrSYnh99b-1L"
      }
    },
    {
      "cell_type": "markdown",
      "source": [
        "**Analísis**\n",
        "\n",
        "Al ver una tasa de exactitud de 0.79 y una tasa de error de 0.21, el modelo tiene un buen rendimiento general- pero no excelente. Al ver una alta sensibilidad y una especificidad baja, se puede decir que el modelo es bueno indentificando a las personas que viven en zonas urbanas.\n",
        "\n",
        "En resumen, el modelo funciona bien en general, prediciendo correctamente la mayoría de los casos y siendo especialmente preciso al identificar a las personas que viven en zonas urbanas. Sin embargo, se puede mejorar identificando de las personas que viven en zonas rurales. Al mejorar este aspecto, se podría reducir la tasa de errores del modelo y aumentar su efectividad general."
      ],
      "metadata": {
        "id": "XjULScoOaEhI"
      }
    }
  ]
}