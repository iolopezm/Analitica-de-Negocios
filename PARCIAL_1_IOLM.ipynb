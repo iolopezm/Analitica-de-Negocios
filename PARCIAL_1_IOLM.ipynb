{
  "nbformat": 4,
  "nbformat_minor": 0,
  "metadata": {
    "colab": {
      "provenance": [],
      "authorship_tag": "ABX9TyMFkOgUQEglkr16kXHFdc3z",
      "include_colab_link": true
    },
    "kernelspec": {
      "name": "python3",
      "display_name": "Python 3"
    },
    "language_info": {
      "name": "python"
    }
  },
  "cells": [
    {
      "cell_type": "markdown",
      "metadata": {
        "id": "view-in-github",
        "colab_type": "text"
      },
      "source": [
        "<a href=\"https://colab.research.google.com/github/iolopezm/Analitica-de-Negocios/blob/main/PARCIAL_1_IOLM.ipynb\" target=\"_parent\"><img src=\"https://colab.research.google.com/assets/colab-badge.svg\" alt=\"Open In Colab\"/></a>"
      ]
    },
    {
      "cell_type": "markdown",
      "source": [
        "Importar librerias\n",
        "\n"
      ],
      "metadata": {
        "id": "K2pxoCBxbXwN"
      }
    },
    {
      "cell_type": "code",
      "execution_count": null,
      "metadata": {
        "id": "kDy60dX7bUqh"
      },
      "outputs": [],
      "source": [
        "import numpy as np\n",
        "import pandas as pd\n",
        "from sklearn.naive_bayes import GaussianNB\n",
        "from sklearn.neighbors  import KNeighborsClassifier\n",
        "from sklearn.cluster import KMeans\n",
        "from sklearn.tree import DecisionTreeClassifier\n",
        "from sklearn.metrics import confusion_matrix\n",
        "import matplotlib.pyplot as plt\n",
        "import seaborn as sns"
      ]
    },
    {
      "cell_type": "markdown",
      "source": [
        "Cargar base de datos"
      ],
      "metadata": {
        "id": "VFdQrmMqb13S"
      }
    },
    {
      "cell_type": "code",
      "source": [
        "nxl='/content/sample_data/4. BD_Parcial__int.xlsx'\n",
        "XDB=pd.read_excel(nxl,sheet_name=0)\n",
        "XDB=XDB.dropna() #Eliminar celdas vacias\n",
        "XDB['Sex'] = XDB['Sex'].replace({'M':0,'F':1}) #Convertir la variable sex como una variable categorica\n",
        "\n",
        "#Seleccion de las variables de trabajo\n",
        "XD=np.array(XDB[['White', 'HS GPA', 'SAT', 'GPA', 'College Parent']]) #Datos entrada\n",
        "yd=np.array(XDB[['Grad']]) #Dato que el modelo va a pronosticar"
      ],
      "metadata": {
        "id": "hnUi8MG2b2cs"
      },
      "execution_count": null,
      "outputs": []
    },
    {
      "cell_type": "markdown",
      "source": [
        "# **PREGUNTA 1**"
      ],
      "metadata": {
        "id": "legOg9JbczJ1"
      }
    },
    {
      "cell_type": "markdown",
      "source": [
        "¿Determinar cuales son las variables que tienen una mayor correlación entre ellas, teniendo en cuenta para este análisis la variable de pronóstico o variable de salida ‘Grad’?"
      ],
      "metadata": {
        "id": "sNf01kcPcIXc"
      }
    },
    {
      "cell_type": "markdown",
      "source": [
        "*Matriz de Correlación*"
      ],
      "metadata": {
        "id": "hg2BFFonqe7t"
      }
    },
    {
      "cell_type": "code",
      "source": [
        "corr = XDB.corr() #Matriz de correlacion\n",
        "corr"
      ],
      "metadata": {
        "colab": {
          "base_uri": "https://localhost:8080/",
          "height": 266
        },
        "id": "22m5jqewcKNi",
        "outputId": "e80d3031-8087-4ff0-8bb2-fc19dfe1e232"
      },
      "execution_count": null,
      "outputs": [
        {
          "output_type": "execute_result",
          "data": {
            "text/plain": [
              "                     Sex     White    HS GPA       SAT       GPA  \\\n",
              "Sex             1.000000  0.029289  0.030116 -0.171818  0.171945   \n",
              "White           0.029289  1.000000  0.130981  0.191930  0.194132   \n",
              "HS GPA          0.030116  0.130981  1.000000  0.346767  0.376932   \n",
              "SAT            -0.171818  0.191930  0.346767  1.000000  0.260927   \n",
              "GPA             0.171945  0.194132  0.376932  0.260927  1.000000   \n",
              "College Parent -0.021320 -0.005987  0.020068 -0.029768 -0.015137   \n",
              "Grad            0.163517  0.133612  0.283404  0.172794  0.726624   \n",
              "\n",
              "                College Parent      Grad  \n",
              "Sex                  -0.021320  0.163517  \n",
              "White                -0.005987  0.133612  \n",
              "HS GPA                0.020068  0.283404  \n",
              "SAT                  -0.029768  0.172794  \n",
              "GPA                  -0.015137  0.726624  \n",
              "College Parent        1.000000 -0.018035  \n",
              "Grad                 -0.018035  1.000000  "
            ],
            "text/html": [
              "\n",
              "  <div id=\"df-8cd4da14-a8de-492b-885d-bcd19e2b6c5f\" class=\"colab-df-container\">\n",
              "    <div>\n",
              "<style scoped>\n",
              "    .dataframe tbody tr th:only-of-type {\n",
              "        vertical-align: middle;\n",
              "    }\n",
              "\n",
              "    .dataframe tbody tr th {\n",
              "        vertical-align: top;\n",
              "    }\n",
              "\n",
              "    .dataframe thead th {\n",
              "        text-align: right;\n",
              "    }\n",
              "</style>\n",
              "<table border=\"1\" class=\"dataframe\">\n",
              "  <thead>\n",
              "    <tr style=\"text-align: right;\">\n",
              "      <th></th>\n",
              "      <th>Sex</th>\n",
              "      <th>White</th>\n",
              "      <th>HS GPA</th>\n",
              "      <th>SAT</th>\n",
              "      <th>GPA</th>\n",
              "      <th>College Parent</th>\n",
              "      <th>Grad</th>\n",
              "    </tr>\n",
              "  </thead>\n",
              "  <tbody>\n",
              "    <tr>\n",
              "      <th>Sex</th>\n",
              "      <td>1.000000</td>\n",
              "      <td>0.029289</td>\n",
              "      <td>0.030116</td>\n",
              "      <td>-0.171818</td>\n",
              "      <td>0.171945</td>\n",
              "      <td>-0.021320</td>\n",
              "      <td>0.163517</td>\n",
              "    </tr>\n",
              "    <tr>\n",
              "      <th>White</th>\n",
              "      <td>0.029289</td>\n",
              "      <td>1.000000</td>\n",
              "      <td>0.130981</td>\n",
              "      <td>0.191930</td>\n",
              "      <td>0.194132</td>\n",
              "      <td>-0.005987</td>\n",
              "      <td>0.133612</td>\n",
              "    </tr>\n",
              "    <tr>\n",
              "      <th>HS GPA</th>\n",
              "      <td>0.030116</td>\n",
              "      <td>0.130981</td>\n",
              "      <td>1.000000</td>\n",
              "      <td>0.346767</td>\n",
              "      <td>0.376932</td>\n",
              "      <td>0.020068</td>\n",
              "      <td>0.283404</td>\n",
              "    </tr>\n",
              "    <tr>\n",
              "      <th>SAT</th>\n",
              "      <td>-0.171818</td>\n",
              "      <td>0.191930</td>\n",
              "      <td>0.346767</td>\n",
              "      <td>1.000000</td>\n",
              "      <td>0.260927</td>\n",
              "      <td>-0.029768</td>\n",
              "      <td>0.172794</td>\n",
              "    </tr>\n",
              "    <tr>\n",
              "      <th>GPA</th>\n",
              "      <td>0.171945</td>\n",
              "      <td>0.194132</td>\n",
              "      <td>0.376932</td>\n",
              "      <td>0.260927</td>\n",
              "      <td>1.000000</td>\n",
              "      <td>-0.015137</td>\n",
              "      <td>0.726624</td>\n",
              "    </tr>\n",
              "    <tr>\n",
              "      <th>College Parent</th>\n",
              "      <td>-0.021320</td>\n",
              "      <td>-0.005987</td>\n",
              "      <td>0.020068</td>\n",
              "      <td>-0.029768</td>\n",
              "      <td>-0.015137</td>\n",
              "      <td>1.000000</td>\n",
              "      <td>-0.018035</td>\n",
              "    </tr>\n",
              "    <tr>\n",
              "      <th>Grad</th>\n",
              "      <td>0.163517</td>\n",
              "      <td>0.133612</td>\n",
              "      <td>0.283404</td>\n",
              "      <td>0.172794</td>\n",
              "      <td>0.726624</td>\n",
              "      <td>-0.018035</td>\n",
              "      <td>1.000000</td>\n",
              "    </tr>\n",
              "  </tbody>\n",
              "</table>\n",
              "</div>\n",
              "    <div class=\"colab-df-buttons\">\n",
              "\n",
              "  <div class=\"colab-df-container\">\n",
              "    <button class=\"colab-df-convert\" onclick=\"convertToInteractive('df-8cd4da14-a8de-492b-885d-bcd19e2b6c5f')\"\n",
              "            title=\"Convert this dataframe to an interactive table.\"\n",
              "            style=\"display:none;\">\n",
              "\n",
              "  <svg xmlns=\"http://www.w3.org/2000/svg\" height=\"24px\" viewBox=\"0 -960 960 960\">\n",
              "    <path d=\"M120-120v-720h720v720H120Zm60-500h600v-160H180v160Zm220 220h160v-160H400v160Zm0 220h160v-160H400v160ZM180-400h160v-160H180v160Zm440 0h160v-160H620v160ZM180-180h160v-160H180v160Zm440 0h160v-160H620v160Z\"/>\n",
              "  </svg>\n",
              "    </button>\n",
              "\n",
              "  <style>\n",
              "    .colab-df-container {\n",
              "      display:flex;\n",
              "      gap: 12px;\n",
              "    }\n",
              "\n",
              "    .colab-df-convert {\n",
              "      background-color: #E8F0FE;\n",
              "      border: none;\n",
              "      border-radius: 50%;\n",
              "      cursor: pointer;\n",
              "      display: none;\n",
              "      fill: #1967D2;\n",
              "      height: 32px;\n",
              "      padding: 0 0 0 0;\n",
              "      width: 32px;\n",
              "    }\n",
              "\n",
              "    .colab-df-convert:hover {\n",
              "      background-color: #E2EBFA;\n",
              "      box-shadow: 0px 1px 2px rgba(60, 64, 67, 0.3), 0px 1px 3px 1px rgba(60, 64, 67, 0.15);\n",
              "      fill: #174EA6;\n",
              "    }\n",
              "\n",
              "    .colab-df-buttons div {\n",
              "      margin-bottom: 4px;\n",
              "    }\n",
              "\n",
              "    [theme=dark] .colab-df-convert {\n",
              "      background-color: #3B4455;\n",
              "      fill: #D2E3FC;\n",
              "    }\n",
              "\n",
              "    [theme=dark] .colab-df-convert:hover {\n",
              "      background-color: #434B5C;\n",
              "      box-shadow: 0px 1px 3px 1px rgba(0, 0, 0, 0.15);\n",
              "      filter: drop-shadow(0px 1px 2px rgba(0, 0, 0, 0.3));\n",
              "      fill: #FFFFFF;\n",
              "    }\n",
              "  </style>\n",
              "\n",
              "    <script>\n",
              "      const buttonEl =\n",
              "        document.querySelector('#df-8cd4da14-a8de-492b-885d-bcd19e2b6c5f button.colab-df-convert');\n",
              "      buttonEl.style.display =\n",
              "        google.colab.kernel.accessAllowed ? 'block' : 'none';\n",
              "\n",
              "      async function convertToInteractive(key) {\n",
              "        const element = document.querySelector('#df-8cd4da14-a8de-492b-885d-bcd19e2b6c5f');\n",
              "        const dataTable =\n",
              "          await google.colab.kernel.invokeFunction('convertToInteractive',\n",
              "                                                    [key], {});\n",
              "        if (!dataTable) return;\n",
              "\n",
              "        const docLinkHtml = 'Like what you see? Visit the ' +\n",
              "          '<a target=\"_blank\" href=https://colab.research.google.com/notebooks/data_table.ipynb>data table notebook</a>'\n",
              "          + ' to learn more about interactive tables.';\n",
              "        element.innerHTML = '';\n",
              "        dataTable['output_type'] = 'display_data';\n",
              "        await google.colab.output.renderOutput(dataTable, element);\n",
              "        const docLink = document.createElement('div');\n",
              "        docLink.innerHTML = docLinkHtml;\n",
              "        element.appendChild(docLink);\n",
              "      }\n",
              "    </script>\n",
              "  </div>\n",
              "\n",
              "\n",
              "<div id=\"df-080f08b9-24bc-4ac5-92af-0a1cc8c7d119\">\n",
              "  <button class=\"colab-df-quickchart\" onclick=\"quickchart('df-080f08b9-24bc-4ac5-92af-0a1cc8c7d119')\"\n",
              "            title=\"Suggest charts\"\n",
              "            style=\"display:none;\">\n",
              "\n",
              "<svg xmlns=\"http://www.w3.org/2000/svg\" height=\"24px\"viewBox=\"0 0 24 24\"\n",
              "     width=\"24px\">\n",
              "    <g>\n",
              "        <path d=\"M19 3H5c-1.1 0-2 .9-2 2v14c0 1.1.9 2 2 2h14c1.1 0 2-.9 2-2V5c0-1.1-.9-2-2-2zM9 17H7v-7h2v7zm4 0h-2V7h2v10zm4 0h-2v-4h2v4z\"/>\n",
              "    </g>\n",
              "</svg>\n",
              "  </button>\n",
              "\n",
              "<style>\n",
              "  .colab-df-quickchart {\n",
              "      --bg-color: #E8F0FE;\n",
              "      --fill-color: #1967D2;\n",
              "      --hover-bg-color: #E2EBFA;\n",
              "      --hover-fill-color: #174EA6;\n",
              "      --disabled-fill-color: #AAA;\n",
              "      --disabled-bg-color: #DDD;\n",
              "  }\n",
              "\n",
              "  [theme=dark] .colab-df-quickchart {\n",
              "      --bg-color: #3B4455;\n",
              "      --fill-color: #D2E3FC;\n",
              "      --hover-bg-color: #434B5C;\n",
              "      --hover-fill-color: #FFFFFF;\n",
              "      --disabled-bg-color: #3B4455;\n",
              "      --disabled-fill-color: #666;\n",
              "  }\n",
              "\n",
              "  .colab-df-quickchart {\n",
              "    background-color: var(--bg-color);\n",
              "    border: none;\n",
              "    border-radius: 50%;\n",
              "    cursor: pointer;\n",
              "    display: none;\n",
              "    fill: var(--fill-color);\n",
              "    height: 32px;\n",
              "    padding: 0;\n",
              "    width: 32px;\n",
              "  }\n",
              "\n",
              "  .colab-df-quickchart:hover {\n",
              "    background-color: var(--hover-bg-color);\n",
              "    box-shadow: 0 1px 2px rgba(60, 64, 67, 0.3), 0 1px 3px 1px rgba(60, 64, 67, 0.15);\n",
              "    fill: var(--button-hover-fill-color);\n",
              "  }\n",
              "\n",
              "  .colab-df-quickchart-complete:disabled,\n",
              "  .colab-df-quickchart-complete:disabled:hover {\n",
              "    background-color: var(--disabled-bg-color);\n",
              "    fill: var(--disabled-fill-color);\n",
              "    box-shadow: none;\n",
              "  }\n",
              "\n",
              "  .colab-df-spinner {\n",
              "    border: 2px solid var(--fill-color);\n",
              "    border-color: transparent;\n",
              "    border-bottom-color: var(--fill-color);\n",
              "    animation:\n",
              "      spin 1s steps(1) infinite;\n",
              "  }\n",
              "\n",
              "  @keyframes spin {\n",
              "    0% {\n",
              "      border-color: transparent;\n",
              "      border-bottom-color: var(--fill-color);\n",
              "      border-left-color: var(--fill-color);\n",
              "    }\n",
              "    20% {\n",
              "      border-color: transparent;\n",
              "      border-left-color: var(--fill-color);\n",
              "      border-top-color: var(--fill-color);\n",
              "    }\n",
              "    30% {\n",
              "      border-color: transparent;\n",
              "      border-left-color: var(--fill-color);\n",
              "      border-top-color: var(--fill-color);\n",
              "      border-right-color: var(--fill-color);\n",
              "    }\n",
              "    40% {\n",
              "      border-color: transparent;\n",
              "      border-right-color: var(--fill-color);\n",
              "      border-top-color: var(--fill-color);\n",
              "    }\n",
              "    60% {\n",
              "      border-color: transparent;\n",
              "      border-right-color: var(--fill-color);\n",
              "    }\n",
              "    80% {\n",
              "      border-color: transparent;\n",
              "      border-right-color: var(--fill-color);\n",
              "      border-bottom-color: var(--fill-color);\n",
              "    }\n",
              "    90% {\n",
              "      border-color: transparent;\n",
              "      border-bottom-color: var(--fill-color);\n",
              "    }\n",
              "  }\n",
              "</style>\n",
              "\n",
              "  <script>\n",
              "    async function quickchart(key) {\n",
              "      const quickchartButtonEl =\n",
              "        document.querySelector('#' + key + ' button');\n",
              "      quickchartButtonEl.disabled = true;  // To prevent multiple clicks.\n",
              "      quickchartButtonEl.classList.add('colab-df-spinner');\n",
              "      try {\n",
              "        const charts = await google.colab.kernel.invokeFunction(\n",
              "            'suggestCharts', [key], {});\n",
              "      } catch (error) {\n",
              "        console.error('Error during call to suggestCharts:', error);\n",
              "      }\n",
              "      quickchartButtonEl.classList.remove('colab-df-spinner');\n",
              "      quickchartButtonEl.classList.add('colab-df-quickchart-complete');\n",
              "    }\n",
              "    (() => {\n",
              "      let quickchartButtonEl =\n",
              "        document.querySelector('#df-080f08b9-24bc-4ac5-92af-0a1cc8c7d119 button');\n",
              "      quickchartButtonEl.style.display =\n",
              "        google.colab.kernel.accessAllowed ? 'block' : 'none';\n",
              "    })();\n",
              "  </script>\n",
              "</div>\n",
              "\n",
              "  <div id=\"id_a3568322-4de7-4ba6-a9eb-b4d51dc37c1c\">\n",
              "    <style>\n",
              "      .colab-df-generate {\n",
              "        background-color: #E8F0FE;\n",
              "        border: none;\n",
              "        border-radius: 50%;\n",
              "        cursor: pointer;\n",
              "        display: none;\n",
              "        fill: #1967D2;\n",
              "        height: 32px;\n",
              "        padding: 0 0 0 0;\n",
              "        width: 32px;\n",
              "      }\n",
              "\n",
              "      .colab-df-generate:hover {\n",
              "        background-color: #E2EBFA;\n",
              "        box-shadow: 0px 1px 2px rgba(60, 64, 67, 0.3), 0px 1px 3px 1px rgba(60, 64, 67, 0.15);\n",
              "        fill: #174EA6;\n",
              "      }\n",
              "\n",
              "      [theme=dark] .colab-df-generate {\n",
              "        background-color: #3B4455;\n",
              "        fill: #D2E3FC;\n",
              "      }\n",
              "\n",
              "      [theme=dark] .colab-df-generate:hover {\n",
              "        background-color: #434B5C;\n",
              "        box-shadow: 0px 1px 3px 1px rgba(0, 0, 0, 0.15);\n",
              "        filter: drop-shadow(0px 1px 2px rgba(0, 0, 0, 0.3));\n",
              "        fill: #FFFFFF;\n",
              "      }\n",
              "    </style>\n",
              "    <button class=\"colab-df-generate\" onclick=\"generateWithVariable('corr')\"\n",
              "            title=\"Generate code using this dataframe.\"\n",
              "            style=\"display:none;\">\n",
              "\n",
              "  <svg xmlns=\"http://www.w3.org/2000/svg\" height=\"24px\"viewBox=\"0 0 24 24\"\n",
              "       width=\"24px\">\n",
              "    <path d=\"M7,19H8.4L18.45,9,17,7.55,7,17.6ZM5,21V16.75L18.45,3.32a2,2,0,0,1,2.83,0l1.4,1.43a1.91,1.91,0,0,1,.58,1.4,1.91,1.91,0,0,1-.58,1.4L9.25,21ZM18.45,9,17,7.55Zm-12,3A5.31,5.31,0,0,0,4.9,8.1,5.31,5.31,0,0,0,1,6.5,5.31,5.31,0,0,0,4.9,4.9,5.31,5.31,0,0,0,6.5,1,5.31,5.31,0,0,0,8.1,4.9,5.31,5.31,0,0,0,12,6.5,5.46,5.46,0,0,0,6.5,12Z\"/>\n",
              "  </svg>\n",
              "    </button>\n",
              "    <script>\n",
              "      (() => {\n",
              "      const buttonEl =\n",
              "        document.querySelector('#id_a3568322-4de7-4ba6-a9eb-b4d51dc37c1c button.colab-df-generate');\n",
              "      buttonEl.style.display =\n",
              "        google.colab.kernel.accessAllowed ? 'block' : 'none';\n",
              "\n",
              "      buttonEl.onclick = () => {\n",
              "        google.colab.notebook.generateWithVariable('corr');\n",
              "      }\n",
              "      })();\n",
              "    </script>\n",
              "  </div>\n",
              "\n",
              "    </div>\n",
              "  </div>\n"
            ],
            "application/vnd.google.colaboratory.intrinsic+json": {
              "type": "dataframe",
              "variable_name": "corr",
              "summary": "{\n  \"name\": \"corr\",\n  \"rows\": 7,\n  \"fields\": [\n    {\n      \"column\": \"Sex\",\n      \"properties\": {\n        \"dtype\": \"number\",\n        \"std\": 0.383348325089128,\n        \"min\": -0.17181762221533498,\n        \"max\": 1.0,\n        \"num_unique_values\": 7,\n        \"samples\": [\n          1.0,\n          0.029289137450070033,\n          -0.021319585843803366\n        ],\n        \"semantic_type\": \"\",\n        \"description\": \"\"\n      }\n    },\n    {\n      \"column\": \"White\",\n      \"properties\": {\n        \"dtype\": \"number\",\n        \"std\": 0.34402560463120657,\n        \"min\": -0.005986884468415346,\n        \"max\": 1.0,\n        \"num_unique_values\": 7,\n        \"samples\": [\n          0.029289137450070033,\n          1.0,\n          -0.005986884468415346\n        ],\n        \"semantic_type\": \"\",\n        \"description\": \"\"\n      }\n    },\n    {\n      \"column\": \"HS GPA\",\n      \"properties\": {\n        \"dtype\": \"number\",\n        \"std\": 0.3359153131788396,\n        \"min\": 0.020068229759735545,\n        \"max\": 1.0,\n        \"num_unique_values\": 7,\n        \"samples\": [\n          0.030116284820044203,\n          0.13098064745605162,\n          0.020068229759735545\n        ],\n        \"semantic_type\": \"\",\n        \"description\": \"\"\n      }\n    },\n    {\n      \"column\": \"SAT\",\n      \"properties\": {\n        \"dtype\": \"number\",\n        \"std\": 0.3735983904114926,\n        \"min\": -0.17181762221533498,\n        \"max\": 1.0,\n        \"num_unique_values\": 7,\n        \"samples\": [\n          -0.17181762221533498,\n          0.19193012148693236,\n          -0.029768196920765794\n        ],\n        \"semantic_type\": \"\",\n        \"description\": \"\"\n      }\n    },\n    {\n      \"column\": \"GPA\",\n      \"properties\": {\n        \"dtype\": \"number\",\n        \"std\": 0.3540867262521672,\n        \"min\": -0.015137436305767702,\n        \"max\": 1.0,\n        \"num_unique_values\": 7,\n        \"samples\": [\n          0.17194487668603323,\n          0.19413194327185468,\n          -0.015137436305767702\n        ],\n        \"semantic_type\": \"\",\n        \"description\": \"\"\n      }\n    },\n    {\n      \"column\": \"College Parent\",\n      \"properties\": {\n        \"dtype\": \"number\",\n        \"std\": 0.3827148792181542,\n        \"min\": -0.029768196920765794,\n        \"max\": 1.0,\n        \"num_unique_values\": 7,\n        \"samples\": [\n          -0.021319585843803366,\n          -0.005986884468415346,\n          1.0\n        ],\n        \"semantic_type\": \"\",\n        \"description\": \"\"\n      }\n    },\n    {\n      \"column\": \"Grad\",\n      \"properties\": {\n        \"dtype\": \"number\",\n        \"std\": 0.3690555215239233,\n        \"min\": -0.018035134677367858,\n        \"max\": 1.0,\n        \"num_unique_values\": 7,\n        \"samples\": [\n          0.16351679811773703,\n          0.13361160104918676,\n          -0.018035134677367858\n        ],\n        \"semantic_type\": \"\",\n        \"description\": \"\"\n      }\n    }\n  ]\n}"
            }
          },
          "metadata": {},
          "execution_count": 58
        }
      ]
    },
    {
      "cell_type": "code",
      "source": [
        "corr['Grad'].sort_values(ascending=False)[1:] #Ordenar de mayor a menor"
      ],
      "metadata": {
        "colab": {
          "base_uri": "https://localhost:8080/",
          "height": 269
        },
        "id": "WJWuFxWRcTYh",
        "outputId": "639c7c8d-c4d0-4664-ef84-f18ce30d47f4"
      },
      "execution_count": null,
      "outputs": [
        {
          "output_type": "execute_result",
          "data": {
            "text/plain": [
              "GPA               0.726624\n",
              "HS GPA            0.283404\n",
              "SAT               0.172794\n",
              "Sex               0.163517\n",
              "White             0.133612\n",
              "College Parent   -0.018035\n",
              "Name: Grad, dtype: float64"
            ],
            "text/html": [
              "<div>\n",
              "<style scoped>\n",
              "    .dataframe tbody tr th:only-of-type {\n",
              "        vertical-align: middle;\n",
              "    }\n",
              "\n",
              "    .dataframe tbody tr th {\n",
              "        vertical-align: top;\n",
              "    }\n",
              "\n",
              "    .dataframe thead th {\n",
              "        text-align: right;\n",
              "    }\n",
              "</style>\n",
              "<table border=\"1\" class=\"dataframe\">\n",
              "  <thead>\n",
              "    <tr style=\"text-align: right;\">\n",
              "      <th></th>\n",
              "      <th>Grad</th>\n",
              "    </tr>\n",
              "  </thead>\n",
              "  <tbody>\n",
              "    <tr>\n",
              "      <th>GPA</th>\n",
              "      <td>0.726624</td>\n",
              "    </tr>\n",
              "    <tr>\n",
              "      <th>HS GPA</th>\n",
              "      <td>0.283404</td>\n",
              "    </tr>\n",
              "    <tr>\n",
              "      <th>SAT</th>\n",
              "      <td>0.172794</td>\n",
              "    </tr>\n",
              "    <tr>\n",
              "      <th>Sex</th>\n",
              "      <td>0.163517</td>\n",
              "    </tr>\n",
              "    <tr>\n",
              "      <th>White</th>\n",
              "      <td>0.133612</td>\n",
              "    </tr>\n",
              "    <tr>\n",
              "      <th>College Parent</th>\n",
              "      <td>-0.018035</td>\n",
              "    </tr>\n",
              "  </tbody>\n",
              "</table>\n",
              "</div><br><label><b>dtype:</b> float64</label>"
            ]
          },
          "metadata": {},
          "execution_count": 59
        }
      ]
    },
    {
      "cell_type": "markdown",
      "source": [
        "Las variables con mayor correlacion con respecto a la variable de pronostico 'Grad' son:\n",
        "\n",
        "\n",
        "\n",
        "*   Grad - GPA: 0.72\n",
        "*   Grad - HS GPA: 0.28\n",
        "\n"
      ],
      "metadata": {
        "id": "SAC4LdBhcbUE"
      }
    },
    {
      "cell_type": "markdown",
      "source": [
        "# **PREGUNTA 2**"
      ],
      "metadata": {
        "id": "EJiwRMdvdENS"
      }
    },
    {
      "cell_type": "markdown",
      "source": [
        "¿Cuáles son las dos variables que tienen mayor correlación frente a la graficación de los datos?"
      ],
      "metadata": {
        "id": "wt_a2zusdKTJ"
      }
    },
    {
      "cell_type": "markdown",
      "source": [
        "*Matriz de correlación - gráfica*"
      ],
      "metadata": {
        "id": "8liAdjN5dUmY"
      }
    },
    {
      "cell_type": "code",
      "source": [
        "sns.heatmap(XDB.corr(), annot=True, cmap = 'magma')"
      ],
      "metadata": {
        "colab": {
          "base_uri": "https://localhost:8080/",
          "height": 539
        },
        "id": "Efff44aBcbAC",
        "outputId": "1b1eec57-af9b-4e98-8528-bc92bb50cc8a"
      },
      "execution_count": null,
      "outputs": [
        {
          "output_type": "execute_result",
          "data": {
            "text/plain": [
              "<Axes: >"
            ]
          },
          "metadata": {},
          "execution_count": 60
        },
        {
          "output_type": "display_data",
          "data": {
            "text/plain": [
              "<Figure size 640x480 with 2 Axes>"
            ],
            "image/png": "[encoded data removed]"
          },
          "metadata": {}
        }
      ]
    },
    {
      "cell_type": "markdown",
      "source": [
        "Entre las otras variables independientes la mayor correlación se da entre:\n",
        "\n",
        "*  GPA - HS GPA: 0.38\n",
        "*  SAT - HS GPA: 0.35\n"
      ],
      "metadata": {
        "id": "e5hKTmWmdovE"
      }
    },
    {
      "cell_type": "markdown",
      "source": [
        "# **PREGUNTA 3**"
      ],
      "metadata": {
        "id": "Qpbf1Qwed06t"
      }
    },
    {
      "cell_type": "markdown",
      "source": [
        "¿Cuál es el grupo de clasificación que logró la mayor calificación en la preparatoria (HS GPA) y el promedio de la Universidad (GPA)?"
      ],
      "metadata": {
        "id": "BX_mycf6d5Bz"
      }
    },
    {
      "cell_type": "code",
      "source": [
        "XDB.columns"
      ],
      "metadata": {
        "colab": {
          "base_uri": "https://localhost:8080/"
        },
        "id": "XKZpmjjld92p",
        "outputId": "282adb6a-927e-4ab3-b5fc-55a6c0513400"
      },
      "execution_count": null,
      "outputs": [
        {
          "output_type": "execute_result",
          "data": {
            "text/plain": [
              "Index(['Sex', 'White', 'HS GPA', 'SAT', 'GPA', 'College Parent', 'Grad'], dtype='object')"
            ]
          },
          "metadata": {},
          "execution_count": 27
        }
      ]
    },
    {
      "cell_type": "code",
      "source": [
        "mnb=GaussianNB()\n",
        "mnb.fit(XD,yd) # Ajustar el modelo a los datos de entrada y salida\n",
        "ydp=mnb.predict(XD) # Pronostico intramuestral\n",
        "\n",
        "#Parametros del modelo por categoria - Graduado / NO graduado\n",
        "u=mnb.theta_ #Se estiman las medias\n",
        "sigma=np.sqrt(mnb.var_) #Se estiman las varianzas\n",
        "\n",
        "#Variaciones de las variables\n",
        "LI=u-sigma\n",
        "LS=u+sigma\n",
        "\n",
        "print('La media de las variables por categoria:')\n",
        "print (u)\n",
        "print('---')\n",
        "print('El limite inferior de la variación de las variables por categoria es:')\n",
        "print(LI)\n",
        "print('---')\n",
        "print('El limite superior de la variación de las variables por categoria es:')\n",
        "print (LS)\n",
        "\n",
        "#Métrica de evaluación - Como se comporto el modelo identificando Graduado / NO graduado\n",
        "cm=confusion_matrix(yd,ydp) #Matriz de confusion\n"
      ],
      "metadata": {
        "colab": {
          "base_uri": "https://localhost:8080/"
        },
        "id": "H5Du32_NeAfs",
        "outputId": "d25741c5-c236-40c6-ae57-a6aba1054eaa"
      },
      "execution_count": null,
      "outputs": [
        {
          "output_type": "stream",
          "name": "stdout",
          "text": [
            "La media de las variables por categoria:\n",
            "[[5.86038961e-01 3.70939935e+00 1.23485390e+03 2.43128247e+00\n",
            "  6.98051948e-01]\n",
            " [7.21098266e-01 3.91479769e+00 1.28854769e+03 3.28720303e+00\n",
            "  6.79913295e-01]]\n",
            "---\n",
            "El limite inferior de la variación de las variables por categoria es:\n",
            "[[9.34763992e-02 3.33244695e+00 1.08319860e+03 1.95529138e+00\n",
            "  2.38926686e-01]\n",
            " [2.72616229e-01 3.62226610e+00 1.15210925e+03 2.96953734e+00\n",
            "  2.13381638e-01]]\n",
            "---\n",
            "El limite superior de la variación de las variables por categoria es:\n",
            "[[1.07860152e+00 4.08635175e+00 1.38650919e+03 2.90727356e+00\n",
            "  1.15717721e+00]\n",
            " [1.16958030e+00 4.20732928e+00 1.42498613e+03 3.60486872e+00\n",
            "  1.14644495e+00]]\n"
          ]
        },
        {
          "output_type": "stream",
          "name": "stderr",
          "text": [
            "/usr/local/lib/python3.10/dist-packages/sklearn/utils/validation.py:1183: DataConversionWarning: A column-vector y was passed when a 1d array was expected. Please change the shape of y to (n_samples, ), for example using ravel().\n",
            "  y = column_or_1d(y, warn=True)\n"
          ]
        }
      ]
    },
    {
      "cell_type": "markdown",
      "source": [
        "Array de arriba para los 'Grad = 0'\n",
        "\n",
        "Array de abajo para los 'Grad = 1'"
      ],
      "metadata": {
        "id": "FJXKQyn0ecfw"
      }
    },
    {
      "cell_type": "code",
      "source": [
        "print(f'La media del HS GPA de los NO graduados es: {np.round(u[0, 1], 4)}')\n",
        "print(f'La media del HS GPA de los SI graduados es: {np.round(u[1, 1], 4)}')\n",
        "print('---')\n",
        "print(f'La media del GPA de los NO graduados es: {np.round(u[0, 3], 4)}')\n",
        "print(f'La media del GPA de los SI graduados es: {np.round(u[1, 3], 4)}')"
      ],
      "metadata": {
        "colab": {
          "base_uri": "https://localhost:8080/"
        },
        "id": "_7xdnhcPes7s",
        "outputId": "e4256cc8-eb7f-496e-a0be-b9edc4826ae7"
      },
      "execution_count": null,
      "outputs": [
        {
          "output_type": "stream",
          "name": "stdout",
          "text": [
            "La media del HS GPA de los NO graduados es: 3.7094\n",
            "La media del HS GPA de los SI graduados es: 3.9148\n",
            "---\n",
            "La media del GPA de los NO graduados es: 2.4313\n",
            "La media del GPA de los SI graduados es: 3.2872\n"
          ]
        }
      ]
    },
    {
      "cell_type": "markdown",
      "source": [
        "# **PREGUNTA 4**"
      ],
      "metadata": {
        "id": "bUQgweACeiV1"
      }
    },
    {
      "cell_type": "markdown",
      "source": [
        "¿De acuerdo con los índices de exactitud, sensibilidad y especificidad, determinar cómo fue el comportamiento del modelo?\n"
      ],
      "metadata": {
        "id": "6wNR2MvyemKD"
      }
    },
    {
      "cell_type": "code",
      "source": [
        "VN=cm[0,0] #Verdaderos negativos\n",
        "FP=cm[0,1] #Falsos positivos\n",
        "FN=cm[1,0] #Falsos negativos\n",
        "VP=cm[1,1] #Verdaderos positivos\n",
        "\n",
        "Exactitud=(VP+VN)/len(XD)\n",
        "print('Exactitud:',Exactitud) #Comportamiento general\n",
        "\n",
        "Sensibilidad=VP/(VP+FN)\n",
        "print('Sensibilidad:',Sensibilidad) #Como se comporto frente a los positivos\n",
        "\n",
        "Especificidad=VN/(VN+FP)\n",
        "print('Especificidad:',Especificidad) #Como se comportaron frente a los negativos"
      ],
      "metadata": {
        "colab": {
          "base_uri": "https://localhost:8080/"
        },
        "id": "QpA3dnkMeoyE",
        "outputId": "7d70b8b6-e73c-4abb-f3fc-893984c39410"
      },
      "execution_count": null,
      "outputs": [
        {
          "output_type": "stream",
          "name": "stdout",
          "text": [
            "Exactitud: 0.867\n",
            "Sensibilidad: 0.9263005780346821\n",
            "Especificidad: 0.7337662337662337\n"
          ]
        }
      ]
    },
    {
      "cell_type": "markdown",
      "source": [
        "El modelo Naive Bayes presentó un rendimiento satisfactorio en la tarea de clasificación. La exactitud fue del 86,70%, lo que demuestra una capacidad sólida del modelo para predecir correctamente los casos generales. La sensibilidad alcanzó el 92,63%, que significa ser bueno en la identificación de estudiantes que completarán sus estudios en el plazo establecido. Sin embargo, mostró un una especificidad de 73,37%,  lo que sugiere que su desempeño ligeramente inferior en la clasificación de aquellos que no lo lograrán graduarse. En general, el modelo es bueno y en especial, stos resultados indican que el modelo es capaz de discriminar de manera efectiva los estudiantes que culminarán sus estudios a tiempo."
      ],
      "metadata": {
        "id": "gceO8F99fqUT"
      }
    },
    {
      "cell_type": "markdown",
      "source": [
        "# **PREGUNTA 5**"
      ],
      "metadata": {
        "id": "4uLbdTr_g9-u"
      }
    },
    {
      "cell_type": "markdown",
      "source": [
        "¿Determinar la categoría a la cual pertenecen cada uno de los individuos de pronóstico (Hoja 2)?"
      ],
      "metadata": {
        "id": "NOAxF-6khCYQ"
      }
    },
    {
      "cell_type": "markdown",
      "source": [
        "*Predicciones y respuesta*"
      ],
      "metadata": {
        "id": "Tn2WKjFRqrzb"
      }
    },
    {
      "cell_type": "code",
      "source": [
        "Xun=np.array([[1, 4, 1260, 1.9, 1]]) #Persona 1\n",
        "ydun=mnb.predict(Xun)\n",
        "print(ydun)"
      ],
      "metadata": {
        "colab": {
          "base_uri": "https://localhost:8080/"
        },
        "id": "Jg-LZulghAQ0",
        "outputId": "139c8544-287c-4e0e-8546-f899c2951c15"
      },
      "execution_count": null,
      "outputs": [
        {
          "output_type": "stream",
          "name": "stdout",
          "text": [
            "[0]\n"
          ]
        }
      ]
    },
    {
      "cell_type": "code",
      "source": [
        "Xun=np.array([[1, 2.91, 1090, 2.719, 1]]) #Persona 2\n",
        "ydun=mnb.predict(Xun)\n",
        "print(ydun)"
      ],
      "metadata": {
        "colab": {
          "base_uri": "https://localhost:8080/"
        },
        "id": "Do3MSrsjhJau",
        "outputId": "aebea554-c06c-4007-d02a-8398a9ffd5ec"
      },
      "execution_count": null,
      "outputs": [
        {
          "output_type": "stream",
          "name": "stdout",
          "text": [
            "[0]\n"
          ]
        }
      ]
    },
    {
      "cell_type": "code",
      "source": [
        "Xun=np.array([[0, 3.58, 1210, 3.319, 1]]) #Persona 3\n",
        "ydun=mnb.predict(Xun)\n",
        "print(ydun)"
      ],
      "metadata": {
        "colab": {
          "base_uri": "https://localhost:8080/"
        },
        "id": "Jfkze_VphPTm",
        "outputId": "38ff8e24-a808-4976-beb0-6df2ab8bd73e"
      },
      "execution_count": null,
      "outputs": [
        {
          "output_type": "stream",
          "name": "stdout",
          "text": [
            "[1]\n"
          ]
        }
      ]
    },
    {
      "cell_type": "markdown",
      "source": [
        "Persona 1: NO graduado\n",
        "\n",
        "Persona 2: No graduado\n",
        "\n",
        "Persona 3: SI graduado"
      ],
      "metadata": {
        "id": "9bpCOYXohSjK"
      }
    },
    {
      "cell_type": "markdown",
      "source": [
        "# **PREGUNTA 6**"
      ],
      "metadata": {
        "id": "P_AgdVZxhasS"
      }
    },
    {
      "cell_type": "markdown",
      "source": [
        "*Ajustar un Modelo de Decision Tree*"
      ],
      "metadata": {
        "id": "QOMUsEMbqyNX"
      }
    },
    {
      "cell_type": "markdown",
      "source": [
        "¿Cuál fue el comportamiento que tuvo el modelo frente a los índices de exactitud, sensibilidad y especificidad, y comparar este comportamiento con el modelo Naive Bayes?\n"
      ],
      "metadata": {
        "id": "ymhotYDJhid7"
      }
    },
    {
      "cell_type": "code",
      "source": [
        "mar=DecisionTreeClassifier(criterion='gini',max_depth=4) #4 niveles o variables de entrada\n",
        "mar.fit(XD,yd)\n",
        "ydp=mar.predict(XD)\n",
        "\n",
        "from sklearn.metrics import confusion_matrix\n",
        "cm=confusion_matrix(yd,ydp)\n",
        "print(cm)\n",
        "\n",
        "#Evaluamos el modelo\n",
        "VN=cm [0,0]\n",
        "FP=cm [0,1]\n",
        "FN=cm[1,0]\n",
        "VP=cm[1,1]\n",
        "\n",
        "Ex=(VN+VP)/(VN+VP+FN+FP) #Porcentaje de los datos pronosticados correctamente\n",
        "print('La exactitud alcanzada por el modelo es:',Ex)\n",
        "Se= VP/(FN+VP)\n",
        "print('La sensibilidad alcanzada por el modelo fue:',Se)\n",
        "Es=VN/(VN+FP)\n",
        "print('La especificidad alcanzada por el modelo fue:',Es)"
      ],
      "metadata": {
        "colab": {
          "base_uri": "https://localhost:8080/"
        },
        "id": "SwjgZoDJi8yx",
        "outputId": "74f14540-1269-432c-d56d-26dadd24c3c7"
      },
      "execution_count": null,
      "outputs": [
        {
          "output_type": "stream",
          "name": "stdout",
          "text": [
            "[[ 422  194]\n",
            " [   2 1382]]\n",
            "La exactitud alcanzada por el modelo es: 0.902\n",
            "La sensibilidad alcanzada por el modelo fue: 0.9985549132947977\n",
            "La especificidad alcanzada por el modelo fue: 0.685064935064935\n"
          ]
        }
      ]
    },
    {
      "cell_type": "markdown",
      "source": [
        "El modelo de árbol de decisión tuvo un comportamiento bueno, con una exactitud de 90,2%, que explica que el modelo es altamente eficaz en la clasificación general de los casos. Su sensibilidad es extremadamente alta (99,86%), lo que indica una excelente capacidad para identificar correctamente a los graduados. No obstante, su especificidad es de 68,51%, demostrando que el modelo no es tan bueno para identificar correctamente a quienes no lograrán graduarse en el tiempo estipulado. En general, el árbol de decisión es muy efectivo para predecir los casos positivos, pero tiene menos precisión en la clasificación de los negativos.\n",
        "\n",
        "Al comparar ambos modelos, se observa que el árbol de decisión es más adecuado para  para predecir a quienes lograrán graduarse, ya que tiene una mayor exactitud (90,2% vs. 86,7%) y una sensibilidad mayor (99,86% vs. 92,63%) en comparación con Naive Bayes. Naive Bayes, por su parte, es mejor en términos de especificidad (73,37% vs. 68,51%), ya que muestra una mayor precisión identificando quienes no se van a graduar. En resumen, el árbol de decisión es más eficaz para predecir graduaciones, mientras que Naive Bayes es más equilibrado en ambas clases."
      ],
      "metadata": {
        "id": "44rGyt6ZjUxN"
      }
    },
    {
      "cell_type": "markdown",
      "source": [
        "# **PREGUNTA 7**"
      ],
      "metadata": {
        "id": "E-sss8BRlFlk"
      }
    },
    {
      "cell_type": "markdown",
      "source": [
        "*Graficar el árbol*"
      ],
      "metadata": {
        "id": "EBrEwIbzrBVD"
      }
    },
    {
      "cell_type": "markdown",
      "source": [
        "Indicar las reglas del negocio que definen los nodos puros"
      ],
      "metadata": {
        "id": "pRVQ5fBflJiM"
      }
    },
    {
      "cell_type": "code",
      "source": [
        "#Librerias para gráficar el arbol\n",
        "from sklearn.tree import export_graphviz\n",
        "from pydotplus import graph_from_dot_data\n",
        "\n",
        "vs=['White', 'HS GPA', 'SAT', 'GPA', 'College Parent'] #Titulos para los nodos\n",
        "dot_graph=export_graphviz(mar,feature_names=vs)\n",
        "graph=graph_from_dot_data(dot_graph)\n",
        "graph.write_png('arbol.png')"
      ],
      "metadata": {
        "colab": {
          "base_uri": "https://localhost:8080/"
        },
        "id": "025owiUllFW0",
        "outputId": "12b5de4a-b5c5-4816-c73a-a1980ae243d9"
      },
      "execution_count": null,
      "outputs": [
        {
          "output_type": "execute_result",
          "data": {
            "text/plain": [
              "True"
            ]
          },
          "metadata": {},
          "execution_count": 69
        }
      ]
    },
    {
      "cell_type": "markdown",
      "source": [
        "![arbol PARCIAL.png](data:image/png;base64,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)"
      ],
      "metadata": {
        "id": "a7EW83KIm8Mp"
      }
    },
    {
      "cell_type": "markdown",
      "source": [
        "# **PREGUNTA 8**"
      ],
      "metadata": {
        "id": "zkQhbBcWnqwd"
      }
    },
    {
      "cell_type": "markdown",
      "source": [
        "Determinar las reglas a las que pertenecen los individuos de pronóstico (Hoja 2)."
      ],
      "metadata": {
        "id": "EAA0wYWIntSx"
      }
    },
    {
      "cell_type": "markdown",
      "source": [
        "![arbol PARCIAL-2.png](data:image/png;base64,iVBORw0KGgoAAAANSUhEUgAAAhAAAAJ8CAYAAACvNpioAAAAAXNSR0IArs4c6QAAAFBlWElmTU0AKgAAAAgAAgESAAMAAAABAAEAAIdpAAQAAAABAAAAJgAAAAAAA6ABAAMAAAABAAEAAKACAAQAAAABAAACEKADAAQAAAABAAACfAAAAAAyVg8oAAABWWlUWHRYTUw6Y29tLmFkb2JlLnhtcAAAAAAAPHg6eG1wbWV0YSB4bWxuczp4PSJhZG9iZTpuczptZXRhLyIgeDp4bXB0az0iWE1QIENvcmUgNi4wLjAiPgogICA8cmRmOlJERiB4bWxuczpyZGY9Imh0dHA6Ly93d3cudzMub3JnLzE5OTkvMDIvMjItcmRmLXN5bnRheC1ucyMiPgogICAgICA8cmRmOkRlc2NyaXB0aW9uIHJkZjphYm91dD0iIgogICAgICAgICAgICB4bWxuczp0aWZmPSJodHRwOi8vbnMuYWRvYmUuY29tL3RpZmYvMS4wLyI+CiAgICAgICAgIDx0aWZmOk9yaWVudGF0aW9uPjE8L3RpZmY6T3JpZW50YXRpb24+CiAgICAgIDwvcmRmOkRlc2NyaXB0aW9uPgogICA8L3JkZjpSREY+CjwveDp4bXBtZXRhPgoZXuEHAABAAElEQVR4AexdB5wT1fY+2xu9Ix1EQJqASlMBFRR7V6wglmdX/pZn7xXl2evDBtiVovBEBBRsoCgoIIJUpUtf2L7zP99ZJjuZTLKT3SSbcs6PkMydO3fu/SabOXPKd5IMFlJRBBQBRUARUAQUAUUgCASSg+irXRUBRUARUAQUAUVAERAEVIHQL4IioAgoAoqAIqAIBI2AKhBBQ6YHKAKKgCKgCCgCikCqQqAIxAICf//9N3333XexMFWdoyLgF4FzzjnH7z7doQjEGgJJGkQZa5csMef7wQcf0LnnnpuYi9dVxw0CGrMeN5dSF8IIqAVCvwYxhYD+AMfU5dLJ7kdAFWD9KsQjAhoDEY9XVdekCCgCioAioAiEGQFVIMIMsA6vCCgCioAioAjEIwKqQMTjVdU1KQKKgCKgCCgCYUZAFYgwA6zDKwKKgCKgCCgC8YiAKhDxeFV1TYqAIqAIKAKKQJgRUAUizADr8IqAIqAIKAKKQDwioApEPF5VXVNYEdizZw898cQTdMQRR1D9+vUpLS2N6tWrR8cccwy99957VFxc7HP+p59+mpKSknxeGRkZ1K5dO7r66qtp/fr1PsehoUuXLnLcVVdd5bi/uhv/+OMPOuusswSD7OxsOvjgg+nee++l3NzcCqdWWlpKzz77LHXu3JkyMzPpgAMOoCuvvJJ27tzpOXb06NE+uFmxtOL9448/0hlnnEHNmjUjYHvggQfSrbfeSrhmKoqAIhBaBFSBCC2eOlqcI/DLL7/IDfLVV1+lf/3rX7R06VK5Oc2dO1du9BdccAGdeuqplJ+f74jEhx9+SOCyMF9QGnCDnDx5Mh166KG0ceNGr+PmzJlDS5YsoVatWtGECRNc3ZS9BgjzBtbfq1cv2rJlC2GumzdvFuUBa3JD/HXttdfS3XffTQ899BDt2LGD3n//fZo4cSINHTpUMML0TWUC+03crO+pqWV0Njj/kUceSenp6fTtt9/S1q1b6ZFHHqEXXniBhgwZQlBWVBQBRSCECPAfoooiEPUI8I0FZeerdZ7//POPwU/IRvv27Y1t27Y5zuXJJ5+UeY4aNcpr/3/+8x9pZwXCq93c+Oijj2T/nXfeaTbJ+3nnnWfUrFnT4Juq7H/llVe89gezsW/fPmP8+PHG0UcfbbBSEsyhfvuefPLJBj/pG3yz9uqD9eN6ff31117t1o3vv/9e+rz22mvWZuP111832CJh/P7779LO1hnpV1RU5NXPvtG/f3+jefPmRkFBgdeum2++WY6fP3++V3skN6Lh+xvJ9eq5EgMBtUCEUBnToeIbAZjaN2zYQKwkiLneabU33XQT9e7dm3bv3u15gnbqZ2+DmwKyevVqzy481X/yySd02mmnEd+oqWnTpsQKhGe/2w8//fSTuEhwPNwgMOvDxB8KGTx4MD322GPUoEEDr+FglYCsWrXKq926wYoC5eTk0EUXXWRtphEjRtDixYupY8eO0g4LRFZWFpmWBq/Olg24UeBaggXCKnCPQNasWSPv+p8ioAiEBoEqU1nvnfB1aGYSo6PkXDAgRmeu0w4WgUmTJhF8/CeccILfQ5OTk+mHH37wu9/fjkWLFsmuDh06eLr897//pcLCQho+fDilpKTIjRY3SCgEcHcEEraQEFsbaOzYsfTbb79Jf7gVhg0bRjVq1JBD2aJCDRs2DDSM7GNLgOdmbu983XXX2Ztk24znaNu2reN+NMLNcMghh0isgt9OvAMKBFthAnWRfTfeeKNjH2CLmAlTkXDspI2KgCIQNAJqgQgaMj0gURHAjfSggw6q8Ek4GHy2b98u8Q9s8qcWLVqIpQDHw1+POIs2bdrQoEGDZEg8mUNefvlleXf6j833dPbZZ0sw4j333COBnojbQHDh5Zdf7lEecCysBmxorfBlWgKczufUhjgIBI3CqsJuBacu0gZrCywhb7/9NvXs2VOsDAhGRRwJqq+aAgUCgaoIzIQSAGsEgi0RPwH8/AnmAWvRc889J3EWCO5UUQQUgdAhUGULROimoiMpAtGLAG7M7IP3ugFXZra4uVsFN0b224ubAsGEpitg2rRptHbtWrr//vvl6RnH4Ebet29fyfQYM2YM1apVyzqUfM7LyyOOp6CBAwcSCji5sTD4DFKFBtzQEUS6a9cu+uyzz8Ry4jRcSUkJYa6zZs2SAMw333yTYK3guAhRdOAGQvBonTp1RJkC/nB3zJw5UxSIGTNm0DXXXEP/+9//aOHChV4Wij///JM4TkVOC2sLXCz+rBNOc9M2RUARcIeAWiDc4aS9EhwBpAQizdDMCLDCAX+9Na3Q/AwXgl3sWRhwUSBO4Pnnn6fGjRt7ur/00ksEdwjcF1aBFWLv3r00btw4a7PnM57OzzzzTPruu+/kJoqbrOke8XQK04eVK1eKgrNs2TJRHnr06OH3TFgbXlA0EOfRrVs3Uc4QUwELC2JNoCRBoFQgowLpmE2aNKHatWtL2igwAnaPP/6413kQ4wHLCpQZWDdgDenTp49keXh11A1FQBGoEgKRUSCSkyi5To7nlZSmho8qXTU9uFoQ6N69O4HzgLMZvM4PU73VFYCn46oITPuff/65PHkjfdNUSPB+xRVXyND+gimh6MACgRiE++67j5BeijiDww8/nBBTAeUjHAKFBTdpKETffPMNDWQLSCDBWmAdAQdG3bp1vboOGDBA1gzXSyA5/vjjpd+8efMcu2Hc008/XVxECxYsEEuEY0dtVAQUgUohEBEFIjknkzKP6UYpzerLK71HW8roWxZhXalZh+Gg5Po1Kf2w9pTevU0YRtch4wEB8BrAjQE+hnAKlAPEQMA0b1VMzM8PPPCABEbiydyfwBUCs/2vv/5KnL4oXA2cziiZHOCvwJM/giityom/z7AoBBIEjR533HESr4GbuZlREugY7EPcAzJN7AJiKKwV2RRQSH7++WdasWKFvRvBrYF+sAytW7eORo4cKRYHe0cz9gGcFSqKgCIQOgQiokBgukZ+ERUtWSevgvnLKaVpXUrKziBKSWZlogNln9aHMo48mGCdSEpPpYx+HSmjTwdK69iMkmvnUOagrpR1fE9KbVtm5kUftGWf2pvSe7WTY5Iy08qO42OzT+9D6YfsVwZSkynzKA6+OvkwyhzArH6pKd4IsoUE80nO5vQv/qyiCDghgKd/BFHecccdjjc08xj47isruGEivRFWA1g8nOSSSy6RG3+gYErrcYcddhjB3A+SqhdffJGWL18uFopQBFEiNRKkT8geQXxCo0aNrKcO+BkZIXAz2C02s2fPluPA9AklAe8IALUL4kQgzGsh1gywgD7zzDOifFn7QgGBwNqhoggoAqFDIGIKRFJaCqUcUE9esEAYBUVk7Cug1NaNyCjigKqpP5Kxt4DScNNn8ybaS3fkUvGfmyjt4OasePxF+V8uotTmDSgpI41S2x8g+/dNmU9Gbj4rFk08xxWv2EB5Xywsa2PlIbVlQyrZuovyPv1RjjGVEA+MpQYVLV5Hxev9R3R7+uqHhEUAQXxTp06VQEcEMyK6/6+//hKrBHz0uKGBRhlcECYjZbBgwf2AseyxD9ZxWrZsKZkZCJIEO6NbQXzEhRdeKIGL5lO522P99UMmBFg3EdsRKNXyyy+/FKUHVhBTzj//fIK7AmuFqwWuISgPSA1FHMNll10mYyKQlAmpBFdkZ8B6grXDwgIlC9TXWBsyLqAsQNmAYoPxwE6JcRCMef3115un1ndFQBEIAQIRUyCILQupbRrLC8pD/oyFMv1UdmsYeYXi2jD25lNKo9rSDmWi6I/1ZBSXUOmufZTeow2ltGhA+d8tE+Uj5YC6sp9tmFS8bqvsw4GlO/eyssAkPjxW6e59bFXIoOJVm6lk4w5KY6UjuXEdSspiy4eKIlAJBHBjg2sBNzVQLiNQENwQnTp1orvuuksop3ETQwBloBuqv1PDUoDMDNxcAwmCKXHjfuuttwJ1C+s+3KChUGEeyKBwcoHg5u1PwG0BpQtEUnjhJg/FC+4QcESY+N1yyy2ioID/AnjDyoGMFSgKUDyAPwQkWR9//DEhCwOKBeqU4PzgzIBrJRAnhb85arsioAj4RyCJfYigea20uCGSSq6ZRRnsQsib+pPPebKG9qTiv7cRFZYVIDKKiqmELQGZR3elvP+VmR6JvQopTetRaqtGlNKkjoyTye4MGa+klBWCdHFR5M9Zwm6QzpT/RVnwFeIuCn/8s8zy0bw+Fa/ZIn2TOPq7cFE54585qdQDmxLmWviLf/Y8s6/5rkRSJhLhfccTJ2IQqvh1De8kdXRFwA8C4f7+muP7Ob0270dAfz9C+1Wo9nQIKAsGWwqK124lBDKKu8HmSsjo3YEKflxBJRu2U0bvg7hfLSrdvFOsFbAsIH6hZJN/Uy4sF4V8PKwTmUd3o9JtWpkvtF8jHU0RUASiAQEUI1PxRQABx0jnVQktAtWuQBSv3kzpfZjdj2MYkvjpv+Cb331WiPiFrON6iCsjKTOdSjZzVb6CQsrgrAnj4BaUXCub8meWUQH7HMwNJWu3SECmkV8oro0UtkYkLf2LYy98yy47Ha9tioAioAjEAgLnnHNOLEyzWuaoCkToYY+IAlG6J8/RfYHlYF/+DOaq51RPxEJwCLWs0uO+4K3ilZsIigaCJ6UPjtueS3nTfyk7joMxEQsBMd0X8nnmr9KGWAi4Lwx2dxBcHhyP4aQ8FP+5Ufrrf4qAIqAIKAKKgCIQGIGIKBCBp1C2F0GPAYUzJUzlwdqvwuP2dzb2x1hg00l5sI6pnxUBRUARUAQUAUUgMAKRy8IIPA/dqwgoAoqAIqAIKAIxhIAqEDF0sXSq8YXAscceK6mLwa6qsscFex7trwgoAopAIASq7MLQNMZA8Oo+RSB2EQB9NFg3v/rqK9q9eze1bt1aSJ9uu+02KYTldmV79uwRXgbU+Pjtt9+8qK5RW+TOO+8UcivwSeAcqFgK7gdU0jQF1N4oOAaabxTtQtnvk08+WQppgT9CRRFQBCKPQJUViMhPWc+oCMQHAmBnrIxU9rhgzrVp0ybq37+/UGqDhKlZs2ZS4AtMlmDfBCW2WwEzJ5QHu6A2BYp8oSYGGCNROAzEUiDJAmkUSKpMAeMlapCg7DeKaGE/qo6i1gcKeYHESkURUAQii4C6MCKLt55NEYgJBB588EHKzc2ld999VxgcUeXz1FNPFbZN1OCoqMCWuUgoAWPHjpWbvdlmvv/73/8mFM5COW8U4ALzJMjCwCgJRQJKBQTFusDQ+dRTT0l1TdBWH3nkkWJ9gHUDVgwVRUARiDwCqkBEHnM9YwIggDoZKLyFG2+bNm3okUceoUmTJsmT8pQpUwQBeyzDCSecIDUg4DrAzRpm+tq1a8vNEhU1TbEfZ7aH8h2ERCjJDTpoq6A8Ntj8ULOjItm2bZtQSUMpwJztMnjwYCmxjaJeVunVq5dsrlpVxgiL4mKoQwK6a6vAUrF48WLq2DG6Kvta56ifFYF4RkAViHi+urq2akEAT8so3AQfPUz3KBCFCp2IJ4CgTLWToB0ltlEHAwWi4CpATQhU0cSNGzECbqSqZbpxXtz8nQpuoRYIanUsWLCgwqnAkgALA5QpJ0HRLBTEssv69eulyaxdAQxQnRTKmIoioAhEDwKqQETPtdCZxAkCqAqJYMDRo0fTAQccIJ/hu8/Ly6twhag0iYqVsEbgqRumfdyIN2zYIP7+CgfgDlUt071582Y5jd0ygMZkriMDy4jZRzo6/Id4BVToROBjw4YNHXo4N2FcMAZi3YjBgEAJQwzG22+/LfEScGFgDii8heqcKoqAIlA9CIQkiHL3/CrV46qelYforLUO1+CtEEEZF8MgWwGmd5jbcbM1BU/tKPU9ZswYs8nvu93c37RpU+kLJSISYio6gSwlqMTpT2BBgHXhtNNOk5gGf/3s7du3bxfXDZSozz77jFCts6SkRBSvWbNm0ZYtWwiKGCwTqG2Aapy9e/cW645mYtjR1G1FIPwIlP/Chf9cegZFIO4RQPYCBCWn7dK+fXt7k882bpr2uANTEYE7IBJilscuLGRqeQcpKCjwlNB22E0jR46UZrhy3ApSM/v27SvBmVAeULYbgrXjBaUCwZbdunWT9E7ETyCYE0qVG6XM7Ty0nyKgCLhHQBUI91hpT0WgQgTMp3entEKntgoHrIYOpsVj69atPmeHEgNLAVwKToKAx+nTp8vNvUmTJk5dfNqQhtmnTx+CwvLNN9/QwIEDPX2AGVwg7dq1o7p163ra8WHAgAESlPrLL794teuGIqAIRAYBVSAig7OeJUEQMOMGEIRoFzOrwN4e6u2qBlEibgM3fwR+2uX333+XwMjDDjvMvku2wcsAQeYFbv7mC3EckK5du0qbaU1BiuZxxx0nmSrgm0Dsg13AEwH3hV0wBjJC/Lla7P11WxFQBEKLQMQUiGQOPE/O2v/KDO0idDRFIFoQwJM5br64MVqlqKjIVeqj9ZjKfq5qECXOi0yQr7/+muxWCKR3pqam0nnnnec4PQRA4qZuf5nuDDBRYh/GWLNmDQ0dOpQ6dOhAM2fOdHT74CTDhg0Tq8eMGTO8zonsFsgRRxzh1a4bioAiEBkEIqZAZLRIoowDkiiNrZBpnFqe3TGJUsqZaiOz2gBnSedA8eyDkiizJb9aJ1GyZowFQEt3BUIAT9t4Ur/99tvlBrx27Vq54YLTIVYEKadQRGBJ+PPPPyWF9L333iNkmNx1113UsmVLWQpYMWFlQOZIsAJ2SaSmIlsDJFL+BMoM3BXDhw+nuXPnEgI4oTwgUBNppZdddpm/Q7VdEVAEwohAxBQIrKF4h0EFHEhewGnexdvY9NiwLIMhlX9Xa3RNkldavbLVZhzA+fIcfJ7TpawPtvE5q035zR2KSI3uSaKMpO6nw89oxooKHyfjcf/k/dYOjJvTOUleOM4u6U2SaN9yg/LXGVSaZ1BaI82usGOk2+4QQG0HKA9IO2zRooVQLx9zzDHCDYERcMONdkEgJ/gX4M5AcCOUn4cfflhSLO+9994qTx9KAFgqoUAgq8J0dVjfTcUAgaVgpkRmC17IuEAKJ1wfmGMg5aPKE9UBFAFFwC8CSWxOrHIOpps0zqx2SVRaQFSyx6AkTh7NaJrEyoRBRdv5Zs83+n0ruZ3VmawDk2jvUkOsFSk5RPlr2BxaQpTJisO+ZWz6ZEUhJafsWDnuT97PweKwaOA4sR7w+Pu4PaN52Q91wV+G7M/jNuJ/UCRyf/WzbD4ku0MSFW40qHiXX9w8OzSN0wNFWD988MEH8jQcgq9rWOcZaHBQMeNJHUGDuCmrJA4C4f7+hnv8WL9Sik94rmBELRCpbKVMa8Cui1pJlLe2THlIyeZ7Ot/L8Q5rAZQM07VRuMWgEk43Nzh7DfvgBoGyULCeFQkeq3gP92duHigYJXtJ2gBT4T9likLxToMQewGBdSG1Fqwa+y0YDg+BOEdOJ1Z0+JxulIeykfV/RcAbgbfeekuekO3MkT/++KME/HXu3Nn7AN1SBBQBRSAGEQgJkZTbdRduLlMarP2TcIPn+z2sEhC4OaAUEN/soThAoCDAupDOrofMtkllfVjRMPdLJygEplJQKi1l/3EbLBs57CIp+qfMAlLKSoxdEOCZzdYPuDBUebCjo9vBIABzP4pQgXoZNTDAq4DgQ/j6QXFdqxZ/uVUUAUVAEYhxBCJqgXDCqmQ3t/L9vJDZc/FKzva9ucMigeDLgo37LQm1WYng42CFgEBBgLujhC0SToLjYVWA5QLKiGmVsPaFiwVuD1UerKjo58ogAAZGkB6hSiQKPYHHANkJjz32mFSUrMyYeowioAgoAtGGQEQtEE6LN9haAKtDzsGsOLAiUJLLN3tbzSC4J5AdARcEpbCiwa4NuDLQF8clpfEY29kiYbU8WE5WzP0yOWgc8RWIX8NxyLoo3J9aDutHCiwQHPtgSvE2jr/g2AkVRaAyCECJwEtFEVAEFIF4RSBiCkQeB0n6E2RmwL0B5QCKASSfYyQ8wh/hwoC7wyji1v27cINP4mNgwTDdGfmry4+DRSKPgzYhuYv3H4/xuT+sFqbg2N0/lh9ntuu7IqAIKAKKgCKgCDgjYLmNOneIVCtcC6by4O+cst92n5fj9sdK+DvObPeMz2PgOBVFIB4QOP7446U+RDysRdegCCgCsYNA1CgQsQOZzlQRUASqigDiQ8466ywpy40g04MPPpjAL5Gby/5Fi6xYsYLOPvtsiSNBUCpYKx999FEqLfX2V4a6n2UK+lERUAT8IBAxF4af82uzIqAIJBgCS5cupcMPP5xQ42LOnDnUqlUrIYoaMWIE/fTTT0IwBUhQ2bR///50yCGHEOpkgCb8888/pwsvvJD++usvevHFFwW5UPdLsMuhy1UEKo8AiKRUFIFoR4DTIOG8ivZpVsv8mJHRyMnJqZZzV+akJ598ssHWBIPrbHgdPmrUKLnGXIND2q+++mojKyvL4OJgXv04m8VgxkqD6cLD0s/rZCHaCPf3N9zjhwiGahtG8QkP9OrCqLzupUfGIQIoVX3TTTdJ+Wi+eUmBpxNOOIHmz5/vtdpZs2bRscceK5wOMMF36tRJOB8KCpigZL/gONRqQIXKQYMGSZwCSlKDjnnPnj3CDYGnaxwPOudnn33WPFTejzrqKKk5gXLVKHFdo0YNYkWBQIu9aNEir772jYULF0oWCCipYfrH+GDB3LWrnF7V7VrtY1d1e/DgwZLSalYuNcfr1auXfDSrlvKPvqwba7DK6aefLgW5PvroI2kOdT/rufSzIqAI+EdAFQj/2OieBEQAVSZB+DR+/HjasWOHmM6hSOCmvXz5ckHkm2++kToMuLEtW7ZMCmahwBRet912mwc1lJlGaW1+kpYbJkztKFKFsfkpnN544w2aOHEibdiwQUz1N9xwg5zPHAA3flTDhGn/vvvuk5LWqPKJ4laYD8Z2ErgB+vXrJ3ECoM1GaXEoJ+PGjaMhQ4ZIOW4c52at9vGrWioc46EI1o033mgfmtav5yI5LFB24KLAvBEbYRcoZWlpabRgwYKQ97OfS7cVAUUgAALhMWzoqIpAaBGIhAkyLy/PSE5ONriIk9fk+andYGXB4JuwtPOTvMHWAIOrbHr1YyuBwSyUnrZTTz1VTPKfffaZp43LesuxfAM0WHHwtHOZa+nLzJWeNrgm+E/XmDBhgqcNH7gqprRzZUxpt7swjjzySIPjBQym0vY6buzYsZ7x3K7Va4AwbrByZXDhLqNLly5GcXGxwbTfMlcOmHQ8a+PGjQ2uJxLyfo4nC0FjuL+/4R4/BBBU6xCKT3jgVwtEAOVKdyUWArAYNGrUiCZNmiSWAb7ZCwCgnsaTN56cIaNHjxYXhFnSWhr5vzZt2oiLAJYLqxxxxBGezdTUVMk8aN26NTVt2tTTzjdE+QwrhV1QddIqcIdA4Bqxy+7du6VCJfrAgmEVpHtCEJDodq3W48P1Ga4UVrYEO1QwRfVNVnDkdJink6AdFT1D3c/pXNqmCCgCzgioAuGMi7YmIAJsfaBPP/1UbvBnnHGGlI1GnAM/6RNucqagSNaYMWPE7QAlADdqKAZwSUBKSspJRnAzRG0Mq6Bkdb169axNnhLf1mPRAaZ6ewyAeezmzcz9bhO4Q5DiCDeJtTQ2PiOLAQL3gNu12oYP+ebKlSulMilcQWypoR49esg5EBcCKSzczywnW+X/IdYEfULdr/wM+kkRUAQqQkAViIoQ0v0JhcChhx4qcQ1z584lzgogPNHfcsst1L59e0IwI+Tcc8+VgETEEyAeAsoFlIpLL7005FjhRm8XNkZKk9M+sy+7YSTQEH3tL9TpgLhZqzleON4Rn9GnTx9REoAju4A8pzGtM4gBsQu7OARzKESh7mc/l24rAoqAfwSqzAOxfVTZU5f/UyTGnnpjRiTGQhNglXhah9sBrwcffJC+//57QkbE/fffL9wDU6ZMkQBEEB9ZhWMirJsh+YwnbWROWK0YCC6EmG4P64maN28u1gW3cwm0Vrhy7AJXDoqDVSScYimFxPz1QzAoXDPIXoHlAa4jq3A8BDVp0oSWLFlibZbPGBtKxGGHHUah7udzMm1QBBQBvwj4Pt747ao7FIH4RoD5Bwg3YHuKJAfryZMubtxmmqY9BRE3NRwPMS0EoUJrxowZXkPNnj1btgcMGODVjg2kenIQJX311VdCxGTtAKsKshqQpeFmrdZjzc9Yt92i4bSNKqT+ZM2aNTR06FBhlZw5c6aP8mAed/7558s87VYIDogTlxGySCCh7meeX98VAUUgMAKqQATGR/cmEAJ4okUswyWXXCKBhnBLwD2BeAfEDYwcOVJYE5FmiPTLxYsXi+ti2rRphJgJUC5DOIPAKw6iKhAihRRWECgRCBpE4CRSRfF0fs455zgO/fjjj0sg4kknnSTuGKwDCsXFF18s8Rqc6SBP7xWt1XHwEDRee+21ghvSZWvWrOl3RKS8QmGBywipq1gHZ6BITApSZs0g1lD38zsh3aEIKAJeCKgC4QWHbiQyAgjIw1M6CI2gDMBtgNoLUBbw1Dt8+HBxDyCGAFwEpmXi+eefl/0PPfSQmO2RUWB3b1QWV2QbIDgT9R/gssA5MScQWZkBhPaxe/fuLZkYsKaACho3aZBXnXnmmYQn/szMTDm2orXaxw3FNpSgqVOnijIARcwe6IltxG9AEDz67bffipsC68b1ePjhh+npp5/2wjfU/UKxTh1DEUgEBJLY/GhUZaGuYyBSkimlUXk0eumOvWTkO0dYV2U+1XWsxkCEF/kPPvhAnkSr+HUN7yRDPDrSLnEDBWulSmwjEO7vb7jHj230iRSf8FzBKgdRup1WSr0aVPNfx1HBnKVySDJvU1oK7X1nrtshwtovuX5Nyj7lcCrdtVfOU7x8AxUuXhfWc+rgikBFCCSSwlQRFrpfEVAEoguBiCkQWLaRm095M8vJb+rcdy4l184mYx/ndJ/Vl9IOPICK122lve9/S5RElH16H06qL6WSjdupiG/ouMEnZadTwbfLqODHP/lzBtW44CixbOBmnzdjESUlJ1H2qYdzoBfrJwc2ocIFK2nf1AWUlJ5KOejbuA6VbN1Fe8fPIaOgjCgIc0tr05gKfviDin7/m1JbNOBzHaYKBIBRUQQUAUVAEVAEHBCIaAxEUkYapXVsRmmdmlP2SYeSsbeAn/j3UXrPduzOKKZdT0yk0h25lHVCT2JnM2X0bEslG7ZTwbwVlDmoiygfe16aTmldWlJSTgZl9O0g+3c++gmVbt9DGYcdKMel92hDBd8to93PTaP0w9uL8pDerTUVr95Cux77hEr+3k7ph7bzgqPgpz9Fecjo3Z6yz+xD+T+U1T3w6qQbioAioAgoAoqAIiAIRFaByEqnjF7tRDEoZeVh9/PTZBJpB7cgY/c+UQxKt+dSWtsm0l66M5fy5y4VS0HJ5l2UfWIv6bN3AlsP+Ph0Vkby5/5OTL1HhQvXUHrXVnJcycadVLxmiygjJZt3ipVDFIQ/1lNGv46U1r6ptEln+39suTD2FVJ65xb2PbqtCEQUgc8//5xyc3Mjek49mSKgCCgCbhGIqAujdOdeyuWbv12S6+ZQyfptlMzuCUj+V4vlvZRv5Kbkz17MrowdBOsCrBewViTVKnN/SB+O3iZ2X0CMomJ5L9vg/3lf5lGdRfko/HmluEMo1Vt3SjuwKRXD2jF/BRX+vIrq3H8ewWJidXOUD6qfFAFFQBFQBBSBxEbA+y5aTVgULf2LSrbsEmtC8dqtlNKkjs9Mcs7pR8V/bpSgS4lTaNVQtlPblVkr0jocQEUrNvocZzakd2tF+yb9wHEOyym1jTfrHfpgnPRD2kj3pMw0grKjyoOJnr4jIwIkTbEkF154oVeaJAicVCqPAMixzLRTO5FY5UfVIxWB2EUgKhSIwp9WUmb/jlTziiGUc+EAdkes9kEU8Qu1bjhJgiaRMQFloeD7Pyjr+B6S3ZE1tCcVchyDPyn4ZRXlnMM58Zcdy/ESueyi4DiKzPJKf7BMwL1S69oTqOaVQ7yCPf2Nqe2KQLQjgEJfyOTAq3Xr1jJdFNvi0uTUuXNn4YQAHfSVV15JO3fu9FkOilmBgAo3ThQVc5JgxnM63qnNzXlB2AUCL9TEwDrBzXHrrbf6pL3+/PPPdOKJJ0pxNPBqoK4JyLgCpcdin8lTAcIwCAp+AUfwfKgoAooAP3hHCoSSrbtp12hfbn2cv+Sf3bT7hf8RUjtLd3MZ3+Kyaoa7x0zxTA+uhQLOqEjOyeQ++6S9+O9ttPuZzyi5Lh+H9MtSDmBg2f3sVHnHf3te+lw+w8JR+AsrJuzeMIpKRHmw8lBgfrufm0rJNbOoNJfnUDaUZxz9oAjECwJggpwwYQK9+eabBMsKqK1BMgWWSxS4grIAQVly3KD9VcQ08XA7ntm/onc3550zZw6hmNlpp50mXBmoUIqYkREjRggZGPgzUGwMa+vXr5+sA8XQYDkAjTdIwfCO9ToVJbvpppto9WrfB5mK5l7d+81rV93z0PMnBgIRUyDcwAnLQEDhlE5TebD2Q+aGG0G6qClW5cFsw3vpHlYeVBSBOEUARaxeeukleu211+j000+XVaJ2Buivn3rqKfrjjz+ETRM3cbBYgpETdSvABOkkbsdzOtapze15QV+Nol5vv/02waoAAbU3rBKwlCxYsEDoutEPlN2vv/66h7kTFN//93//R9iHKqAolGYVMGWOHTtWlKqPP/7YuitqP0NJAluqiiIQSQSiSoGI5ML1XPGNAG4KePrcsmWLT+zCnXfeSY888gh9xfUhUJAKtNDYnj9/vlR5bNWqlVA/4yYD07iToFIn6jNs2rTJazdora+77jpCwauBAwfKvoULF9J9990nT8bIqoDJHU/2d999t1eVTa+BwrSBG2lOTo6sz3oKPLnjZcrmzZvpxhtvpCuuuIKgJPgTt+P5O97e7va8Z511llB7m8qDOQ7cMpA1HO+B2iaoYQIKcDvtd7t2ZWncq1at8lIgUDANVNqov4HrFysKBGjL/dVGMbHRd0Ug1AhERQxEqBel4ykC8Nvn5eXRp59+6gMGCjK1adNGbhx4AkVZadRTgI8blR9RqAkv+MmrKqYJHXECMJfjBoX4g3HjxokJHmWpnQRls82AvUDvmHMwAtP+IYcc4lcxMsdCwCCUh4rE7XgVjWPud3teKDfDhg0zD/O8o5Iq8DIVia5du4qSh5LoVoHyB0F1UqtcddVVokQ+99xz1mb9rAgoAk4IcFCQiiIQ9QiweRZRKa7nyQGBBheNMjjgzeuY77//XsZhi4C033zzzQZnVxhr16716sdPnwYXb/K0sZJh8JO7Z5vN+wY/2Xq2zQ9845Hx2QIhTeweMNjiYHAlSbOLvLOJXPpxLIJXeyg3LrjgAoMtKF5DcnVPg59Ujbfeesvo0aOHYFS3bl2DS2Ib/LTu1dfcMDEbPXq02eR5r8x4noMr+BDovPZD2RJkYH4pKSnGPffc49nNcR1GnTp1jFNOOUXWx+XYDY6VMFhhNNjK4OmHD+PHj5drwgqmtLOrR7Z/++03r374TuH4YCTY728wY2tfRaC6EFALhJNWpW0xjwAqN/JNQwLrdu/e7VnPO++8I0+osFBA+KYj0fhmaWizIywUeGqFT76ygvPiCX3QoEE+T/wIXoTMmzevssMHfVxJSYlYZeCyQYVPBFHC4gLfOeaJKp5OmRj+ThTq8fydJ1A7LAmwOKC8+f3330+PPfaYuIbMY2CBQPVUVkaoRYsWch2APVxcr776qtmN1q9fL64nBGXCfaGiCCgCFSOgCkTFGGmPGEUASgI/cdKkSWXZP7jhoSof4h6gIEDYMkBjxoyRgMGmTZvKDQZBd7jBQnBMZWXDhg1MklpK/GTr445AHAQEPvpICbIN8IJihJtqt27dJD5k8ODB9PLLLxPmCyzcSqjHc3teaz+kbvLTF23fvl0CKlHqu0+fPh7FD64iuKguvfRSiYvA9wExHYh9QIwEFCjIyJEj5R0BpiqKgCLgDgFVINzhpL1iEAHcOBo1aiRKA6aPJ28E6SGFzxQ8bbIbQ+IREA+BGxGUCtxwQiUIysNNzumFG3mkBE/qyFxAACG7LbxOC6UK+5Hq6FZCPZ7b8zr1w3qQVTJ58mTJwIAlAvEl11xzDSHgFdsIjkXQJSwtsL4sX75cLFAIBJ0+fbooUbBkqCgCioA7BFSBcIeT9opBBGBJQKDdF198Iab5d999V564EcEPwRP3lClTxGR97733yo0VGQo4jmMiAq6Yfe2O1gkoKKYgMh5P6RWNZfa3vocriLJnz56SmWI9Fz7jZgsFx57VYO9n3w71ePbxnbbXrVsnFgOkcNrFDIpcunSp4A5CqE6dOtm7UYcOHaTt999/F/4LbECZhFJkvhBQCYEbBG3+Al6lk/6nCCQgAqpAJOBFT6Qlw41RVFQk2RhwZUB5gJIAgTkbYqclxk0FJEMQ3FSdBKmBprXCun/mzJmeTVBfg2MB6aL2dM+5c+dKBgCyNJwEc3KyWNjbkLUQjEChwrxnzJjhdRjSTiF4Wg9GQj2em3PDioJMmmeeeUZcRNZjwDoJgZUF1gSk4ZpMktZ+Zlvr1q0Jbg87rtg23RkcRCn7oViqKAKKQDkCqkCUY6Gf4hABPCEjpQ8BdgiItLovYNIGXfHEiRPlJgPXxbRp04SjAQRKEBATOcVBgFwJ8Q0YFzEFUBDAG2FPFwRBE6wVIC9CyiXOAYUCig1ubl26dIko6pxtITEgwAFKzL59+4SzAtwViCeAuyUYcTse3EN4igdrZVWFMz+ELArKwuWXXy6xDVgH2Ckxf866oOuvv14URbin0A7SKMSboB9iIJCiin433HBDVaejxysCiYsAa9oqikDUI1CVNDj2f0s6HgdOGnzT91orkzwZ7P+XVE6k+7FiYDCXgLFy5UqDn+4Nfuo0mHjKsKdxsjlb0gX5CVZSJTH2o48+arAyIudCqqApzIoo6aRMtyzjsWvDYGXDYE4Is0tY3p3SOHGivXv3GsxxYbACZaSlpRkcPGrwjdhg94tnHpgf/yr6fWFsU9yMx8qKjMU3bPMwx/dgzsskTwZnUxi1atWSdFSucWFwATGD2TS9xuZ4B4OZGo2aNWsK/kirveiiiwyOgfDqZ9/QNE47IrqtCHgjkITNxFWfdOWxggCyJ+Cj1q+r+yuGapwfffSRWD3cHxW+nih0hZoV//73v8N3kgiMjFRPWFQQp+JW9PvrFintF0sIqFMvlq6WzlURiFEE4D5CECsyYVQUAUUgPhBQBSI+rqOuQhGIagSQZhlJzouoBkMnpwjECQIaRBknF1KXoQg4IYBMEzMtcQ0XmFKpPALIeAGW4JpQUQQUASJVIPRboAjEKQJgwETMiPlCyqJK5RFAFo2JZTDxD5U/ox6pCEQ3AqpARPf10dkpAoqAIqAIKAJRiYAqEFF5WXRSioAioAgoAopAdCOgCkR0Xx+dnSKgCCgCioAiEJUIqAIRlZdFJ6UIKALhQKB0Zy7tnTKPSrbsDMfwOqYikFAIaBpnQl3u2F+sSTEd+ytxXgFosxHpjyJcwcq5nfvR7DWLacve3cEeWu39UagqnLUmkniFh+TXoKF7GlCj4nSaW2MHfZmzg3YlF0dk7X///XdEzqMnUQQiiUDwv1KRnJ2eSxHYj0CLFi2kEFa8A4LCTWA5DFaObduVhrbvSQ8OGkb4HEuCeiN4hVOO3FeHztjdiJqw8oAfvb5761CbwkxKNaBahF9QmdWsAhv+s+kZFIHIIKBU1pHBWc+iCFSIACpiHnPMMTRu3DjiWhMV9jc7GHvzKW/qT2QUlZhNlNa1JaV3a+PZjuYPKOo1cOBAeuONN6TIWDjmCtfFjvvfp8Kf1xCVlMop0rq1pDr/PoNSWzYMxyl1TEUg7hFQC0TcX2JdYCwgwAWppLLkKaecEpTygLUV/PCHl/KQlJZCae2aVuuyDfYMFG4xqLSsYnrAuaDkOaqBooLmunXrAvat7M7kOjUo55z+lNqsrmeIol/XUd7MRVS6c6+nTT8oAoqAewRUgXCPlfZUBMKGwE033SSlwF955ZWgzlG0YgOVbPIOCEzv1Y6ScjKDGieUnYt2EO1bZlD+WlYiNnNJz6KKR+eKqQQz/4gRI8JWMC2zTwdK789skjXLsdn73ndUuGI9GcXl1puKZ6s9FAFFAAioAqHfA0WgmhGYMWMG/fe//6UXX3yRGjdu7Ho2pbl5bJJf5dU/5YC6lFqN1oeirQYVrDWoZB9Pi+v8FrEVoiS37LPXRG0bmZmZ9PbbbxPcGc8995xtb4g2OTi15rAjKa09W2f2B6kaewsod9wcKtnIWo+KIqAIBIWAKhBBwaWdFYHQIrBr1y4aOXIknXfeeRRUhgnfnAvZdUGWJ+ektFTK6N0htBMMcrTUupxBggf8/bGJBocbFG5iV0Z+xQP17NmTbr/9drrttttoyZIlFR9QiR7J9WqyK6MfpVhdGT+vprzZv1HpLmg9KoqAIuAWAVUg3CKl/RSBMCAA3z9SGIN96i5a/jeVbN7lNaP0Q9l1kZ3h1RbpjSRODE9vzEqEZRrFe1jP4Qd8xEVUJHfffTd17dqVLrnkEioqcuH7qGhAh/2Z/TtRRt/2lFSj3JWx7525VPTnBi+FDIcef/zxVKNGDYdRtEkRUARUgdDvgCJQTQh8+umnknHxwgsvUP369V3PonQ3uy5+We3VP6VZPUpt28Srrbo2UjlOMbUWGyFSymdQuLncrVHe6vsJXBBvvfUWLV26lBAXEYw8/fTTnsqjZgVS+zsqanInqnH+AHZlMF7JZaaS0lx2ZUyYQ8Wb1JURDObaN7ERUAUisa+/rr6aEEA1xyuuuEKCBk8//XT3s2DXRcEPyzypiDgwKb36XRf2BaQ3ZStEVnlrKRsTEA9RWlje5u9Tp06d6MEHH6QHHnigUvwQH374oadqplk903xHRU1ISoNalHNWX0LMiCmF81dS/pwlVLpbXRkmJvquCARCQBWIQOjoPkUgTAhcc801lJKSQk899VRQZyha9heVbvVmmkw/7EBKykoPapxwd4YLI70BP+BbplW0nT0EPHXDRcIDslKOOOIIcWXk5eWFZbqZR3XmmBF2ZeSU+1v2jmdXxspNXgpaWE6ugyoCcYCAKhBxcBF1CbGFwPvvv094SkbmRd265U/AFa0CQX6FC9d4dUtp0YBSW7vP3PA6OMwbaQ2TKIXDB5IsvzKFG90FVILKG8RS69evp3vuuScsM53FxF1XffYKLd36NyeMsGmHBe6hPeNn+3VlbN++naDctGvXjrKysqhRo0Z0wgkn0Pz5873muHDhQjrttNPENZWRkUFt27alm2++WVJ1vTrqhiIQwwhY/rRjeBU6dUUgRhDYunWrECZdeeWVEqDnetoGp0fCdVFaxqKI45Iy0ijj8Pauh4h4Rw4vSD8giZLKYxUlG6NoK1shXLgyWrduTWPGjJHX119/HdLpgy78uOOOo5IGNajjHedTStNyRa5o3irK/3Yple7xtXwgWwbK3/jx42nHjh00b948USTAILp8+XKZ408//UT9+vXjS1VK3333HW3bto2effZZiXcZMmSIBM2GdDE6mCJQTQioAlFNwOtpExOBf/3rX5SdnU1PPPFEUAAULWXXxT+czmCRdFYekjItPgLLvmj5mJJNlMbxoUlp5TMq+segYnBDlOtC5Tttn5Diiid5EEzt2eO9flvXoDYnT55M4J4YPXo0HXDGAMqEK8OSwbL3bXZlrNpEKWY+Ko+en59PM2fOpKFDh1Lfvn3l+DZt2oilBFaG6dOnyxxGjRpF9erVE0WjQ4cOksVx0kkn0aOPPiqWig8++CCouWpnRSBaEVAFIlqvjM4r7hAAUdKkSZPkhlOzZk3X6yvdtZcKf13j1T+1VcOYqeGQ3ohdGaxImPdiDzdEgdeS/G68/PLLBKrv//u///Pbx7oDfBr27Atze/jw4dIVigMUkpYtW0omRo0LBjABV6P9jgzWbZjeeu+731Dj0vL4iPT0dHFZ4BpOnDjRk2Zaq1YtQlAsUnJ3795N3377LQ0aNIigVFgFKaEQWC1UFIF4QEAViHi4irqGqEdgw4YNdOONN4r7AoWjXAtcF9/BdVHmo8dxcF2kHxbFrgvb4pDOmd7EmxsC7JQIqnRDc92wYUMCxTdiRqZOnWob3XczUBbGm2++KQfAmgD3SP/+/alp06aU3boJ3TH5ddpcUG7lKPhmGfUqrkP1U8vSSRCXgdRbWBfOOOMMqlOnDh177LH05JNPEmIjILjOcF3AxWEqLeZ7s2bNpM9ff/0l7/qfIhDrCKgCEetXUOcf9QgghfCyyy6Tp9dHHnkkqPkWLVlHpdth7y+XdJjbWYmIJUmtzdwQdVj5YaIpU9xyQ6A/3Bjnn38+XXrppbRlyxZziEq/n3vuuRLUiJgExENAAXhx9Te0tWEq5ZeUE1gNKWpM3bI4SHV/7Mmhhx5KSAUF5TZcFbA43HLLLdS+fXv65ZdfPPPB9TZTR+3vn3zyiaefflAEYhkBVSBi+erp3GMCgddee03843iCRuS+W0EJ6sLf1np1T23TiFJbNPRqi5UNsUJg+RxcCQEzJZQINxU70R+EW4hbQBxJVQRWgilTphCUiHvvvVcyKnJycig1I50mFKyg1XlsTdg/xxpGKg1v1INZP8sLlsGigBRTcFUg+wKBklAk7r//fikIBkvF2rXe160q89VjFYFoRUAViGi9Mgk8r2uvvdbH/Guage3vixcvjmqk1qxZI0+6eErFTce1sMvCx3XBXA/ph8aO68K+VnBCIB7Cyg1RzPfl4l3uuCFq165NY8eOlTiSd9991z686+2CgrLgiwYNGngd8/vvv9M7cz6nd9ezJaFheYxKv5otKX/ecpo7faYoCIsWLfI6DgGVcIMg2wK01yhP/tVXX9GmTcwnYRFYLQ4++GBCloaKIhAPCKgCEQ9XMc7W8Pzzz3uZf5H6CDn11FO92mEa7tKlS9SuHvNDuibKVN93331BzbNw8Roq3bHX65iM3gcJ66RXY4xtpNVjFki+N/twQ/hmTDquDDEHV111FV199dVU2ViCVq1aCS8DAiGhgCIeYtq0aRLXgADMsf/8TDsaZ3KGS7mbKPetr+iQBs0pIzVNyK0QCInj4PpALAXmgowRyOOPPy4kYci8gLsD/aBQXHzxxRJYGc3fWUfQtVER8IOAKhB+gNFmRaCqCKBA1qxZs6S2A0zvbqV0+x4qWuwdaJfarjFXkKzvdojo7ceugQzQXFvgAL11IZcBd0NzjYUhgwIETrhhQ0kLVuBiQBzCgQceKOmYsB5AaQXB10MPPUQduF7GRRNG09a08liI0q17qPjTn+mrT6ZSr169pHIqLCJI04QigmPNDI/evXtLJgYURwRpIuPmoosuojPPPFPSQIP5LgS7Nu2vCEQSgST+Awz+LzCSM9RzJTwCSJFDJD4sEEihswvS41auXEkfffSR/FCD0AdpfwMGDKA///zTx5SMmwVS7mYzE+HAgQNlODAHwkoAM3Nubi4hYh6R9qgOiRtFsLJq1Srq3r27pB4GZX3gYL28/y3gNMLyegzgJ8g68dCYtz5YMUSJ74KNliwMViyy2iZRGvicXDzWfP/99+IqgJIGi0Q4ZO+nP9LeN2eXVz3l2Ifat55CWcd09+KMCMe5dUxFIBYQcPGnGgvL0DkmMgLIt4fCAKUASgaqMuIp062EmjkQaXx4GsUT7h133OF2GtIPfA9W5QGNGX1i33VhByEN3BA53Lo/WBEEDAVMc12Sb+/pvI24g1tvvVXiS1asWOHcqYqt2UN7UnqP1uWuDH7W2vPmV1S0hrNALGm1VTyNHq4IxCwC7n9lY3aJOvF4RwCBlYiTgPKAyHhE6aPNrYSaORAFsuAjR1lqkA+5ldJtu6lo6d9e3VMPbMI0yxw4EGeCGAip2Gl1ZbDRpWibxSpRwZqR9YDKnZdccgmVlLio0FXBePbdSakplHPhAEppU571Urp5F+37+Hsq2cqRnxWIUcxzUgNvBSjp7lhGQBWIWL56OncPAsXFxZKW52lw+SHUzIEImkNqINwW3bp1czkL7lZSSgXf/+F1w4HrIr3nge7HiLGeqRxMmcouCys3RBGndZYgdtSFYzUtLY3A7gn+BcRFhEPSuFBZ9om9KKVRLc/weTN+pYIFf5KR50ylWbqvgPa8PYv2fvQdldgCYT2D6AdFIA4QUAUiDi6iLoFvQmxxQDBcsBJK5kAoMXgaRqoeKi8GI4WLVhOqbVolo28HriGRYm2Ku88ZzFDpSHPt0pUBrKGw4fXrr7+GBZ/sEw6ltO6tmLwrtWx8dl/kvjGbitaiKpi3plP42xrafutbvP8rKuZaGlTEZBcqikCcIqAKRJxe2ERbFmIeUlIqf7MNBXMgiiWBIwCuCzwdu5WSf3ZR0TKb6+KgAyilCSIK41tgfUA8hBc3xO793BAu772IhejTp48wVSJlMtSSlJ5KNS4cSCmty10ZJRt30t5PfqCSLWWujNLcfNozdgbtuOMdKlq4lhWHEirZlstU3aF3rYR6fTqeIlBZBFSBqCxyelzUIwCFwsk3vnnzZs/ckWoXCuZAKA5IAYQS0blzZ8/4FX4oLqXCb+G6KO+ZlJPJwXttyxvi/BMyL1LZQ4CaGaYUIqDSJTcErh9qXKxbt44eeOABc4iQvqe1a0LZJ/Sk5Iblroz8zxdRwS9c+vv7ZWx1eJNyx83x4u4o3baHFQiXWlBIZ6uDKQKRQUAViMjgrGepBgQaN24sRD/2p1KUZDYlFMyBRUVFwkmAOgnXX3+9ObSr98JFq6g01/tOmdGPXRccwJcwwvGu6QewFcLC8l3KFAyIh3BLc92mTRspkQ4SJ6TihkOyTzqM0ru1KE+n5Wyb3U99Sjv+PYGKfv2LzSbe9cml/LoqEOG4FDpmlCCgCkSUXAidRugRGDp0qFRGRLT+rl27hA8CJaHx2SpVZQ7E+KBBxlNwMG6Uki072XWx3joVSuvYjAP26ni1JcJGcga7MphZ2urKKNrB92Qujony34FE9rMFB6yf4ARBCi24PEItKGCGst8prXii+8XIYxYsDoB1ktJdeawAsSZki5Nw6qttikAsIqAKRCxeNZ2zKwRAHXzPPffQe++9R7BG9OvXTwipHn74YTnerIlQFebAn3/+WZ58kQWAioxuBSl+Bd+x68IiyTWzKL17W0tLYn1Ma8gBlTXYlWH+KrFSULiBrRDeBhovUFASPG8Fuzs4/hSBtChctnPnTrrtttu8+oVqI6VxHU6rrVtuhQg0MCsOoCPXOIhAIOm+WEZAmShj+erp3KsVASggcFuAVvnLL78Minui4MflVLycqRhNYTN+5pBDKKVB8KyX5hDx8I4UzrzVfOO1JKSkN05i+mtWECyUGnBtFPxtEIpx4QE/p2OZ8gEMUGjrggsuoKlTpxKsUKGS/B/+oD3/nUHFKziGxo/VwX6uWrcwc+Wx3SmZ41pUFIF4Q2B/XlK8LUvXowiEH4E777xTAvdwoxLiKtzJXBBYlWza4a088FTTOjZPeOUBVwzslAiqLGTPAMp9Q4q4TkZKLaa5TuO2/dtCg81KhCnSFztZERs2bBhNnjyZkFnz22+/Ub16VSPiKt2RS7lvz6a86YuodHcAc4g5Gcs76pogI0NFEYhHBExjYTyuTdekCIQNAdRiAGX2f/7zH2rZsqWcBzeL/JmLyNjrP5UQ5mwhjLLMLLl2Nrsu2lhaEvsjLA4+3BCclQGWyrzlXENjHSsSFuUBaHkUiP3Qvfzyy5Jd4y+o1Sk7xwd1Vgjzv/2dto16g/Z+PC9o5QHjlWxHKqdmYvhgqw1xTCPxfQAAQABJREFUgYAqEHFxGXURkURg3759Qhh19NFH04gRIzynLmXFoWTTTsr77Ccq/tPinvD04Cfrn5nBkJkKPcIWCxBGUYr+KZqYCDcEE0whsNKUEo6JzFvFLguOf3UKqjRsrNF16tShsWPH0jvvvEMffPCBOYy8I+UWrqdt21gj8SO4Rrue/ZR2PvQRuyyYEKqStS/KUjnVAuEHZm2OcQT0VyvGL6BOP/IIIEAPtTdef/11r7gHY0+Z5UECJOctp/zZv3opCyUbt7NiwTcji6QdzDwU9cu5BSy7EvpjGieipHI4iJUbIhAgBipv25IhhgwZIm6Ma665RjJwYHUATweUB1Rftabz2scGjXj2kB6cttmyvJiWvZOL7VImk1I2ShdAaZeYRECDKGPysumkqwuBWbNm0bHHHkvjx48X5kPrPArmc2DkCm/LA6io0w89kFKaN6C8qT95KRTJdbIpa2gvzl1UPd6KIz4bHAORjyBJTuWEdaEiSWc2y4wDvAMtccyePXukrHrbtm0JdU+QNQNFAkyhoB1H1kYgMThYMn/OYo6BADU1U1e7DJ40x0xuXJvqPX4RpR3Y1GzSd0UgbhBQBSJuLqUuJNwIoGR49+7dqUuXLjRp0iSf0+XP+pVKNvIdz0HwRGt3XWQd34OS63FFKZVyBDgQsmgbxzkwPYZbEikcnMZxkhktvN0eaDc4juH222+XeBWUWQfplymonYJaKG7E2JNHe6fM4wJZP1DpVg6MdCkgBKv30uWU3qmFyyO0myIQOwjoo0/sXCudaTUjcOONNwoJ1SuvvOI4k1K+yfgTL+WBO6V1aaHKgw0spG7uY06H/DXBKQ8YRoIobS6MTZs20Yknnig8HUi5tSoPOGbjxo20fPlyfKxQkpijo8YFA6n+85dR1sk9KamGu7RMuLNKdzEXBEp7qygCcYaAKhBxdkF1OeFBYMaMGRKU9+KLLwoplc9Z+EnXriT49DEb2K2RdmAzcyvh3+GiKGDCqL1/7Od1sCkCbgAq5UQHZNGaMmHCBCH2QpwDrBBOkpqaSl988YXTLr9tqc0aUJ3bzqS6j11A6b3auCKUApmUpnL6hVR3xDACqkDE8MXTqUcGAVBfjxw5ks477zw6++yzHU8qyoPbSH1O5cyb+iMVr93iOFaiNUJ5KOTYUgmErOzi4ZnYryegWBroyUFnXQhCCT8CxeLzzz/3szdwc8Yhbane6OEEoqhUUFsnMwGFH9FUTj/AaHPMI6AKRMxfQl1AuBG47rrrqLi4mJ577jm/p0IKZzBiFBZTwTe/82spcxqU++WDGSNe+mZy7EJmW+Z+YBIpEEFVRiTQcr8CAdry+fPnS2EzEHyhWqeTIJgSQbF214ZTX6c2lPnO5iDY+i9cTjmXDKDkuliAr4AfROmsfXHRlthHwPkvK/bXpStQBEKCwJQpU2jcuHH0wgsvUP369f2OaeQGp0CYAxWv3Up5n7I14i+O8E9gQdpmNtNRZ7BnJ4kZJ4MVcENYlYjMzEx65plnaOLEiYSKq8i6cJK8vDxRNpz2uW1LrlODao0cTPWeGUmZx3alpGwL5zYPUspkUprK6RZN7RdLCKgCEUtXS+caUQT++ecfqfAIsqjTTz894LlLK6lAYFBYIArmLKWCbxPbGgHOhwwu6426Fsiq8BTVCoh8+U47GyX2nHrqqbR48WLhfnCqlJqenk6IbwmFpLVtTHXvPZfqPHAeB8k2ZyILXhBLCXNBqAUiFAjrGNGGgCoQ0XZFdD4RRwDFl5YtW+ZzXhAQ4abz1FNP+eyzNxi5/jMw7H0dt9nMnoSCS37M7Y7HxGljchZRVrskeVkprStaLhQIp3jJFi1a0Jw5c+iuu+4Sd4ZVkUCMBGqZhEzYZZLZpwPVf3ok1bpxKKU0q0tlbJRKZx0yjHWgqEFAeSCi5lLoRKoLATAToujSY489RjfccIPcZN5//30pyjRt2jQ6/vjjK5xa/oxfqGTL7gr7OXVIbdWQ0jkoz21qoNMY8doGpaBwMwdZcrxpRUGWGc2SKL1RYBfI7NmzJRh2x44dntgHxEjA2lS3LlfxCrGUbN1F+6bMp6zje1JqM/8usBCfVodTBCKCgCoQEYFZTxKtCCDDArENCKjDjeTwww+nZ599lk466SQ688wzCWmbbmTfJ9+Tkec/4t9pjOQGNTkVsJ1W4XQCx9YGjoj89QaV+KmFge7+2ChtQ9GWLVvooosukhLsIJeCfPLJJxW6qezj6LYikOgIqAsj0b8BCb5+PJGaNxG8L1iwgPr16ydZF7BIuBKmNw5GeQArZUb/jpR1XE9VHlwBzJ6dbA6yPJDdA204W4NdHE7ZGkYxc3E4Uz54naVRo0aSvjlmzBgCFwQkVHEQXifSDUUgzhEo++uJ80Xq8hQBfwiAaAgR+iZfgJnSt3PnTjruuOOk5kW7du38HS7trlM4OaguvXMLSuvItMapsaG7++O9CAhImHfWyq5DJ/Q+lfp2PopqZJVTgS9ZtJTGPzWW1v/zl+sZDBgwgFCa/e2335YCaa4P1I4xg8CoUaOob9++MTPfWJpobPyKxRKiOteYQuB///ufR3mwThzWCBRe6tatG7366qt+2QxxjOGCAyK1XWPKPuVwjs5vFTPKA9b20Ucf0d9//42PUSO79+2k92a/Rc9+8gQtXfMrZ0iWuY6yM2tw4oNzuqa/ySPuAVU74cZCrROV+EIA39+//nKvUMbX6sO/GrVAhB9jPUOUIrB+/XpauXKl39nBKoHXlVdeKX5zRPE7SaAUzhSuxog4h+S65U/KTmNEc9tNN91E55xzTnROkV0WRdvKqLBbNm8pDJRCSFWJ2e7bt4+ys9lXohI3CIBITCV8CKgCET5sdeQoRwAshAicNGMg7NPFPtAd33nnnfTvf//bvtuz7ZTCiYyK9J5tKbVFQ08//RAGBPj+kMZM0qm1kyRbA1wSlRVVHiqLnB6XqAioApGoV17XLYFz4ARwUiAQXAcGQ3BEVJTGaWWhTEpLpbRuLSntoOYB6yMo/KFFAOyVGc31aTO0qOpoikBgBFSBCIyP7o1jBKZPn+7hArAuE5YHBF299957dMABB1h3OX4WFwabStPaN2XloTUlZQTnh3ccVBsVAUVAEYhyBFSBiPILpNMLDwK///67xDVYR4c1Ai6Lu+++W15WxkJrP/vn5FrZlNGvEyXXVv+5HRvdVgQUgfhFQBWI+L22urIACHz55ZdCUw0CKQhSOWvVqiUui8GDBwc40ndXRv9Ovo3aoggoAopAnCOgaZxxfoF1ec4IWImD4LLo37+/FF0KVnlwHl1bQ43Anj176IknnqAjjjhCUi6h8NWrV4+OOeYYcTWh3Lpdnn76aUIUvv2VkZFB4Pa4+uqrCZk4TtKlSxc57qqrrnLaXe1tP/74I51xxhnUrFkzwnoOPPBAuvXWWwk4VSQrVqwg8Hs0bNhQju3QoQM9+uijjrFA5lgYt21bpltnPFGczC7IVrr44otl/5NPPmnfrdtxioAqEHF6YXVZ/hGA1QEMlHiHmwI/nsjIaNKkif+DdE+1IfDLL7/QwQcfLHwc//rXv2jp0qVyo5w7dy7hRn/BBRdI1c38fOeS6h9++KG4puCewgtKw+jRo2ny5MlSpXPjxo1ea0PhrSVLllCrVq1owoQJlJvL5bijSDC/I488klBJ9NtvvxUCrEceeURKzoPTwiko2Jz+pk2bRFkGhfu8efNo9+7dopjh+Guvvdbs5vOOVN7Vq1f7tKMBdUVAuhYoJdrxQG2MeQTUhVENlxAUumC/U6keBLZv3y43hczMTAmWxNNc1PIcuIAonpn2tm3bJnVJcnJy6IcffhCrgwlJ586d6ZlnnqGWLVvSzTffLOm2biqnNmjQQJ7eoUycddZZcuN96KGHzGHppZdeopo1axIsGCjj/s4779AVV1zh2R/Mh7y8PKmz8frrr9Nzzz0nilAwxzv1veOOO8R6APZMKBEQfH/xPcbTP+jYDzvsMKdD6cEHH5TvPrKLQJ4FQclzcJzcfvvtdP3111PHjh29jkW10rFjx0ptmI8//thrH5QHWO9g0Rg6dKgyPnqhE/8baoGohmsM5QE/hirVgwCKKSG7wmQgrJ5ZhOas8c60h8JmGzZskBsjXBZOgqfj3r17y9M0lAK3AusFxPpkje8GCmuddtppdPLJJ1PTpk3plVdecTukp99PP/0kLhIcDzcIXAxwN4RCoPTAnWMqD+aYUKgga9askXen/1BlduDAgR7lwewDRQnY4ftkFShwl112GZ177rl07LHHWnfJ582bN9ONN95I999/v88+bYh/BNQCUU3XuE+fPgTTqkrkEYACB/zjgaUuHtYQ6BswadIkYYc84YQT/HZDDEtlFPJFixbJmIgBMOW///2vsI8OHz5c3Fuo2ombNRQClH0PJLjZjh8/Xp7WUR4e/eEqGTZsmHCK4FiUDUfsQUWCLCG7JcA8BjdsJ8F68H0wFQl7H1A6Y45wB9kFCg7iSmC9sAqUH8SXwHpitz6gH+bob57WcfRzfCKgFoj4vK66qgAIgOMh3m+8AZYfU7twIz3ooIM8VTNDMXm4sBD/ANdPixYtxFKAcRE7gLonbdq0oUGDBsmpRowYIe8vv/yyvDv9V1BQICZ8WLXuueceCfRE3AZcCpdffrlHecCxcJ/gSb+iVzA3ZVgB4LrATR4pyE4KAs6NfhDMwS5QwmDhMftgP+I/8JDz/PPPu1J67GPqdvwjoBaI+L/GukJFICYRwI0Z1VHBCFoVsVcUxZN28+bNxU2BG655Q502bRqtXbtWzPGmgokbuUkqhtglpPraBXEOMP3DNfDBBx9E7Gb7559/Uvv27WU6wAjl5/1ZJ9AJ84TYXR/SuL8d9UAgCDS97rrrBCO4L1QUAScE1ALhhIq2KQKKQLUjgPREBLqitLpdkEqIm7z9BReCXexZGEg5XLVqlTxZN27c2NMdwZN4Eof7wiqwQqBS57hx46zNns9ZWVkSYPjdd9/JDf2aa64h0z3i6RSGD3A7wJIBiwoCKhH0CdccAhudxKz1gfU7CRQ2s8/IkSOlCzBRUQT8IaAKhD9ktF0RUASqHYHu3bvTH3/8QeaTsTkhBEBa3QBWXg+zTzDvCKT8/PPPxY2B9E2rYmJmYPgLpoSiAwsEntrvu+8+QnrpIYccQocffjghpiLcZcJRkhxBkHDLIIYBlggnQUAnZOvWrT67EecARQSBnsgYAc073Daa2uwDlTZYEFAFwgKGfnSHAKKx69Sp466zpVdlj7MMoR8TDAGYz+HGgD8+nALlADEQCxcu9FJMTCXlgQceIARGBkq/hisELoRff/2V5s+fT7169ZL0Uty4wV8B7gUEUVqVE3+fly1b5rjcdevWEawDsDjYxYx9AE+GkyBGAwoBOC7sglgTKBFI/8T8IcDeOj+TVKtr167S7kTeZR9Xt+MbAVUg4vv6JuTqKsO0ZwJVlWPNMfQ9dAjg6R9BlOA+wLXxJ043RX997e0w6eOpG1YDWDyc5JJLLpGbZqBgSutxuBHD/A+SqhdffJGWL18uFoqqBlEigwNF3sB/YSeM+vnnn2UKYNn0J+effz59/fXXPlYIpHeiAu15550nrhBTcbK+m+4MKFJoR3+VxEZAFYjEvv6VWj3qSDj5pSsarLLHVTSudX9lmfYwRlWOtc5BP4cOARBIgcgIN14EMyLTAOmIsErAFI/AR1A6gwvCZKQM9uxwP2Ase+yDdRyQVSEzA0GS/mIMrP3Nz4iPuPDCC4Xp1LQQmPsq847xkHEBZQEZHuB8gHsH7JTga4BlEGRQEPy9wYIAki1ToIgBS1gXEIQJ9k4oJBgTZFJYp4oi4BoB1iRVIowAE8EYeKmEHgGub2Dwj6zBpmKvwdkvbPCPqcGmWq9260ZVjrWOE8nP/Idu8NNj2E4Z7vHdTpxvdAanExp8EzeYQdHgp19579Gjh8FuA4PTJn2G+s9//gNWKYODKH32WRu4vobBmRkGk0hZm30+cxCljIdxq1uYk8E46qijDM4KMTjQ1OBsDIMVFYPjRTxT47gQme///d//edrwgTNNDFa2DFYkDM7IMDiexGDrglcfpw30AZ5sgfDsxtho8/fCeapTMK9w/n1U59qi4dwwRalEGIFoViCY+U9+jPDD0rp1a+Phhx82Jk6cKD8QHKQlSHEBI6N27doe1JjC1mCzqcFmWuOUU04xOKhLftjww8x8+55+9uM8O0L4ATcXzMcu+GHFjwlT+dp3ebarcqxnkAh/CPcPZLjHjzBceroEQ0C/v+G94OrC4G+YShkC8HHC/AkKX0Slo+AUfMswe0IC5Y8jOAz+1SuvvFJMzCjyA/8vosP9FTkqO2v5/1UNMKsM05559qoca46h74qAIqAIJBICqkAk0tWuYK3wg7LVQeh3EbGNz2+++aaHgCbQ4Ygwh68VlMPwWyPNDlHbqGNgRnUHOh77qhpgZrLoYRy7ODHtWftU5VjrOPpZEVAEFIFEQUAViES50hWsE2V9Qa6DMsG42ZoC1j4EqbkRe7EdM+8cSkQkJBimPft8qnKsfSzdVgQUAUUgERAov1Mkwmp1jX4RQAYCpFGjRj59TLpcnx2WhpSUFJ8Kf6YiEql8cZNFzw3TnmXq8rEqx9rH0m1FQBFQBBIBAVUgEuEqu1ij+QSOtC+7OLXZ+0TDtmnxqIhpz2muVTnWaTxtUwQUAUUg3hFQBSLer7DL9ZlxAyj3axe4NiIhVQ2idMu057SWqhzrNJ62RScClWVDrexx0YmCzkoRCA0CqkCEBseYHwUc+KC5/eGHH7zWAsIeEO1EQqoaRIk5umHa87eWqhzrb0xtVwSCQaAqTKioGcIp4lKWGy45EFfde++9lJub6zUFt/1QjhzxT/htQL0PFO+69dZbac+ePV7j6UbiIqAKROJee5+VI2sCnPi33367MPOhtDGobZnzwadvtDa4ZdpTlr5ovYLhnVdl2VAre1wwq6kKEyrqX6D2BpNhCSslsoqgPIwePVpYJ815uO0HZksEVCN1GynZcAs+8sgj9MILL9CQIUN8aLTN8fU9wRAIL82Eju6EQLQSSXGwo8HKg8HmfIOfOIyOHTsa/INhvPHGG0LCxNUKZTl2QqhTTz3V4CBKn6W+++67cpzJBGg/zueAEDW4YdoLNUtfiKYe9DD8cxVWpr1wjx/0guP4gKowoTJ3i/zN8o3eC6FRo0bJ3yDXv5B2t/369+9vNG/e3OAS317jcaq2jMfFwrzao3VDv7/hvTLKRBlefB1Hj1YFwnGy3Mj8EPKj8d133/nrou3VhEC4fyDDPX4oYUtkFlWs3Ylim6uYyt8uHgIgbvthrHfeeUeOsf5nPkxwTRBrc9R+jqXvb9SCGGBi6sLgb5hKGQJvvfWWFCSyM0fCFwpTZufOnRUqRSAqEUhkFlVckOuuu05Kidsvzvr166Wpbdu28u62H8qSDxs2zD4cLVq0SAp06W+BDzQJ2aAKREJedudFI9aB3Q7EplSpTAlyqddee43YBSFtXLjH+UBtVQSqGYFEZlH1Bz3iIJ5++mlhhWWXhL9u5KYf+gBjVEO9++67JUDT74C6I2EQ0ILuCXOpK17oaaedRp988okEXnH8g1BYI/KaK1kSV92reADtoQhUAwImi+pFF13kyKI6ZsyYCmcVyyyqTovbvn07cWwSgWL+s88+IxC9OUlF/VDy2ySSq1GjhvwWwDqhoggAAVUg9HvghQCUCLxUFIFYQSDRWVTt12nlypVSkwZWAygPXPLc3kW23fTDAwS7wGnHjh301VdfiavkvffeIw5CJq666ziuNiYOAurCSJxrrStVBOISgURnUbVeVA50pj59+hDo3L/55hsaOHCgdbfns9t+5gFQFlBZd/LkybRgwQKxRJj79D1xEVAFInGvfcRWfvzxxxPMnyqKQDgQSHQWVRNTkMAdd9xx1KZNG5o3b57EPpj7rO8V9Vu3bh2NHDmS3n77beth8hnkVBDwSagoAqpA6HdAEagAATDvIYodNUEWL17s0xtPexdffLHsR6CZkyirnxMqoWlTFlWiNWvW0NChQ6lDhw40c+ZMx6J4QNtNv4YNGxLcFM8884wPYdTPP/8sF61du3ahuXg6SkwjoApETF8+nXwkELjpppto9erVjqeCbxhPffAn+xNl9fOHTOjaE51F9dprryWkXyNjqmbNmn6BddMvKytLMi6gLFx++eWidOzbt08YLi+77DKqU6cOXX/99X7PoTsSBwFVIBLnWutKK4HA1KlTaezYsXTmmWf6HA3lAelxRx11FD311FM++80G0GvjqQ4m4datWxPSYc855xxJjYU5GT5llaohcOeddwoFOzBu0aIFwW3GzKeeG10sVJStX7++0EajsFvfvn2FQv7hhx+WVEzQUvsT3NzxPYUCYVrKsF7rCzd+t/1wHihkH3/8MSELo3v37oS5YYxDDz1U3CMmr4S/OWl7giAQgGRKd4UJgaowUXK1TIPTqAz+AzYyMzMNvjEZbLo02OfpNVs2YxqgjuanEYOfKISWmn+MDP6R8fTDcWyKNJgcxuBgKyMnJ8fgpwvjwgsvNDg1zmAzpsE/HnI8+1UNNml6jsUH5so3+Mfa4CcVY8CAAXI8F/Exjj76aGPhwoWevvyELvs8Dfzhl19+MUCBXa9ePYNJqgyMz6mixs6dOz3d3K7Vc0CIP3B1UIMLjBnnnnuuwURFwuj322+/ec7CdUOMV155Rba///572c+1Bzz7zQ/hZPXjnymlsjaBdnhXFlUHUBKoKdx/HwkEpeNS1QIRY4oiilvBTDl+/HhJrUKwFEyOeNpavny5rAbR1zCr46lh2bJlUgjnrrvuIrxuu+02z4rBLokS2iCOAtcD0uHwtIyxmTOfmLaWJk6cSBs2bJAn7RtuuEGePswBUKEPRXZGjBhB9913nxTywRM1nlowH4ztJD/99BP169dP/KuIBkcJcabYpXHjxkmhHq7JIYe5Wat9/KqWBLeOh6cwzAXkOU4CrowrrrjCaZdXm7L6ecERlg1lUQ0LrDqoIhAYAUe1QhvDikBlLRCcrmYkJycbbEr0mh+TxRisLAjPPXag4A1nPRgoKmUVWBmYbdLTBAsAfzsMzhX3tHH5bjk2LS3NYMXB044nb/TlinyeNlgW0Aa+favAcoF2PP1B7BYIWC448M3LGoJ+7CrwjOd2rTguHMJKlMwFa4E4WSCs5w1kgbD2w2dW1AxYKlCA7J577rHvDmobOL///vtBHRNM53CPH8xcAvVlRddgk73ByqyxceNGA38Tr776qvy9wGKnkpgIxMr3N1avjlog+BsWKwKLQaNGjWjSpEliGeCbvUwdPnU8eYPnHoISvsgcaNmypWyb/yG9C8x08N1b5YgjjvBspqamErsVxFfftGlTT3vjxo3ls0na49nBH2DtsMqgQYNk89dff7U2y2ewBqI8MPrAgmEV+K0hsKq4Xav1+FB9Rv0AYAlCLXZfhGpYsczAL81uEbr//vvF6gNaYJWqI2CyqP7xxx8EyxBiTkDjDMtaoPiUqp9ZR1AEEhcBVSBi6Nqz9YE+/fRTucGfccYZEg0NCl6kDoKS1hQEU4G+FwF+UAJwo4ZiAJcEpKSkxOwqFLeogWEV3OSgRFgFbRDrsdhmS4W4SvDZFPNYMOHZBe6Q0tJScZNgTOsL6XiQv/76SyiJ3azVPn4otpEDD0GBplCKyeqHa4VgP9zgQPpjV+hCec5EGgtKBJRTjqMhLkNNS5YsoVtuucWL3jqR8NC1KgLhRkAViHAjHOLxEQWNuIa5c+fSqFGjCE/0+JEEXz0HJsrZ8NTMbgyJJ0A8BG5YUCouvfTSEM+GHH+c2Rwn54HC408Q0Y1+Ti/U44C4Wau/8Svb/vrrr9P06dPp5ZdfFktBZccJdJyy+gVCR/cpAopArCDg/xc+VlaQgPPEUzvcDg8++CDNnz+fEIgIRQJmcTzhT5kyRUzvSP0C4QtnV4gFgmMiQo4WnvTgFrEKgiIhptvDuq958+aidLidS6C1Wsc1P1c1iNJ0u0AJs1pHEFAJ6dq1q7SbgZ7mef29K6ufP2Riu13ZVWP7+unsQ4OAKhChwTEio3z99deEGzCnXXqdDznjcFXgxo0bOsSk9zU7csoh4XiIaSEw91X1HYV1rDJ79mzZ5NROa7N8BqU1B1FKYR57PAWsKqDKRZaGm7X6DM4NWLeTVcPeBj+5k8CtYO+LbdOdwcGksh8uITeirH5uUNI+kUKgItZUxE9ZFWf7Z6viDKKpE088UVypiFmCFRRZXoi/gsDqaT/evg2iKpXYRUAViBi6docddphYEi655BIJNMQfKNwTiHdA3AB8961atRIyGaRfgnYZfaZNm0aImTj77LNltaBVtscyVBYGpJDCEgIlAkQ1eILHjwgCBUGW5CSPP/64xF6cdNJJ4o7BHL/iSn+gg0a8RpcuXcjNWp3GjrY2ZfWLtiuSuPNxw5qK+BEI+jop0qbiDCUf8TtgvYTrFA8vzHcipGuDBw+WOCfmqXEcA+MiEBwSyiBlGVD/iygCqkBEFO6qnYxJmiT2oVevXqIMIPgR3PdQFjiVj4YPHy7uAcQQIGDPtEw8//zzsv+hhx6SCHVO36RAzHbBzBJPHgjOfPTRR8VlgXNiTrNmzSLM10l69+4twW6wpiDQEz9CF110kbA9gscfPzxu1uo0diTbEGdiPlFh3RDEo5htTMglbcrqJzDof9WIABQCN6yppgJRUfE78MVAmUDMELK78DeMBwImg5OHG8Re+ZPc3FzJcoLygCBwlRhGgLVBlQgjUFkeiAhPs8LTgd8BfBMq1YcA//TEPA8EP70qu6qNSTbU3yi3rKnnn3++MM9WdH52ARqtW7f26QZOEnwn+aHCZ5/ZwLVlhCGX06XNprC9h/vvI2wTj5GB1QIRw8pfNEydv+fRMA2dQwwj4IZxVNlVvVOeTSuX9R3ZWf7ELWsqLBCwJlQkCCZGDJM9gBostBCz7Ld9HARPwyIKdlbU/FCJcQRiRNGJq2nGkwUC9TNUqg8B/vmJaQuEW8ZRZVcN3XcsEGsqU8wLSywYUlkJkHo7HKBtXHPNNQYsRaZwrJPUzTnllFMMjr8yOHjb+Pzzz4URl10TZjefd7DosoJicOyWz75wNIT77yMcc46lMdUCEeMKoE5fEYhlBNwyjiq7amSuMkjekMmF1G/EI8HKgDo1qL+DwGYzwwIWCMRasTIi1U8R/IzUVlSmZQpxx8kipRk1S8DyCi4UldhHQBWI2L+G1bYCfuIgBESpKAKVRUDZVX2ZZCuLZSiOg0KAAnm33nqrZFIhUJstppLGvGrVKkIGFQSF70BhD3K6NWvWiNKBQnroA0UDY9gF7KtIA9XUTTsysbutCkTsXjuduSIQFwi4YRxFxL6yq1bf5YZ1AfEWqFMDJYBdGkJmh1ojSB2HJQnZVW+++aZUBYbFyC4fffSRKBccfGnfpdsxioAqEDF64aoy7Vhk0UNKpDVgDE898SAIbjPXZSf/iof1uV0DMFB21fsd4aoqu6rjoA6NIJkCOdSKFSt89sKtwb55SbFGICRcGZ06dfLphxRuCIjrrALLBAjwjjnmGGuzfo5xBFSBiPELmEjTh58VP2J4OT3F4Eetbdu2ckMGiZZdKmLhQ3+QbIF0C4W9cD7wacCca/p+7WNWtI0fYxB4gZES4+EHFpwZ8DVDEDmP9YCbIxHFDeOosqtWjV3V7fcKOEOJc3IxgIwOcvTRR4trA99lp78xs83+94kiZ5BDDjlE3vW/+EBAFYj4uI66CkaA88tp9erVjli4YeGbM2eO0GzDHIsfPPhxH3nkEXrhhRekMJl503c8gUMjAtBA3oNUN5h+Ua/kiSeekDGvvfZahyMSr8kN46iyq0bme4H0TdTTgVKHv6W///5bvrsffPCBpF12796drrzySgmwhDsJfy8glAILLlhoEQNxxRVXCLX1DTfc4DVplFmHQMFXiSME+OlHJcIIVHcaJwigYi398oILLjD4qcfvlfrss8+EwObMM8+Ud65Z4emLlDE2txpITQuUwsY3e4PZMSUlzXMwf0AKIf/JG1y4zNpc4eerr75aSHnYBO3Vl/3GBpvsDZD7mMIWCEmBM7fdvmNeIO8Jl4R7fMybo/MNDsYzWrRoYbDyZrArx+AnYa91LVy40ODaKkJcVqdOHWPo0KEGm8SNlStXGiA1YlZE48477zSAY0pKig8crIQY7KP3amcFUa4rUhRNwd8GBw4aCxYsMAYNGiTnY1ZUgxkTjaVLl5rdDKe/IRyD83M5e5kPvkvMzOiV/uhmrZ6ThPAD5oFr6e+Fvy9TOONC8Md1wPU46KCDjNtvv91gBdjsIu8c72Ag7RNpmcCfrXYGM8oay5cv9+qHDfwt4NysSPjsC2dDJL6/4Zx/tI8N86lKhBEIVoHg4lNyI2Izus9M+QlA/jC5loTs49Qrg/2M8kfNdRjkx/Xhhx82uN6E51j7jx9unFw507Pf/PDcc8/J2Fwcy2wymPfe8yOJHxemsZUfSSag8fQJx4dACgRu0Fx7w0D+ORe9kjlbFQi3LHzM5W+88847PtMHqx5+iPhJzGdfoIb69evLjc7eBz+iGI9riHh2JbIC4QEhCj7gb0PZVaPgQoRoCqpAhAhIP8OoC4O/YdEuKDLFhDv06aef+kz1vffeEy565F+7ZevzGcRlAwro8BOH+O9RQhwFdJAjjpSuIUOGSHS201DhDgJDrQlEhrPC43R6qf8B02pFAna8YcOG+XRD8BeC/Dp37uyzz18DzLrAx4mRD3EVaWlpxE+s/g7X9mpEgH8rq/HsempFIHYQUAUiBq4VgvBQYAoFs6xi5l2jOiducJMnT5Z+SKECTSzIYPjJnVBWG+lVVZVRo0YRm2eFVAbBgCi4gwI6CApk8z7BV+okVS2x7TSm2TZhwgSZD+hxEagYStm8eTM9+eSTopjcfffdjsqAv/PhWIhTZgW4D4Cj2cffGNquCCgCikA0I6AKRDRfnf1zA5kLU8YSiJsQiGcKm9tFcYCFAhIsW585jpt3nBeBhewXlmwC6zFIC4UgUDCSwsV4hNXutNNOC2lZYPD5QyFDSXIElSHXHQpEMAKLEQQBmU6CdgSeqSgCioAiEKsIqAIRI1cOSgLSrCZNmiQzLikpkSd+WBdQThfCcQ40ZswYifxn/nq50aPkLsptQ3BMZWXDhg3iuhg/frzcXHGDNV9IeYTAbB9JGTlypJyO4x5Celq4GGDG5uBLAnve008/TX369CFkcrgVs5Q5UkedBNfS7OO0X9uqBwFlV60e3PWssYmAKhAxct04uIsaNWrkcRPMmjVLTODDhw/3rCASbH1cDEdurrjB2l/gxo+UvP766zR9+nR6+eWXxVIQjvOCr//0008X1xDiFWCJcCtQ4CBOlL6I14ByYipebsfUfoqAIqAIRBMCqkBE09UIMBdYEhDg98UXXxBK7r777rsSgwCeeggsBFOmTBFT/r333kvt2rWTGAgcB+a4QMJpb47WCauPnlPSCL77isZyOk84gii5GqCcCkqTaQnBOwIqISj2g23crN0ICv3AogGLg13MQEhO47Pv8ruNGBS4QJYsWeLTByx9mBc4EFT8I6CMqf6xSZQ9ytQa3VdaFYjovj5es4Mbo6ioSLIx4MqA8oBASUhV2Po4hVOeiOECsQqq8ZmCgElOJyVOF5UKfWY73ufOnSsBhsjScJJwBFHCrWC3gGDbdGdwGqfshwLlRhCAiYyWZ555xsMSaR4Hel8IlLJg5PzzzxdSHrsVAsGwmNd5550XzHDaN0YQAEuj+d1svb/uA4iU8PeK4Fm4rqCUQtG3F6OriLnUhCDUjKkYN5RMrfibOfHEE4VUCvE+7du3p9tuuy0go6sTk2yiM7Wa1zta31WBiNYr4zCvnj17SiohAvvgj7e6L6rC1sekPHLTxLhgTQSDIhPPyGfrNFCJD9YKZF7gDxsKBxQKKDb40ezSpYu1e0x9Zs4MybjADx+ofNdwrQ0EOYJtD24bJi+i66+/XtaEdFlYNypikwRLH5QnWEkQmAm8oKQgs+Ouu+6ili1bxhRGOtnKIQDLVa9evWjLli3yfYJlD8oDgp7x3TDFLXNpqBlTcf5QMrXiQQIxQ2C2ZN4YSWdmjhUaO3YsDR482EdBN9cfiEnW7KPvUYYAa8oqEUYgWCIp6/TAYshfISFwYmpl6y7DLVufnUiKzenC0shPS8L2CHIoTs00Jk6cKOfiwDLPedyw7Xk6h/BDICIp62mciKSCYeH7+OOPDebUMGrVqmVw6qzBT04GF/LyYtBji4vgwnS91lM7fmaXj4G5syIhrH6sZAnZlb2zEknZETEc2R59e0VXi9P39OSTT5a/KzBfWoXTouV7xNTR0uyWuTTUjKmhZmplJUGI7/bu3WtdrsG08F7rte4MxCSLftH692FdQyJ+hqlNJcIIVEWBiPBUo+Z0Tj/M1Tm5W265RZSsUM0hWn8goay6pcpWxlRDlEU75TqTrRlgObULc5jIDRVMpxC3zKWhZkwNNVMrqMXxMGIXfI/wfTLXa+6viEkW/aL178NcQ6K+qwsjyixCOp3oRwDmXgSxct2N6J9sBGcIV5YypvoCft1110kxKvse8JhAUGAqGObSUDKm4vwIVAwlUysCmOGOgTvUKnDjQcygZHNfRUyyZj99jz4EVIGIvmuiM4pyBJDeiR98BIaplCOgjKnlWFT0CXEQCARG3BAqtpoZT5VhLsWxlWVMrWiegfb7Oy9I18CcC4USFT0RnImUa3DUIObj8MMP9wwbTiZZz0n0Q9gQUAUibNDqwKFGAJkmZsomghzjQcw0NdCQx7ooY6q7KwgOEDbJyxM60oYRmFwZ5tJQMKa6m7F3r4rOCwsEOGG48i1xhVUJsEZKLur1vPrqq57BwsUk6zmBfgg7AqpAhB1iPUEoEAADJvsZPS8zPS4UY1fnGGaaGtYGvoxYFzx1KmOq/6vI5cepb9++ksXEgYPUo0cP6WyykgbDXBoKxlT/M/W/p6LzorgeiO+4RLtkM+H7YNbtAfeJmdYcLiZZ/zPXPaFGQBWIUCOq4ykCCYyAMqb6v/ioYIv0RigJSAUeOHCgp3NVmEurwpjqmUAlPjidFwRp11xzDR1xxBHC3Ir0cvBA9O7dWwr6LV++XNJXI8EkW4kl6SFBIqAKRJCAaXdFQBHwj4AypjpjgydwKFeoW4Oic3bOFLfMpaFmTHWerW+r2/OCqRaEUJ06dfIZBBV8IWBiDTWTrM/JtCEiCKgCERGY9SSKQOIgADeGMqaWX2/E64CsDTdQsLuipo2TuGEuDQdjqtNc7G1uzwv6dpDKLV682D6Epw3ux1AzyfqcTBsigoAqEBGBWU+iCCQOAsqY6n2twVgKFtIPP/xQ2Bm995ZvuWEuDQdjavkM/H9ye15Q6998883CuIn1IFsJjK6wwCBVFIyu/8/elcBdMX7/8/a2L2SpRBsRbSoKEbITEf0kf2UJiWxFydJK2UsiFMkPIRQie1GIItKCNqFEfrTv9T7/8z2Z29x55947c9e5957z+bzdmWee9Tu3O2eec873MAFb5IH0SnYhkK8EGJlctxJJZRL93Bqbf208Ez3Fs/J4+1fG1F1og40RGEb7Y2fC0K3xylyaTMbUZDO1YjFjx441xx57rGE6a8NmLcOZZ03nzp0N+0CE1up24MYki3pKJOWGVubLCjAF/nKrpBEBxMu/9tpraRxRh8plBJCcq0OHDilZIsJmU9l/SiadwU6Z9lz+bzsT02VqSr1795YEXn369MnUFJIybrt27cTx1G+kkn5/kwJ/xE68pSqM2FwvxIMAc+ATlAgVRSAZCPCbXjK60T5yDAGLMXXKlCk5tjJdTlAQUAUiA3cCceD4U1EEFAFFIFUIWIypqepf+1UE1IlSvwOKgCKgCCQRgVxkTE0iPL66yiWmVl8Lz5LKqkBkyY3SaSoCikDwEchVxtRMIZ9rTK2ZwjFV46oCkSpktV9FQBFQBBQBRSCHEVAFIodvri5NEVAEFAFFQBFIFQKqQKQKWe1XEVAEFAFFQBHIYQRUgcjhm6tLUwQUAUVAEVAEUoWAKhCpQlb7VQQUgZQjsHW5oaJtKR9GB/CJQNGaDbTxra9o56o1Pltq9WxCQBWIbLpbOldFIAMIXHTRRQRGv6D9db+4J239nejPGRsIx0GbX77Op92eh9LnJ91Ca+5/k+5vcSFVKVEmY/cmA/9d8mpIpbLOq9uti1UE/CEwfvx4fw3SVLtsyfJ0/AFnUGHBbi68pWt/pIWr5/qaASinQfeMNNs9evTw1TabK/fr14927txJgwYNosLCwqQtpfqCf6jmV39QmfXbpc+dpUrQT2fVptU1K1FRYUHSxvHTEZhaa9So4aeJ1vWIgCoQHoHSaoqAIhAcBDb9ZGjH2t3zKeBnYIXGBVSi9O4yL0fIEDlhwgRJNY1U1Pki4FdA1tS+ffvS7bffnrRlw3SxeuArtG32MqKdRdJvqcNrUeU+F1DJWlWSNo52FAwE1IQRjPugs1AEFAGPCGz/i8KUBzQrU9O/8vDBBx/Q008/TSNHjqR8Uh6AFxgesfswYMAA+v7771GUFClRuSJV6HAclTxgr1B/27//lTZ/PIeK1mwMlelBbiCgOxC5cR91FYpAXiBg2GFyw1xDZufu5Zbcg6j8Yf62x9esWUONGzemE088kcAemY9SVFREJ510Eq1du5ZmzpxJpUv73L6JBBoneF478l3a/PY3ZNZvkVoFFcpQ5Xs6UplmdamgZPJMJpGmoOXpQUB3INKDs46iCCgCSUBg87Jw5aGAf8HKHuhPecA0unXrRniAPvroo0mYVXZ2UaJECXr22WdpyZIlNHjw4OQtgh1uK118PJU6pDoRjwExG7fShuen0c6Vq5M3jvaUcQRUgcj4LdAJKAKKgBcEtv/NpgtHVKCYLsp4ab27zksvvURwDoX5Yu+99959IQ+PDjroIBoyZIj8zZo1K2kIlNi7EpsyjqVCuylj9s+0eepcKlq7KWnjaEeZRUBNGJnFX0dXBBQBDwgYduoX08WO3ZULK7HjZH1/uw+///67mC46duxIjz/++O7O8vjIsMnhzDPPpN9++41mz55NZcuWTQ4aMGWMeJs2T/6OzIZdpowSFdmUMfj/qEyTA4nUlJEcnDPYi+5AZBB8HVoRUAS8ISCmC5vyQPzLVc6n6QIPyquvvpoqV65M999/v7eB86AW+CqeeuopWrFihThVJm3J3G/F/zuRTRkc3VJil6JXtIFNGS9Oox1/qCkjaThnsCNVIDIIvg6tCCgCsRHY/g+bLhzPm7I1OOrC54syHpLvvfee2P0rVqwYe+A8qlGnTh166KGH6MEHH6Tp06cnbeWF++5BFf7Tkgr33x2VsW3mEtoybT4VrVNTRtKAzlBHasLIEPA6rCKgCMRGwPCuw4bv2XHStvtQyM/+Cg38mS5+/vlnatKkCV1//fVi7489cn7WaNOmDf300080Z84cSpqSBVPGI5No83tsymBnSkiJPcrtMmUcXoeoUN9jBZQs/EfvXBbeNJ2yIpAvCGxB1IVNeSDWG/yaLhBtcfnll1OtWrUIDIwqkRGAY+nq1avprrvuilzJ7xWYMi5hU0ZdNmXwMaRo3WbaOO5TNWX4xTJg9VWBCNgN0ekoAorALgRgtoD5wi5lDmDTRTl7SexjbMt/+eWXNG7cuOQ5CMYeNitr7L///vTII4/QiBEj6JNPPknaGgqr7knl2x/NpozKoT63zlhMWz5fQEXrN4fK9CC7EFATRnbdL52tIpAXCIjpAoRRu1IqyJoLK/xruvBhvViwYAEdeeSR1L9/f+rTp09eYJeMRbZv314iMsBSWakSh7skQ4rYlDH0Tdr8wfdkNv1ryqhcgU0ZF1OZRrXVlJEMjNPchyoQaQZch1MEFIHYCGxeamj7/2z1WGmo2JB3H8rbymIcbt++nVq2bCkMi3AMTGbSqBhDZ/3lv/76ixo1akQXXHABPfHEE0lbD4ikVg96hbbPW87sUkb6LdPqMNrjxrOp5P75zcmRNJDT2JGaMNIItg6lCCgCsREAWVSY8sBNyuzvT3nAKNh1+OGHH+i5555T5SE27GE1qlSpIqGdiFx59913w64lclJYfS+qcD6bMqrvGepm62c/0tYvfqCiDWrKCIGSJQeqQGTJjdJpKgL5gAByXIDzwS6FvOtQZn97SezjGTNm0AMPPCChiYccckjsBlqjGALt2rWjCy+8ULgz4FiZLCl3ShMqcyTnxCi3O/fGhv8yN8TSP9m7clcGz2SNpf2kFgE1YaQWX+1dEVAEfCCw+Wc2XXC2zZCw6QIhm/B/8CqbNm2iZs2aUe3aten9999nx38fThNeB8mTen///beYMsBUibwZyZIdK/6mNYPG0/YFK0KmjLKtG9Ae3c/i3Qk1ZSQL51T3ozsQqUZY+1cEFAFPCOxYy6YLu/LArcpwPiY/ygMG6tWrF61atYqeeeYZVR48IR+50j777EOjRo2isWPH0sSJEyNX9Hml5AH7UPl2R1HhfrtNGVs+WUBbvlpIRRt30V777FKrZwABVSAyALoOqQgoAuEIwHQBzge7IFwTYZt+5KOPPhKnP+S5qFmzpp+mWjcCAm3btqXOnTtT9+7dCTsSyZJypzel0kccyKaMUqEuNzz3Ce34WU0ZIUACfqAmjIDfIJ2eIpAPCEB52LbKttI4TBdr166lww8/XMI2J0yYYOtMDxNFANg2btyYWrVqJXwaifZntd/x61+05u5XafuPMGXsKi17aiPao9uZvDuxm/7aqq+fwUJAdyCCdT90NopA3iGwYx2FKw+MQGkmLfRrusAb8pYtW+jJJ5/MOwxTveA999yTxowZQy+//DK9+uqrSRuuZK0qVO7cFgSiKUu2fDyfts5aFOKKsMr1M3gIqAIRvHuiM1IE8gYBw073W9hx0i5IklXWp+nijTfekDdj+D1UrVrV3p0eJwmBU089la666iq67rrr6M8/2cyQJCl/1hFUulkdKij7rymD+SHWj/2Eti/jLSkmn1IJLgJqwgjuvdGZKQLZiwCi8Ty8nmz5lU0Xf4QvU6IufCTLtEiPzjvvPHH4C+9Nz5KJwMaNGyUpWcOGDenNN99MWtfbl/1Jawa/Rjt++D3UZ7kzmlClrqdTYbXd9Nehi7YDs2MnFSAhl0bb2FBJz6GH/+LpmYiOoggoArmDwDaOpti8xJEIy7G8nRvYdOFQHsR04UN5QJfdunWj8uXL08MPP+wYQU+TjUCFChVo9OjRNGnSJHrxxReT1n2pOtWo/NlHsiljj1Cfmz/8nrZ+s5jM5l2016EL/x4UMR32+v9OoY2vfUE7V290XtbzNCCgCkQaQNYhFIF8Q6BoK/M5sMP+Bs5n4UyIJVjwDgXoqu1SogxHXdTwF3UBkwXMF+AoSFrOBvuk9LgYAieddJJEZCA1+vLlTEmdJCnfpjmValKbCsqU3NUjmy82PDuVtv/C2ui/tNfWUNvmLqN/ej/H1zlqYylrodvtKVutWvqZagRUgUg1wtq/IpCHCJhtuxaNZFibFxv5syfG2rLCUJEj3L/sgQVU4OMXadmyZdSzZ0/5a926dR6inLkl33///eJr0qVLF362hyuC8c6qoHRJqtipNRXWqRLqYufKNbRxwpe0cxWThLAUbdhC65/5kFbfMY62f/cLKw47aeffGzjpGscBq6QdAR//XdM+Nx1QEVAEshSBIseuM3YhZDeCdyVcTRfs91hy9+51zFUXMeXxFVdcQQcccAANGjQoZn2tkFwEYDICudSUKVMkOiNZvZequx+Vb3MElaiy+8uw5b05tPXbpbRlxo+86zCWNjw/jYpsJouiv9ezAqE7EMm6B376+XevyE8TrasIKAKKQHQEiv7dgbDXQopu+EVQIZfaXlrFdFHTn+nikUceoc8++4y++OILKleOGadU0o4AMp326NFDdoAQoQHq8GRI+XNa0Lbvl9HW6T+R2cZfGlYW1z08adfxTnjnhkvR/9arCSMckrSd6Q5E2qDWgRSBPEGAlQO7uaLYqh27zWXrsOkCSoVHQYbNu+66i/r160ctWrTw2EqrpQKBe+65h2rVqkVJNWWUKUUVLzmRCmvvG5qy2cwaqYvygApFazdT0Va2lSXJlBIaVA9iIqAKREyItIIioAj4QcBpvojWtqC0IVBWe5UdO3bQZZddRg0aNKA+ffp4bab1UoRAmTJlJF369OnThUI8WcMgdBOpv+EXEVNYcYBJQ/0gYiKV9AqqQCQdUu1QEchvBNzMF5EQMdsKaCNHaiDs04vcfffdNHfuXHlolSr1L/GQl4ZaJ2UIHHHEEdS7d29JYrZo0aKEx9ny5U/09y3P0tbP/zVheOixaDUcKdUPwgNUSa2iRFJJhVM7UwQUAWTURFpuvwInSkRiwCfCTWbPnk3HHHMMPfTQQ3TjjTe6VdGyDCGwfft2gk8EdiSmTZtGhYU+bFL/zhlKwIb/TqXN78+honWbfa2k4pUnUYXzW1KJyhV8tdPKiSGgOxCJ4aetFQFFwIFA0Tb/ygO6QE6MjfMMLft2Nxuh1TVyXFx66aV0/PHH0w033GAV62dAEMBuEDg5vv76axo+fLi/WbEJYsvnP9DfPZ+lja9/5Vt5wGA7/9EdCH+gJ6e2KhDJwVF7UQQUgX8R8OMD4QQNab333l6dfnj/V9q+ZfeWNPwdQFoEwqgCpSx2whaI8yZNmlDfvn3pjjvuoPnz53uak2E2ybWPTqI19zCN9SImhIoz98WuUE6Hd66nGWilRBBQBSIR9LStIqAIFEPAIpEqdsFjwS8rl1Hfh2+jo1q2oB9//JHgoDdixAh5s4XHv0pwEYCiB0UCu0Uwa8SSgvJlqPzpzaj04bV2J9OK1cjlehGTSSkbpQswKS5SH4gUA6zdKwL5hsCGOewV7yCS8oIBQjlf/uB5unnQtbRpyyYqWbKk7DbUqVNHoi5AWa0SfASg9MGxErsRt99+u6cJGw7R3DJtHvtAgJqanWgihGxG6qxEtT1p7/s7U6mDq0eqouUpQEAViBSAql0qAvmMwLpZIILwh0ApZi8uud9OqrzvnrRp06awxiVKlKBmzZrRK6+8QnXr1g27pifBRODBBx8Uro5Zs2bR4Ycf7nmSZv1m2vjWV5wg60sq+osJojxKQclC2vuJq6l0/ZoeW2i1ZCCgCkQyUNQ+FAFFQBCA+WL9d961h0LOvFm2dgEVsvM8vPdPPPFEVyThpIe/YcOGUdeuXV3raGFwEADVOJJurVu3jr766isqXbq0r8ntWPE/2vDCp7Rl6gIynP/Ci+z1UGcq0/wQgjKhkh4E1AciPTjrKIpAXiDglQOiBD9PytUtoAoNdikPAOfDDz+M+KCBPX3z5s10zTXX0Lnnnkt//81JNVQCiwB2jeDwunjxYho8eLDveZY8YF+qfFt72uu+S6j0kQd6IpSS/BiaVMs31ok0UAUiEfS0rSKgCIQhEFOB4F+cMgcQVTi8gErtE9aUJk+eTNu2uSTR+Lcaoi/why3xPffcM7yxngUOgYMOOoiGDBkifzBlxCNlmh5Eez94Oe3R61wqCWrrEpFzpmgoZzwIJ9ZGTRiJ4aetFQFFwIbAtpVEW35zN2GU2puVh1pMFOWym71mzRraZ599OG9S8WRJ6B7mi0qVKtG4cePojDPOsI2oh0FGAKm+zzzzTPrtt98IRGBly5aNe7pFa5ho6vUZtPmNWWHZOK0Oy1/Ukir+H+fQ2KeSVaSfKUZAdyBSDLB2rwjkEwJuJFKF5XnHoX4BlTvYXXkAPh9//DHnQnJXPLAd3qpVK+EWUOUhu75N2DF66qmnhMNjwFP6+IQAAEAASURBVIABCU2+ROWKtMeVp9Hew6+ksqc2poLy4ZpoEZNJaShnQhD7bqwKhG/ItIEioAhEQsAevlnAeZBATV2hEfs5xHgphP8DwjbtgnNQIiMc8KOPPqL99tvPflmPswSBOhyGC/pxRGYgBbubRNp5cqtb6qBqtFf/i6jyoI5UqlENDt/Z5TS5k7kgNKGWG2KpK1MTRuqw1Z4VgbxDYANTURdxGoPS1eDr4D1Nd82aNeUt1QIMJosqVarQa6+9JjkWrHL9zF4E2rRpQwsXLqTvvvuOKlbk8BsW7DqNHj2aFixYQI888ojvxZkt22jTe9/Qxpc+F0Vir7svplIHqaLpG8g4G6gCESdw2kwRUASKI7B5iRHFoYQPUzc89Q855JBQZ9j2bteuHY0ZM4YqV64cKteD7Ebg999/p0aNGglLJZQF3PdOnTpJmOcBBxwQpkD6XenOv9bSprdmUrkzj6CSBzi8c/12pvU9IxC+Z+i5mVZUBBQBRaA4AgjN9CswT0BgssDf448/Tl26dPHbjdYPOAL777+/7DJcccUVsvMA3wjLdLFixQpasmRJ3ERhhVX2pErsH6GSXgTUByK9eOtoioAi4EDgvffekxLsQsBTX5UHB0A5dAqisGrVqkluk61bt4byZcDXZcqUKTm00vxYiioQ+XGfc3KVF154ofACWPwA+rmLJyHbcHjzzTfl+/nDDz9Izotsm3+k+Y4fPz4n/9/Fu6j//ve/VL9+ffrf//7nGnEDR1qV7EJATRjZdb90tg4EjjnmGOrRo4ejVE+zBQFsXePvqKOOypYpe5rnRRdd5KlePlTC/YXZwjJVuYXr7ty5kz744AMxaSBsVyU7EFAFIjvuk84yAgI1atSgDh06RLiqxYpAZhBQBWI37u+++y5NnTpVdgstn4fdV3cfrV27lubMmSOJ03aX6lGQEVBVL8h3R+emCCgCikCWI3DVVVfRl19+SQjVRXhuJME1EIqpZA8CqkBkz73SmSoCioAikJUIHHnkkfT999/T+eefH3H+O3bsoPfffz/idb0QPARUgQjePdEZKQKKgCKQcwjsscce9Morr9Bzzz1HZcqUKcY8Ct+I6dOnE6IzVLIDAVUgsuM+6SwVAUVAEcgJBC699FIJ10W2Tid9OZSHr776KifWmQ+LUAUiH+6yrlERUAQUgQAh0KBBA/rmm29CDtAIhYWULl1a/SACdJ9iTUUViFgI6fWcQgAUuvixQo6FSNKtWzepM2/evFAVpJtGMiCEjSKpExy+sCXbokULuv/++z1vu65fv54eeOAByS6J9NXoZ++996ZTTjmFXn75ZYId2CnWnJ18A9gGrlu3Ll133XUSCulsh3NQB6Pdtdde63Y5UGXABm+lmK8d+0iTnDVrFl1wwQUEGmRgcfDBB1Pv3r0J/dgFnv+PPvooNWzYUNJJgxHxmmuuIdxTS3Bvnfjaz93ui9VWP+NDAPkwXnzxRXr66adFccBuxLZt2whRGyrZgYAqENlxn3SWGURg3bp1ojgMGjRIuPvnzp1LGzdupG+//ZZOP/106tOnD51zzjkxZ4j6ePMaNWoUQUlBAiE87GD3xYP+kksuofPOO4+2bNni2terr74qBDywFeMP8fV48IGIqXnz5rRy5cqwdtOmTZMU2LVr15Yf6g0bON1xgAV8Hj///LOnGWJtxx9/vDx4Pv/8c/rrr79oyJAhQoONe2IPF7z++uslo+c999xDq1evFjv8xIkT6ayzzgoRGlnKBK5b+No/nVvtniaplTwhcOWVV0qCLSiAELCR4v+cShYgwP9JVBSBrETgP//5j8GfHxk2bJjh/5aGH8YRm/HbqdRhRUHqPPHEE3I+dOhQ1zb8di/X2YPc9ToKmX3P8JuvYbpm8/fff7vW45TH0k/Pnj3DrseaM++mSLs777wzrF3Hjh1NpUqVDD8s5TrnHgi77udk06ZN5oUXXjAnn3yymT9/vp+mnuq+/fbbMsf27dvLp4V9pMbHHXecYQ4QwzbzsCq33nqrtJ85c6aUz5gxQ84542NYPU7UZXhHwjD7pZTzLo7U2759e1i9eE/wHWOHwXibx2yH/vVPMUjnd8Dt+6xEUnwHVBSBaAjwA18u4y3fTfr37y87CqDpjSTYQkc2QuwWwGThJngDxy4D3r74CSJb6m71nGXYvYDY395XrVpFEyZMIBAatW3blqpXr05IXtS1a1dn86jnX3/9tWTFHDdunLzVX3zxxWIyiNrI50XgC64AzLV169b0+uuvx+yBFUfJqQCbuV1gpoAsW7ZMzEvI6FmhQgXq3LmzvZowI4Id0RLsQJQrV66YU591PYifN998c06mOgdnxG+//UagqlcJBgKRiNFUgQjG/dFZBBgBJACCjB07Vn6wndvZSA6Ev2jyxhtvUPny5alNmzYRq4HCFz+efgXsfZBDDz001BR2ZdiTL7/8ckKiIjxA4XsBhSCSImQ1xgOddxvomWeeIZhrUB+mEigPsFtDkM+gSpUqVpOIn8hvcdhhh0W8jgvwz4CPwYgRIzwpD2iDh6ebAAv4LliKBMwbTZs2FR8Jt/pWGRQI3q2xTrPis2XLliEnxKyYsMdJglkWpr1sux8el5eV1SIpEOoDkZW3UyedTgRatWpFbF4QPwLYadnEIA867Ch4FTxI69Wrl9Q33H/++Ud2NDAfsPzBmRIC+z/8LA488EA66aSTpMx6237yySfl3O0fhNDhrQ9Ohv369RNHT/htwFnx6quvDikPaLvvvvu6+gpg58T+F0t5gBMddl0ee+wxTwqJ27xR9ueff8o9ghLSt29f8TVBOXZl4GSJRE5HHHGE7DJgBwj+JsuXL0cVESgQcGjFbhKUD+xGAAf4TwBnlfQioMpDevGOe7SYxjatoAgEFIFEfCD4P0xMG7LTDv/HH38YNkWYc88911StWlXacxSEYSdKwyaDiCixU6TUZUUkYp1oFywfCOec+YFnWEkw3bt3N5ibJZMmTZLxBg4caBXJJ7+xGt7ON5xzIKzcOmEHQmnHZoSo67HqJ/rJD3Cz1157mXbt2oW6svxNnNiHKjgOFi1aJHMGNrw7YninxFh+DLyrIddY2TFYE+9OGH6zNZy0ybBjqfikYM0Qjq4xqMcRNYadUQ0rFOIng/vMkSGGzUqOkaOfYj5uNuPorbxfTXX/3meiNfMBgUjfN7wtqCgCWYlAIgqEHyfKSOAsXrzY4OHO5gvDoZ1myZIlkaqasmXLGvZVKHYdD0r853T+Pf/886G6lgIRbc6hynzAZhLD5hDzyy+/2IsN70rIOPy2H1ZunUDRgRMj+xWYPffc08Cx8LvvvrMuJ/3zjDPOEAUCD2xL/CoQVjveJTDs82F4t8EwbbLBOe/ECA5QtHBuFw4VFCx4t8JeXOyY/TGkntNBtVhFR0GkH1xHtbhPU91/3BPThjmJQKTvm5owGBkVRSAeBMDBAFv8F198QbwDQIMHD47YTZMmTeinn34ijmYIqwMHSP7FCf19+OGHYdf9nmDL/r333hMzBr9lh3EbWA6UcKZ0E3ApgB8D4aEDBgyQ8FL4DyDVNnwqELqaLIFzI/IewKQCXo1EhXcyJM8CnFRBUHTffffJ2uGngfuE63aBXwt8JWCiiSZnnnmm1FN2xGgo6bV8RUAViHy987puTwjAERH+D8OHD49YH74GcKzk7fSIdeCExFvr4kcRsVISLkA5gA8E7xyElBK7ggIuCzhGcnhjxNHg3wDFCMmPOBySkAiJwyMlkgP8FUi7DCdKO9FSpOMff/zRdRz0DQEu9rYW4VXjxo2l3I3A6ddffyVwB8CvwSng2YCAYwMCvwdEpDgF/QIXRHHgHoN7wO3+wS8E9XgHydmFnicRgVNPPZUqV67su8d42/keSBu4IqAKhCssWqgI7EIADxi8lfMWtoQGuuHCHAYSRWB5/rvVwds/nCjvuOMO1weV1YY5FqxD3594EOLNHrsG2PFwk8suu0wezNGcKe3twLTJZgUhqRo5ciQtXLhQdigSdaIEu6ZdsbGOMRYESg7KnBEvuIZdBbB2QqmzE0bhGhQBCHYdIIgcgROkc2dn6tSpch0OslAS8AlHUadMnjxZipj/wnlJz/MIASiXcDDGdw87dYh4uvfee4t9/9wgSaStW3+BKuP/pCqKQFYikC4fCPgB8A+HOCxy1IAQQfHD2nCsunn88ccNvzmZWrVqGTgFRhP+ITEclWCYwlqcMflN2qAfOGC+8847hlMdG34bNxwhEOa059UHAnPjHxfDD+do0xAyKPhkOP0CojZK00U3Hwh++Mu6brnlltAsWJmRsi5duhg22xg2r5hPP/1U8MX9sPxR4EjJ5gpxmGT2Sqk3ZcoUuV8cURPCmUNcpT/eeZH7CidKOEHCsZKVMWkXGtzDAe6DOlF6ACoLqsBHB///TzvtNPlewVeIw7LFaRckctEkkbbR+k33tUjfZ2j5KopAViKQLgUC4MAh8aabbhL2QuZzEOc8OBqyf4BBtIPlzR8LSPz4wImRwytFkeA3bPls1qyZwcOLbfLFuvCqQCDKAw6D0SJC0DkcNPGDgH6DJl4VCMwbDo4nnHCC4Zwk4qQKls9OnToZ9jUJWxaUi9tuu82wT4jgw6RahncbDId+htWDkyowhNIAR1LeMTK33357SMkIqxzjJNIPboxmni+nun/PE8mDinAm5rBeYZO1L5f9bETht9hM7des40TaWn0E4TPS900ViCDcHZ1DXAjEo0DENZA2UgR8IhDpB9dnNxGrp7r/iAPHcQGhz1DuoJTVqVPHsLNxiF6dnV6lR04mJ5E/Vvecp8QgRJpNZhI2jXBfKIpQ8Nih1apmnO1CF5J4gB1DzMcpUFRxH+6++27npdB5Im1DnQTgINL3TX0gGBkVRUARUAQUgeQjAJ+WG2+8UejUESEE3xP4+cAXCAIfIzdBORx1/+///k8yp4LaGqyibBKQaBveyXNrVqwsUWdfjAtmVss51z4ASOVAPoaoHzdJpK1bf0EsUwUiiHdF56QIKAKKQA4ggAgm3nUQKnQwe+IYlPCbN2+OuTpE+yD6B/TvyGeCkGdE6YAB1oriidVJos6+YDiFoB+ngHoerKZWHed1qzyets6+gnquCkRQ74zOSxFQBBSBLEYASeGWLl0qadfxsLUEb+0XXHCBdRr1E2GadkFSOIgfGnl7e7/HlqITbafEye1ijZFIW6uPoH/uvqtBn6nOTxFQBBQBRSBrEAC5GoTpwIvNmX0iipU5C5AEjn0IwootRcSNHySsYpJOkAAPghBpN0EIsFXHed0qj6ets6+gnqsCEdQ7o/NSBBQBRSCLEbDewEEU5hS3MmedIJxbOx5//fVXselAiQHHCJK1uUkibd36C2KZKhBBvCs6p7xAIF4WvXjb5QWousjAIGDZ/uGE6BSYNtIhiTpRwm8DVOtuBG/IsAslAmRrbpJIW7f+glimCkQQ74rOSREIAALJYtDjDJjEGS2FAXPevHmyMnjR2yms3Y7tzJDwdIczHeiOQSsNpk2wbqoEFwG8mePh++WXX4ZNEpTuYHdNhyTqRIk5IhKEScrIuQvBRGHClNqxY8eIS0mkbcROA3RBFYgA3QydSn4h8NFHHxEzHvpedLzt/AwE+/Vxxx0neS+QSAoOcczWSEOGDKHrr7/eT1fUo0cPQgifXaAEcHi76x+z/ElV5MmATJw4URJ6cbpu+vrrryWsDpTcUDDg5a8SXAQQNYE3dSbkkgcwE7IRHrhMwhbcSTtmhpBTKCL4PnIGXoLyCyp1fPfuuusuYhZaaYH/l1CEETliide2Vv1s+1QFItvumM5XEUgDAkyOQxs2bKCXXnpJdg/A/3/eeefJDybyaERKkuWcGlN00zPPPEOcJtx5yfUcY95www3yY2154DOLJGE7mBk0CbH3COnr2bMnXXHFFdS/f3+xQ7t2poUZRwA5ZKA8IPFZzZo1CdlNmfxJuCEwuWzwhYAjJzgo8B1s2bKlKD/IvIt8Lvj+RZNE2kbrNzDXAkBypVNQBOJCIMhMlPnMvmfdTLY/G97CNvzmZtwoqq169k/erTCVKlUynFJcipGvg38sTYcOHezV5JjTgcs1fjgVu5bpAsxZc2FEvgv89i737osvvohcSa8EBoFI32fdgQiMKqcTyRUE8pl9z34PsX0NJ7MRI0bYiyMeY3ub84RIKnG87UH4F1Q+3d5UQeIDmTNnjnzqP8FD4LnnniNODifb/vbZzZo1S1goo2WwtdfX42AioApEMO+LziqLEchn9j3rtnFmUOLkVKIQIAWyF7nnnnvEQRI+E5ZASYDZAlvIznj6zz77TKpx8jCrun4GDAH4OsAMxkmlCH418KUZPXq0fDdQxvktAjZjnY4fBFSB8IOW1lUEYiCQ7+x7gIfND+LH0K5dO/FliAGZXObU5oS3Vfg/cOKksCYPPvggcap06ty5M3GabnHsBB0ydnog8OpXCSYC+A5MmDCBOPEUcSp7gjIJ3wHOZEkPP/xwMCets/KMQEnPNbWiIqAIxEQg39n3ANCVV14pOFkP+JigcQU42cHcYQ/dtNrhITR58mRJwISkRojGgIMldjgQzsk+E1ZV/QwgArh/+FPJPQRUgci9e6oryiAC+cK+d8IJJ7iiDG4Gdm4kxMiDA8CrgBcAhDxItuQmnE6Z8GcXi1MCHBMqioAikH4E1ISRfsx1xBxGIN/Z96wsiYiZt5NDwaES0rhxYynHboMlYCWEIyTC+/wIe/BL9VatWvlppnWzEAGEf2LnSSVYCKgCEaz7obPJcgTynX0P9m1ETjj/LHPG3Llz5VrJkrs3P+EgCWnatKnr3YdTJZIv2X0dioqKaNSoUVS/fn0hvHJtqIWKQIYRgOPvpZdeKkpzJNKzWIyvflhb4S9kV9ydx3bFPRnQqAKRDBS1D0XAhkC+s+/ZoPB0CAc7SCRTBN4+sUvRvXt3YaGEn0nXrl0JJgx49LuFeHoaWCspAilEYPXq1XTGGWeI42+kYbwwvvphbbWYbTG2U4nHuV1xjzQnP+WqQPhBS+sqAh4QyHf2PQ8QhVXBjx0kUkgffoThyQ/zCHwkDj30UIn0QBgn6LZVFIGgIYDvNL6b8BWKFm2SCOOrG2urpUCkzdzDWomKIpCVCASZidINUGXfc0MlN8v4gRZYJkrOjmluvvlmwzs+ht9uDYdWGnZQNZzzJOxmfPzxx4b9UoQZtFy5cobDMA1TOBveUg/VQ7u6desa9mExrVu3NkwzbjjhmenUqZPhkGbDOSMMR8oYtD/wwAPN8OHDQ21xcPzxxxumuDazZ882J554orQvX768Ofnkk813330XqstKpFwLFfDBt99+a5he3TBXiCldurT0f8sttxh+iIaqeV1rqEGSDjj/h3nqqaektxkzZgjrJpsXivXOVNeCvfMC78pJG1YwnJdC507WVlzg5F2CdahSkg4ifZ91ByJoqqvOJ+sRUPa9rL+FOb0AJLNCCOwLL7xAeFNGsjR+wIsT68KFC2Xt2N3Bzg9yOSDvCTJRInEU/pCbxBJ+cBNSZoMUCtwO2JJHAin03bZtW3r22WclGdrvv/8ub+Q33XSTjGe1R44V9I28JgMGDCCQgiF7J5JWwakWfbsJkqode+yxBF8YONMiZTjTx0u+lNNPP11CgtHOy1qd/SeaAhz9gfMCZrZo8ttvv8m8EZrsFJCnlSpVipCF1k3cWFtRDzsQaQ1rTpKCot0oAmlHIKg7EJw90rBd3vCPolm5cqVZu3atYYc/U6JECXnzSztQOmDaEeDf8kDuQHCYsXwPr7rqqjBM8B3F2zByuEA4o6ThbXDDD6qwethlYHbJUBl2ALDWt99+O1TGzq7Slh+AhhWHUDk70EpdzugaKsPOAtozc2moDAfYuUA5du0gzh0I7Fyww3LYbgjqceK2UH9e14p2qZRIOxBM5y1zvffee12Hr1atmuHkXa7XcP+QMwa5YuzCSpXg0q9fP8OKiewwVa9e3bD/kMFuTLwS6fusOxCMjIoikEwElH0vmWhqX8lEADsGVatWJaRMR5p0K7IF/id48wYTKATe/OvXrw+lqrbmwGYIYQK1/FascnsoLRz1QEEOfxV+eFlViB+IcmyRrYUu8AF2O+xy0kknyakVFmy/BrZXRO6gDnYw7AKHWwh2Vbyu1d4+nccWZwzm6SYo37RpU7FL0VhbsSOzdetWyVjLJijZEcLODHacwLOCe5pM2R1LlcxetS9FIM8RUPa9PP8CBHT5vAtGkyZNkgRXF1xwAbG/gaSoxoO3S5cu8uDH1BE6OHLkSHr99dclAobfdGnnzp3yh+s4tqSwsFBSXFvn+ERkjJXszCq3omXsbXENW/UwldjFavvnn3/ai+UY5hA8KGEmwZ+bwDzgda1u7dNRBuwhzhwv1thQBKw6Vhk+o7G28m6Hvaoc806tYNG+fXu6//77CTlnkiW6A5EsJLUfRUARUASyAIHmzZuLX8P06dOpZ8+ekuCqV69ewrXBjomyAhCBsRmD4E8AfwgoEFAqoGQkW/CgdwpvtUuR2zWrLm/ju4Yqoi2idiBe1mr1l+5Pa3cGPiBOAV8DMAevjFNisbY66+McCiIUOOzMJFOK37lk9q59KQKKQNoRwI9F2sK40r46HTAZCOBhArMDwghnzpwpjogwDQwcOJDwhv/WW29JIrT+/fsTR1nIljhME3DeS7bgTZt9MMK6hVMkxDJ72C/WqFFD3qi9ziXaWu39WsfJcKK0+or2iZT1oHufP39+sWocxSGOoDA72CUaayt2MjiahUBM5RRgDMUKnBLJFFUgkomm9qUIKAK+EfDLnueF3Q/kVNi6xVY4toHh6Y6HIWLn81k+/fRTwgMY1OF2YWc98VfAgxsPG4hFy27Vw0MN7SHWDoF1LdHPDz/8MKyLqVOnyjmHdoaV4wTKMTtR0ieffCI2fnsF7KrgXiNKw8ta7W2tY6wb64v1h0iLRIXDLmWezl0I5JKBwoYoErtEY23FfYNS6JaQDsnoIBwea+8u4WNVIBKGUDtQBBSBRBCwyG/gmOf2o21nz0MdONwhrXckWbBgAR155JESEjht2jSCHR3KAxQVbM3ns+CNFnhedtllsp0NswS2yocOHUrwG0Am1dq1awsrKJwswfaJOngAwWfiwgsvFPg4giDMDyIRTBFCip0QKBFwGoTjJEJF8XbeoUMH165hy4fvxTnnnCPmGMwRCgVoo+FY2ahRI3EajLVW187TWIiQVygs+F4idBXr4AgUAu01QmZr1aoVNptorK0I38QOEhQn0L8vX75cdnbGjx9PzPshmWuvueaasP4SPuH/sCqKQFYiENQwzkyD6Qx5y/R8Yo3PHAISzobwv2jCDzrDuS8MQtQihcahPfMPGH6IGH6rC+uO7f0yDv/AhpWn4oR/mAMZxom1she/YV8GIXBiT3/DDzDDb65h8wWJE4idEMoJYigQRoEsihU3IZTiB7NhxlUhcuIHeTEIWQkxRx99dFg57gdwQUihJfiuIiyU+Q4MR1XIeLxjZDhdu2FF0KpWLIwTF9DGIpLCfHhnxYBIyh6u6GWtoUGSeIB5YK2R/i655JLQaAiVxTnuA+4HKz+Gc8eErtsPrP8rIJqKJBxxIffT6q9evXrm9ttvF2KvSG1ilUf6PkPjV1EEshKBdCgQ+DFS1r5whsJkf1m8sud5ZfcDl8GwYcOKTRNcA/ghZHKjYteSXRDpBzdZ46S6/2TNM1Y/UCCgpKgEG4FI3zc1YTAyKopAJAS8MNkpa19B1AyAcGIDm2Ek8cqe54XdD2OAywBbtk5ZsWKFFEVK2uWsr+fpQYAfnekZSEdJPgLB1nt0dopAZARSvQPhlclOWfsi3yMvV+Jhz4tmwnAbk8mLDHu9y/Ywh8i5VUlqGf9Sh5kEkto5d5bq/pM930j9ZZu5LdI6cr080vdNdyCSr5NpjzmCAJjglLUvnKEwFbc21ex5cBJkW7k4lIGEB853KoqAIpA4AqpAJI6h9pCjCFhMdggFhAc6O5MRO3eJhzQeSpbAcxpe7EjfC3IYeIHD+xuJhCB25j08vNhpzGoqn9jit5j3rAsog9jb4jwR1j70af+zSGrsrH2x1oo5JFvAnocwtt69e4vnPfBBCCY7kgkLIjzu4xVEayBEESYUztdAzZo1i7crbZcCBN577728D61NAaxp61IViLRBrQNlIwJemOyUtS81dzZR9jxkaTzmmGOEKhh+KpwIKjUT1V4VgTxFQBWIPL3xumzvCOCtXVn7BroClihrX6rY85ASmu3rhORPoO8FL4BKchDIRqbTTp06he2+LVu2LDlgZEkvcEC2dh/BO5EsUQUiWUhqPzmHgBcmO2XtS4y1LxXseXg4MG8BHXrooYSMhPBjUVEEYFpkZ0f5q1OnjgAC2meQY1WpUkVMj/jOcHptSdYVL2JemFJjjQuzqPXAj/RpMU56YXKFCQ9rhy9QMkUViGSiqX3lFALK2hfOUJiKm5sK9rzrr79eGP2Qwhj9qygCbgggrTj8lpCHA7tUyAXywAMP0JAhQwjfoXjEC1Oql3GRs8JSdpyfSMUOsVhV/TC5xrOmqG14ciqKQFYikOowToDihclOWfsS//p4Yc/zwu63ceNGCXHkH72In0zXnPiEY/SA8TmfQYxa8V9Odf/RZpaNoZdgegQ7qV3A6sg02obNcPZic9999xl+6zcgLvMjXplSExl3/fr1wiDKykNoahY7ZSwmVzQAcyenTg+19XoQ6fsGLUdFEchKBNKhQAQJGGXtC9LdiD6XSD+40Vt5v+qnf048JQ9KPHycwrkYRNHiPBJyiU0+5pRTTjG8cyNt2HZuBg8ebHhLPdTUqUDwW7zhrJmh69bBiBEjpG9OjGUVGU4XHqKfBm0z+6gI/TS/RYfqpOLATYHAgxQU3U4BTTTw5fwczktRz70ypSYyLue4kHvDpGihuXhlckWDZCsQasLgb4qKIpAtCPBvQLZMVecZEASQYIpJ0WjSpEnFZoTETXA0PeGEE8gro2qxTjwWIEMmk4aJfwEiZJD5k2nH6fnnn6fTTz9d0le7dZWoo65bnwhdxvjI3OmUgw8+WMKlOdeG81LUcy9MqYmMi/Tljz32mLCsIhW4JV6ZXK36yfxUBSKZaGpfioAioAgEDAE4CcKmjhTRdkGkytKlSyUzJxz13nzzTakHpzw8oCpUqED85k5IqT127Fh707iOOZmZ8J3ANwXOikjLjWyacFqcOXMmIWukmyBqAIpzrD88wL0KMrRC3CISwP8CPhSrjtc+vdSz+oxn3HvuuUfuDzJt2gUKBPhhkHG2YcOGhOymuH/w47Dz1djbJOtYFYhkIan9KAKKgCIQQARAzHXuuecSSJvgKGjJuHHjxNMfOxQQKA5s5iiWQho7FHA0hINgvIJxP//8c+KMmxLtYO8HYaEQODKmS7AjAwHbrJugHKnFky3xjsu+WPTcc89Jnpe99torbFqpZnING8xxogqEAxA9VQSCioCy9gX1zgR/XlASEDJrefCD4RRv/NhdgIIA8cOo6nfFv//+u5guXnjhhWLhiXZGVL/9xlufU4ZLU4Rcugmwsuq4XY+3zOrT77igYOccLmSFbtrHTyWTq30ct2NVINxQ0TJFQBFQBHIIAZBqgQ/DMhNMmTJFtugvv/zy0CrTwah61VVXRTRFTJgwITSXVB+Ach4CCnWn4EGNrX9LsXFeT+Q83nFfe+01Qli5xV/hZQ6JMrl6GUMVCC8oaR1FwAUBZeRzASVHilLF3JcpeJCb5eKLL6YPPviAYDN/6aWXxAcBOUcg2CF46623hFsAtvS6deuKDwTawXkvmiC/izNnC+pb9n4c16hRg+BbEKsv1HVKKpwo4SOw33770fz5853DEUdTyNs+HtjJlnjGhZ/KnDlziKNjik0nVUyuxQaKUKAKRARgtFgRyFUE3Bj5OHRNEljBeQzbrPBOx4Nkw4YNYTDEYtCzKs+aNUsSkOEtDuPBsx3JsmBjj0e89ud1fvCwb9OmjSRIg4NhkyZNaMyYMaGppYq5LzRABg5gxmCuAInGgCkDygMcJSGJMKpyCKe8scMEYhewgFoCh0kOJyUOFyUQKdll+vTp8n1DlIabpMKJEuNw+COBbda5CwFnUyhOHTt2dJtOwmV+x4XvCKRp06bFxk4Fk2uxQaIVsGeriiKQlQhkmgfCGQ+fDSC6xcPzW5jhB4kBX8DcuXMNO7wZDu8THgB+yIaWtXLlSsOUv+a0004znOVSuAH4QWT44WCuvfbaUD3+URbSHpDd/Pzzz4Yd8IRUiRUTw8mtDL+thup6OfDan9f58Va54bdhw9EJhhUOw0qSefjhh6WMHQnDppTsuPmwzhM44d/0uIiq2Evf8O5CGPcDpoF7ctBBBxlW+OQ7wM5+5p133jHggeCdC6mPc97eN87vPStecr1Pnz4GfA64DxxxYVgJlXKLB4KjPgwra+bII48UkiaMgWu8LW/44Whwnipx+96DQIp3Rgw7dsr3AOPzzox8dwcMGBCaCis4so7u3buHymIdsF+CtHF+n9DO67jWGHfeeaf0xUq0VRT2yeyZcv3mm282HCYq9wAkZqx4GVaMDcjVLEn29xn2KBVFICsRUAXC/21z+yFt27at/Gjym1hYh3gI4EGFBzjEK4MeiIXww8xvR2H93XrrrdIfh+yFlcc68dqf1/kdcsghMj87ORLmAIZKKDnMDxCaUrJ/cEMdJ3gQrwIBlkW0BYETe++HzcIro6pTgYBS0a9fP1EEwPaIvjk000ycOFHGYuff0Di88xMikuK3fLkPYBi1Yx6qnMQDt+89umeTisE1PGxBbMVJ1wynkQ8b2VIgbrrpprBy54kXplSrjZdxrboW0yQIriKJFyZXtE3291kViEh3RMsDj4BfBUIZ+Yz8WDopfZnMxwwbNqzY/X7xxRflAfDss8/KNa8MeuiLQwSL9Yd+8PBiR75i16IVeO3Py/xAN4w5dOjQodiQ77//vlxjj/fQtWT/4IY6TvAgXgUiwWGztnkkBcLrgnr16iVKkdf6Qa2X7O+z+kDw/0SV/EBAGfnc7/MNN9wg7HbOq0yXK0W8tU1+GPR4K1Uc9pz9wREMhEUgu/EjXvrzOj/+YZehMQ+nwP8DgnmqKAIWAuC/gNNp+/btrSL9/BcBVSD0q5A3CCgjn/dbDQ/6Rx55hHhLVzIWWh718TDooe1DDz1EnBuB+vbt60of7H1mu7z7nf15nR+UBDh0wjHNGYsPKmfIqlWr/ExH6+Y4AiBugoLKpq8cX6n/5akC4R8zbZGlCCgjn7cbhxh43uoU9kEQ2CBMjx3MpLEf5r7FixfLjgPC5QYOHEhsfxcFwtssiteK1p+f+YFxcfny5dS5c2diZ1BZJ6ia2fYtgyJSQSX3EEDEAnae8Lds2bLcW2CUFVlhyaArT6aoApFMNLWvwCOgjHzRbxEeqC1btiSEMb799tvUrFkzaRAPgx7e9GEygEICRQQ7GhyFETclcrT+/MyvXbt2NHnyZFq4cKHshsBE8+677xJyNEA4E6V86j+5gwAYMPFdtP7q1KmTO4vzsBIrLBnrB69GskQViGQhqf1kBQLKyBf5NiFDIh7w2NrHdn7r1q1DleNl0EMH2AI+//zzJVkT+BewE5GIuPXnd36cxpk4tbTwHyArI2L/QXQEgUKhoggoArERUAUiNkZaI4cQUEY+95uJzIxQrpAXAUmN4PtgF68Mekj6w+GQsuNgb49jK3XyggULnJcinnvtz+v8Ig7EF6BAQVq1aiWf+o8ioAhER0AViOj46NUcREAZ+cJvKuzBeCNHimWwByJngpt4YdBjoiliEioaPny4JE+y9zN79mw5BU2yV/HTn5f5YVykQ4ZDnN3XARkNR40aRfXr1xenUa/z03qKQF4jwDYRFUUgKxHwywNhX6Qy8u1G4+yzzxaGQObc313ocuSVQW/kyJHCp9ClSxdhogQTHsiowGpYuXJlYbFE9xZBTyyGP6/9eZ0fiI3ARMmZDYUVEMyJIJECPwabbsJWnuy4+bDOEzjhh1ZcTJQJDKlN8xiBSN+3knmtPeni8xYBeOAz9a5s2Z9wwgkhHGAHR1ZAZp0TZ0KYPOBUCBs5+PxhN0eEwm233RZqYx1gZwNv83AYZPIjwrZ6165dafDgweIDYOUbOProoyWMcNCgQfK2y9TRktgH2RDvuOMOQm6GdMmmTZuIKYpluEi2f5gknn76aWKiJpk35ghMMO969eqJc2S3bt1CU2Zaa0J+BOxCIMcEfCpq1qxJWDfCOJ3jAONo4rU/r/ODqQb3mNkSCc50uOfHHnus+H00b9482lQCdQ1pnFUUgUwiUAClKpMT0LEVgXgRAK8DxPKej7effGrXqVMnQmpgZ+KjTGGABFvgZoAyF0RBxAYcSv16riNUEEonM16mZFluRFgpGUg7VQT+RcDt+xxd9VfoFAFFQBFIEQIWw9+UKVNSNELudqvvfbl7b7NpZapAZNPd0rkqAjmEgMXwl0NL0qUoAnmFgEZh5NXt1sUqAiTcB/nKyOf1/qeKuc/r+FpPEcgGBFSByIa7pHNUBJKEQL4z8nmFMVXMfV7H13qKQDYgoApENtwlnaMioAgoAoqAIhAwBFSBCNgN0ekoAoqAIqAIKALZgIAqENlwl3SOioAioAgoAopAwBBQBSJgN0SnowgoAoqAIqAIZAMCGsaZDXdJ5xgRgeXLl9P48eMjXk/XhXp7NaZf1y+hLTs2pWtIHUcRUAQUgYwioApERuHXwRNFAFkkQQGdSbmuYw86s8eFVK10TbrnyX408uVhmZyOjq0IKAKKQFoQUCrrtMCsg+QqAkXbiDbONWR27l5hmf2JytQo2F3g8wiZIZFSeufOnYR8B8jVkGuyaNEiOvzww2ngwIEEOmsVRUARyD4Ecu+XKfvugc44ixHY8nO48lBQSFSqavzKA6Dg7JM0a9Yseuqpp3JSecAakU4bSbmgQHAWUBSpKAKKQJYhoDsQWXbDdLrBQWD7X0SbWYGwS9k6BVS6qr3E3zGnlqYGDRoQMlAOGTLEX+Msq40snc2aNZNMnZxiO8tmr9NVBBQBVSD0O6AIxIGAYdPFBofpouQeROUPS2z3oX379jR79myaN28eVahQIY6ZZVcTZLpEOvVx48ZRx44ds2vyOltFIM8RUAUiz78Auvz4ENi00NCONbvbFrAxsELjAipRZneZ36PJkyfT2WefTW+//bZ8+m2frfWvvvpqmjRpEv3www+EBFsqioAikB0IqAKRHfdJZxkgBLb/zaaLJQ7TRW02XVSLf5IbN26kRo0a0XHHHUfIV5FPsnbtWqpfvz61bdtW/D7yae26VkUgmxFQJ8psvns697QjYLYTbfklXHkorEQJKQ9YxF133UXr1q2jhx9+OO1ryvSAe+65Jz300EM0evRogklDRRFQBLIDAd2ByI77pLMMCAKbFrHpYrVtMqyCV2zEpouytjKfh3PmzKHmzZvTk08+SVdeeaXP1rlT/ZxzzqHFixcT8ChTJgFbUO5AoitRBAKNgCoQgb49OrkgIbD9HzZdLA7ffShbi00X+8U/S3A9HH300VS+fHn69NNPqaAgMSfM+GeS+Za//PILNWzYkG6//Xa68847Mz8hnYEioAhERUBNGFHh0YuKwC4EzA42XSwLVx4KK7LpIgHlAT0/+uijNHfuXNl9yGflAVjUrl1bTDl33303/fTTTyhSUQQUgQAjoDsQAb45OrXgIICdB+xAhIQ3CsR0US5U4vvg119/lTfunj17CqGS7w5ysMGOHTuoRYsWVLlyZZoyZUpe78jk4O3VJeUYAqpA5NgN1eUkHwH4PMD3wS6gqgZldSJy3nnnSeji999/T2XLJuBEkcgkAth25syZ1LJlSxo7dix17tw5gDPUKSkCigAQUBOGfg8UgSgIwHSx2Wm6YH6nMtWjNPJw6fXXXxfugyeeeEKVBwdeRx11FF1zzTXUo0cP+usvpvtUUQQUgUAioDsQgbwtOqmgILB5KZsu/mebDUwXDTnqorytzOchwjVBV33aaafRs88+67N1flS3MDr99NNpzJgx+bFoXaUikGUI6A5Elt0wnW76EADTZJjywEOX2T8x5QGzRxKpLVu20AMPPJC+xWTZSHvssQcNGzZMzBjwhVBRBBSB4CGgOxDBuyc6owAggPTckuuCc15YUsi7DhV494ESiLRElk3Y9/FWfemll1pd62cEBOAn8uOPPwo3hPqJRABJixWBDCGgCkSGgNdhg40Asmwi22ZIWGmo0KCAChPIb4UIA9j38XY9depUjTAIgRv5wIpUueWWW2jAgAGRK+oVRUARSDsCasJIO+Q6YNAR2LGWTRd25YEnDKfJRJQHrHno0KG0YMEC5Xzw8QWoVauWKA733nuvRKz4aKpVFQFFIMUI6A5EigHW7rMLAZguNs4zVLR197xLMNcDOB8SMV1YLIu33XYb9e3bd3fnehQTAbB1YuemYsWK9Mknn+jOTUzEtIIikB4EVIFID846SpYgALbJbatsk02C6QK9IdPkokWLNM+DDVo/h19//TUdc8wxNGrUKOrSpYufplpXEVAEUoSAmjBSBKx2m30I7FhH4coDLwFU1YmaLl5++WV65513CJwPmiQqvu8Fko11796devXqRatW2TW8+PrTVoqAIpA4AroDkTiG2kMOIGCK2HQx12G6YHJIMV0koGavXbtWOB/OPvtseXvOAagytoT169cL9feJJ55Izz//fMbmoQMrAorALgQS+GlUCBWBLECAFQMvsnV5uPKANuUOYvtFgv9DevfuTdu2baMhQ4Z4mYbWiYJApUqVxAH1hRdeoA8//DBKTb2kCCgC6UBAdyDSgbKOkTEEtv1JtHODobK1C6igpPs0dm7g3YcF4bkuYLpAqu5E5KuvvqJjjz2W8MC7+OKLE+lK29oQOP/88+m7776jefPmUYUKCcTV2vrUQ0VAEfCPgCoQ/jHTFlmEwJZf2SnyDw6gKMUKASsRpfZ2TJ53KDYg6mLL7vISZZjzoTErHAnsPmDX4YgjjqADDjiA3n///d2d61HCCKxcuZLq168vPhGDBw9OuD/tQBFQBOJDIIGfyPgG1FaKQDoRMP8ySZrtnBSLU3LjD8eWbFkRrjygvOyBiSkP6OPBBx+kpUuX0siRI3GqkkQEqlevToMGDRIq8Dlz5iSxZ+1KEVAE/CCgOxB+0NK6WYfAxvmGdm4MnzZMGdiNwE7Dxh/YdGGzXpSuytfqJGa6WLx4MR1++OHUv39/Au+DSvIRKCoqolatWhE+v/jiCypRQt+Fko+y9qgIREdAFYjo+OjVLEdg/bfhOw5hyynkMyaOskRMF0wYVYDyBARZNv/44w+aPXs2lSrFthOVlCDw/fffE8I7R4wYIem/UzKIdqoIKAIREVC1PSI0eiHrEcDmgs1cUWw9NuUB17DzkKjygPBCZI986qmnVHkoBnhyC7DLc+ONNxIiXX7//ffkdq69KQKKQEwEdAciJkRaIVsRgGPkhu9t9okoCykobThZVgkqUTpKpRiX/vnnH3Hu+89//kOPP/54jNp6ORkIbNq0iRo3bkwtWrQgEHapKAKKQPoQ0B2I9GGtI6UZgSJbKu5YQ5ttBUIktc2RRCtWO/v1W2+9VWzxGhlgRyW1x+XLlxdl7ZVXXqFJkyaldjDtXRFQBMIQ0B2IMDj0JJcQQEZNpOX2KyX32BWJAZ8IrzJt2jRq3bo1jR8/nrADoZJeBDp06EDg3Zg/f74k3Urv6DqaIpCfCKgCkZ/3PS9WvZVDNLeuiG+p8IUoU6OASlcLbz98+HCqU6cOnXfeeaEL4Hxo2rSplE+ePDlUrgfpQwBOqw0aNKCrrrpKwjvTN7KOpAjkLwJqwsjfe5/zK7en5Pa7WKT13vKLkTBPs2N363HjxlG7du1EgVixYpd2AppqpOtWv4fdOKX7aL/99iOYjoYNG0bffvttuofX8RSBvERAdyDy8rbnx6I3/WgIGTbjlRKcTAt01iUr7+ph69athHwM27dvlwgLhGj27NmTHnroIXl44VglcwiAE+KEE06Q3CMzZsygwsIE43EztxQdWRHICgR0ByIrbpNOMh4E4t2BgPmibM0Cqsh01pbygPG/+eYbUR5wDCUCEQDYfYAigZwXKplFAGRSTz75pOTJQOp0FUVAEUgtAqpApBZf7T2DCPiJwrCmWaoKp/A+nH0fqnOJg5ASjIdOYii89W7evJmOO+444STYsIEzc6lkDIFGjRoRomHuuOMOWr58ecbmoQMrAvmAgCoQ+XCX83CNkgPDRwBGYUVOoNWwgMohD0YE8sjPP/9cqJOdcO7YsUPK8dZ72GGHkTpSOhFK73nfvn2patWqdNNNN6V3YB1NEcgzBFSByLMbni/L9br7AOKocnULmESqgApjZIaePn067dzpoK+0AYprYESEqUMlcwiUK1eORo8eTRMnTqQ333wzcxPRkRWBHEdAnShz/Abn6/K2/7Mr+2bE9bPqXIbNFKWre8u8uWTJEjr44IMjdleyZEkqXbo0vfjiixKlEbGiXkgbApdccglB6QM3BJxfVRQBRSC5COgORHLx1N4CgoDZGnkipfbe5edQ5gBvygN6ipbxEX4RtWrVoq+//lqVh8iwp/0KODvgn9KvX7+0j60DKgL5gIAqEPlwl/NwjUXbijtAFJZnP4f67OdwMKfy9pnzAgoEdhmcAs//U089VTJv1q9f33lZzzOIwL777kv33nsvPfroo/Tll19mcCY6tCKQmwioCSM372ver2rTQuaAWLMLhgJ+7pfhsMzSHGERr0A5+PHHH0PNoTgYYyQTJEI5ca4SPARwj6Dg/e9//xPfFLsSCOdXKIbgjlBRBBQB/wjor55/zLRFFiAgTpQchll6PzZXNElMeVi3bh0tXLgwtGo8hMqWLStOevfdd58qDyFkgndQUFBAiI7B/RsxYkRogjNnzhT68csuuyxUpgeKgCLgD4Hie7L+2mttRSCQCBSWIyoPUwWzSSYq2P4G3wME/g41a9akd955R0I2E+1b26cegXr16slO0V133SW7EYjQeOyxx0TxQ+TMn3/+SdWqOZKepH5aOoIikPUI6A5E1t9CXYAbAgjNTIbygL5BiwyBmeKcc86hOXPmqPIgiGTPPyCWgpJw4oknyo4ETBtQHrBDATOGiiKgCPhHQHcg/GMWVwukeVbJTgRef/11edBcdNFFkkQrF4mikA47VwXcHNdffz39/PPPogRau0lYL3aUoCCef/75ubp8XZcikDIE1IkyZdCGd4w3HRVFIKgI4I081wSKwtNPP009evSQ3CXIX+ImLVq0IPhEqCgCioA/BFSB8IdX3LWhQLzyyiuUy296cYMT4Ib//PMPrV69murWrRvgWcY/NeyMYWclFxUImC0QxhlLsAuxfv16KlOmTKyqel0RUARsCKgPhA0MPVQEnAjsvffeOas8ONeaa+f33HOPJNWC8h4tzBY7E7Nnz8615et6FIGUI6AKRMoh1gEUAUUgEwhAaRg8eLDkw0B+DOw0uAkoyNWR0g0ZLVMEoiOgCkR0fPSqIqAIZDkCbdu2FRKp2rVruyoRIJT67LPPsnyVOn1FIP0IqAKRfsx1REVAEUgzAoceeqgoEWeeeSYVFhaGjQ5ny2nTpoWV6YkioAjERkAViNgYaQ1FQBHIAQT22GMPMWfArOH0i4Cz7NKlS3NglboERSB9CKgCkT6sdSRFQBHIMAJQHG677TZ66623yO4XAX8J9YPI8M3R4bMOAVUgsu6W+ZswwtMeeOABatWqFe2zzz5iA0ZkwSmnnEIvv/wywf7rlEceeUTe0PBja/9DmBvCGa+77jpasWKFs5mcN2rUSNpce+21rtczXThr1iy64IIL6IADDpCwvYMPPlhojoFTLFm0aBFdeOGFVKVKFWmLbXGECdqJidBHrDG2bNkShqsdY+v46quvjjUdvZ4AAmAUBfcDaMkt50pVIBIAVJvmJQLKRJnDt/3bb7+lc889Vx52AwYMoNNOO4323HNPWrJkCY0aNYouueQSev755wlMi0gO5ZRXX32V/vOf/4SKkdEQtuIbbrhBEkkh9K169eqh67g2f/58grPaiy++SA8++CBVrFgxdD3TB5jf6aefTu3ataPPP/+coEi99957dMUVV9D06dOlLFK43x9//EHHHXecJGD66quvRAFB206dOtFvv/1GI0eOlOV5GQNYR+JdePPNN2V+4GbIBVm+fHmg3+z79u0r6b7xfwW7Eq1bt84F2AOzBihoLVu2DMx8dCJJRoB/yFTSgADfNsNEUmkYadcQ/LA3+++/vznkkEPM33//7TruQw89BPpB07Nnz7Drw4YNk3JWIMLKrZPXXntNrt95551WkXx27NjRVKpUyUycOFGuP/XUU2HX/Zxs2rTJvPDCC+bkk082rJT4aRqxLisApkaNGmbr1q1hdW699VaZL7+RhpXbT3jXxfCWtwGuduFsnIZ3DcwPP/wgxYmMwbsghn9wDSsP9iFSeozvJL4DqRKrf4yhf/mHAb+ApOqrpf0GAAE1YfCvWi7Ko48+SsgBwEqCvGm7rREUv0cffTQhXTV/F92quJbBTAFBbgFLVq1aRRMmTJC3Z4TNYWeCFQjrsufPr7/+WkwkaA8zCEwMMDckQ7CbAnMO4v7t0rBhQzldtmyZvTjsGCyieDuFGcguyKEA7FipkuJExujXrx+tWbOGhg4dah8iJ46BUdD/WPElZF4N+jyzZX723cuc+BLrIoohoCaMYpDkRsEbb7xB5cuXpzZt2kRcELbr8YPpV5CNEgIfAEuQc2Dbtm10+eWXS5hc586d5WENhaB58+ZWNddP3iEh3m2gZ555hubOnSv1Yf64+OKLQyYQmE/gexBLeCcgYqbMm2++2bU51gPfA0uRcFaCiQJzbNCggfOSKDiwoX/zzTdyLd4xfvnlF0kx3adPH+Kdo2LjaEHqEYBpS0URUAS8I6A7EN6xyqqaeJDWq1ePSpZMno6IUDfY6NnkIc5ncKaEwIkQPhUHHnggnXTSSVIGvwLIk08+KZ9u/7ApQZwS8cDE2zccPWGLhhMinAjt/hP77ruvpzfDww47zG0o17I///xTdmhGjBhBsIW7KQhoiHoQzMEpUMLgS2HVcV73OgZol+EbgV0hFUVAEVAEsgGB5D1dsmG1eTJHPJjB729/AMezdEQc2AVv2uxDIGYKPHCtByrSW+MNeuDAgfImjzZ4kMN5CpEe2JJHDL5TNm/eLFv/MA0gqZOXHQZnH/GcL168mNg3RJoCI/ZjoEg7B6iEeUKcpg8p/LecfTasU/n0M8avv/5Kzz33HPXq1Yv22muvsH70RBFQBBSBoCKgOxBBvTMJzAvhlnibhT3dKfPmzXMNIYQJwSmIwrDbW2GiANnOY489RtWqVQtVf+KJJyRZEcwXdsEuxMaNGyXSw15uHSMOv3379uKljwd69+7dyTKPWHVS8Qm/CqwLOyr//e9/CWGrxxxzjGTddBsPpiAI1u8mUNisOtZ1P2NgDgin1dBNCz39VAQUgWxAQBWIbLhLccyxSZMm9NNPP5HzzRgOkHal4MMPP4yj991N4EiJcEaYMRC+afEY4LNr165SMZIzJRQdOB+CUwJhpgilbNq0KR111FEEnwooH6kUvO3DCRJmGfgwYCfCTaxQ1b/++qvYZTz4oYhEcvT0MgYwaNGiBdWpU6dY/1qgCCgCikBQEVAFIqh3JsF5gUcAZgzwMaRSoBxAefjuu+/CFBNLSRk0aJA4Rs6YMSPiNGAKgQnh+++/F3KfI488kji0UiI5unXrRmvXriU4UdqVk0jHP/74o+s4MBNceeWVsuPgrGD5PixYsMB5Sc7ho7GiR8gXAABAAElEQVTffvsJx4WzAnxNoERAAYhnDOzoYNcFxF4q6UPg1FNPpcqVK/seMN52vgfSBopAFiCgCkQW3KR4poi3fzhR3nHHHQQGxUgC4qd4BVv6Y8aMkV0D7Hi4yWWXXSYP/mjOlPZ2eBDDJLJy5UohZ1q4cKHsUCTqRAn/CvhjDB8+vBhzJAixIGDZjCT/93//R59++ik5dyEQ3glHVebAEB8Ov2OA0AqCnRcVRcBCwCvrqVXf/plIW3s/eqwIxESA3xRV0oAA34i0EklhSfxDYtiZ0TB3gWFeCMNvyIYf+oY5G8w777xjePteSJCYkdIwF0QIhVhEUlZF3t0QciD2IbCKXD9BBsU+GYa3+l2vp6uQ2SJlvl26dDFsejFsIjGsFAhG/DZqmKFTpsJmHal3yy23hKYGAimQUHGUieDKjpXmpZdeMmyGMWx+CdXzOobVAGRc+G5w5IlVlNZPi+gpVYOmuv9UzTuT/bLybFjhNcwcK99Jpj43HJZt2OHXMDdK1Kkl0jZqx3FcBIkU/lRyFwFsO6ukAYFMKBBYFn582OlRHnxQJPhtWRSKZs2aGTYbGA6bLLZ6rwoEh10ajswQhaRYJ7YCpsuWhyT6zbQwbbc54YQTDEeFiFIDpk6mozbsLxKampsCgYscaWKgbPFuiOGIDMP+JIZ3S0LtrAMvY1h1wXCJ74Z9fOtaOj5T/YBPdf/pwCjdY3hlPXWbVyJt3fpLpEwViETQy462qkCk6T5lSoFI0/J0mCxFINUP+FT37wY7dtugGELJY8dUw+m7Q/Tq7DArTdjnxHBemFDzs846y7AJy7DJzHD+GMPOr6JkQknm3Cehes52oQtJPICij/k4BUomfkfuvvtu56XQeSJtQ50k6UAViCQBGeBu1AeC/0eqKAKKQG4gAP+ZG2+8kUCnjgihqVOnivMrfIEg0bg84KgLX5drrrlGEqTBPwW+OIjUQQZVL5Kos68f1lPnfBJp6+xLzxUBLwioAuEFJa2jCCgCWYEAcr8gHBZU6IiewfHYsWNDZGDRFoFoH0T/gP69QoUKhJBn5GNBThlECHmRRJ19LUZT9OMUL6ynaBNPW+dYeq4IeEFAFQgvKGkdRUARCDwCSAqHsNjjjz9eiM2sCYNB9YILLrBOo34iTNMuFgcIlIh0SDysp9a8Emlr9aGfioAfBFSB8IOW1lUEFIHAIvDHH3/I3KpWrVpsjhZ1ebELtoLCwsJi2Vbx1g8B10c6xGI09cN6as0rkbZWH/qpCPhBQBUIP2hpXUVAEQgsAtYbOEjGnOJW5qwThHNrx8PJN4K5xWI9TaRtENauc8g+BFSByL57lpEZx8vAF2+7jCxSB81qBCzbP1KvOwWmjXRIok6UXllP3daSSFu3/rRMEYiFgCoQsRDS61mBQLLY99avX08HHXSQsGci8RgEHviRqLOtciTC8lovKwDNwkkiHwkox7/88suw2YPSHflG0iGJOlFijl5YTyOtJZG2kfrUckUgEgKqQERCRsvDEPjoo49cs3uGVXI5ibedS1cRi2D7Pu644yRnBsfsE5zpHnjgARoyZAhdf/31Edu5XejRo4eE/9mvIbMph2K7/jFDoFRF7hGv9ex963FyEUDUBPKT3H777UI7jjTzoBlnzofkDpTC3hByCkUE3ymkhYdiCop0RJjcddddVKtWLRkd/7egwCJyxBKvba36+qkIJIKAKhCJoKdtA4EAE+vQhg0biKmlZfcAWT7PO+88+bFFDo5ICback2d6b3rmmWckxbjzmts5xrzhhhvkh97pvW+v77WevY0ex4cAU4OL8oAU6TVr1qQzzzxTEpWBGwKSDb4QTAZF4KCASaJly5ai/DAZlqSd79+/f1RgEmkbtWO9qAi4IRBgkqucmhpjn/ZcGF4BzGfmPgsj5Lrg7W/Db31CT437NXfuXOuy6yfvVphKlSoZTkfuet0q9FrPqp/Oz1QzRaa6f69Y8du7sDh+8cUXXptovQQRUCbKBAHMgua6A+GmVeVRWT4z99lvM7a+4eU+YsQIe3HEY2yNc44RSUOON8VI4rVepPZa7g+B5557jjhfSTHmSE5WJiyUDRs29Neh1lYEFIGICKgCERGa/LiQz8x91h3mrKL06quvikKAtN9e5J577hGfB/hMRBOv9aL1ode8IwBfB5iyOKkUwTcG/jCjR4+W+4syTqLmvTOtqQgoAlERUAUiKjy5fTHfmftwd9n8IH4M7dq1E18GL3ec06IT3nTh/8BJlyI28VovYgd6wTcCuI8TJkwgTjxFnMqeoBByunm677776OGHH/bdnzZQBBSByAiUjHxJr+Q6AvnO3If7e+WVV8pthinHq8BBD+YOhG5GE6/1ovWh1/wjACUCfyqKgCKQWgR0ByK1+Aa693xn7hszZgy9//77hEgN8Ad4FXAKtGjRQhI1RWvjtV60PvSaIqAIKAJBRUAViKDemTTMK9+Z+6wMi4i3twih8AmHSkjjxo2l3J4HAYyGc+bMkdDAaLfIa71ofei17EQAoaMVK1bMzsnrrBUBHwioAuEDrFyrmu/MfbCNc6RUsT/LnMFhnHKtZMndlj7E50OaNm0a9evgtV7UTvSiIpAmBBClgoyl+E0Aj8rBBx9MvXv3JjCzqigCkRBQBSISMnlSnu/MfX5vM5zzIKC7jiZe60XrQ68pAulAYNq0aZICvXTp0kJghUReYHF9/PHH6fTTT6eioqJ0TEPHyEIEdr9aZeHkdcqJIwDmPlDlIqpg2LBhdOCBB0p0AVIDX3HFFVnF3AcaXzD3IbqkXr164n3frVu3xEGy9bB69Wo5ixUO6LWerWs9VAQyggD+3yBaBU6/UCIgHTp0IOxKIMz7m2++EZ+fjExOBw02AllAdpUTU+RvQWCZKN0AVuY+N1RyryzVTJGJ9s+ZNc3NN99seMfHcK4Rww86c9ZZZxnOeRJ2Mz7++GNzyimnCDNouXLlDIdwGqZ/Nqwch+qhXd26dQ37sJjWrVubChUqmMqVK5tOnToZVjoN55swTZo0MWjPirQZPnx4qC0Ojj/+eMP02Gb27NnmxBNPlPasaJuTTz7ZfPfdd6G6Z5xxhlwLFfDBt99+a5he3ey9996GH9LS/y233GLWrFkTquZ1raEGSTrgFwczbty4Yr09++yzwt45fvz4Yte8FCgTpReUsrsObLwqaUAgqArE2LFjDWfwMxyREYYCKJ3xQ7d27dqwcj3JLQQSfcDHQiPR/k877TTDdnkDCmp8R9k51bCt3rCTomEzkQw/ffp0w34qht+ahVacc4+YF154wbBDrLnppptCU8QDnImmDCdeM5yx07B933DSNXlIQiHAgx/98+6RKBX4P4t6lnC+E1FioGRMnTrVbNy40bAjruHkVoZzUBje+peqTgWC3+RFKWnbtq3hvCwy7qRJk0zVqlXNUUcdZThbqLTzslZrLtYnxsQ8Y/1xgjGriedPKG7AcP78+Z7b2CuqAmFHIzePVYFI030NqgIxceJE+ZFgc4VZuXKlKAyjRo0yJUqUkDe/NMGjw2QIgUQf8LGmnUj/UBjwPbzqqqvChoFSiwc2crhAOBulKBRMGx5WD7sMUBgsgQKB/4dvv/22VSQPbygjpUqVMr///nuoHHlQUJd9AUJlUAxQxsyloTIcYOcC5di1gzgVCOxcQAmy74agHiduC/Xnda1ol2phfhjz4IMPmsLCQtOvX7+4h1MFIm7osqahOlHy//x8FmXuy+e7H+y1wx7Pb+mElOms6BK/qcuE4X/Cyc/EVwcF/LCTaAErzbW1KvjzsLJBlj+KVd6qVSvrkBBhw2YF4fSoXr16qLxatWpybJGthS7wASsI9lM66aST5NwKC7ZfhD8OInJQB9ENdkG4JwQp6L2u1d4+2cdIHY4wZnCiDBw4UNg7+/btm+xhtL8cQkAViBy6mfEuBUoEfuTYHktbt24l3rKkXr16Eb/9xdultlMEEkYA3z/e6pcHPEIM2V+BkDYdjn3//PNPqH84AQ8dOpTYNEFQAvCghmLANnyps3PnzlBdfquW9NihAj7AQxNKhF1QBrG3xTnvVBBSZtvFavvnn3/ai+WYdzUkioFNKjIO+rX+EDIJ+e233+T/mpe1SoMU/YPQTX71FWzhUIkw52OOOaaYApai4bXbLERAnxBZeNN0yopAviDQvHlzYr8BYj8H6tmzp0TYQLk95JBDiB0TBQYQgbEZQ0IOP/vsM3kAQqno0qVL0mFyU6rx0IW4XbMmwGYYeTijrvMPuTsgXtZq9ZfKT+R3Of/88+nNN9+UCAzkEVFRBNwQUAXCDRUtSxsCytqXNqizdiC8scPscPfdd9PMmTOJHSpFkcA2O97w33rrLUmE1r9/f+IoC+LoCtmBQCr1ZAt26GAWsQtHT8ipZfawX6tRo4YoFl7nEm2t9n6tY5hyrB2NaJ9QwtwECd+QDwY7Dk5p0KCBFC1YsMB5Sc8VAUFAFQj9IigCPhCAvT3aD7Wd9nrRokV04YUXSow9ttUPPfRQuvfee4sR8yDOvk2bNrJFz6GKxF7+hDwd+S6ffvop4QEM6nC7gOsDpgo8uPFAh1i07FY9jjogtIdYOwTWtUQ/P/zww7AuOCJDzjmSI6wcJ6C0ZidK+uSTTyS9uL0CdlXwkP76669lrrHWam9rHWPdzh0Nt3NkJnUT8D+wEyhxyGqx7yWHq0oTKGUqioAbAqpAuKGiZYpABATgJwKBY57bD7VFew3nO9jk8bYKJzk403HIoDD8XX/99aHe4RzIoXzyoMGDBA/Fyy67TDJ9wtafz4KEZcATeABDmCXg+wB/B/gN4M25du3awgoKHOfNmyd1Jk+eLLTMUN4gIERy+jLEiytzRMhOCJSITZs2ERwnb7vtNnE8BPmSm9x///0E34tzzjlHzDFYBxSKSy+9VPw1GjVqJERNsdbq1neiZVgPvmdQFpBddtmyZbIusFPC7AK/kxtvvDHRYbR9riLAP4IqaUCAvz9ZRSSVBkhkCGfIW7rGjXec6667DgbvUOx+pH5QD4REvMUcVoXtyRI2a8Xlsy3f8JtnsRA/fjgakBSBXCiVkkiYpZd5Jdo/b7Eb9mUQAifwkvAbt2FzRtj/JZA4gccB4ZgghgJhFMiilixZIoRS/GA2zLgqRE4ITXQKKyHm6KOPDiu2+BW6d+8eKsd3FWGhvGNkOKpCxsM9Aj8Eb/OH1QNJlV3QxiKSwnxwz0EkZb+/XtZq7zOZx6+//ro54YQTDEe4CNcFvpcg2LK4NuIZS8M440Etu9rgLUolDQikQ4HAj5Gy9oUzFCb71oJ0C4pBLAFPAR5kTsEPMr4LbM83/DYtxyBAcgqnGZdrbJt2XkrqeaIP+FiTSXX/scZP5nUoEFBSVLwhoAqEN5yyuZaaMPjXPFekY8eO9OqrrxJCxrDFjm1fbFEyxS8tXLhQlgkvdcSxIxQNjlVInHPXXXfJH7ZiLUFcOhy0+E1a4sGxJQ/OfPTNjHoSIodtYzixYaueGf9kPKs9bP7oG/k0BgwYQKtWrSJm9SPEmmM+6NtNsI1/7LHHij0WznLY0mfCIHr++efFy97yMfCyVmf/iTqcoT+YMCpVquTsOuwc2+uYt+WEZr+IUDmEAsLvgX845BJ8KpxihQY67f/OenqeXgSse5beUXU0RSCYCKgCEcz74ntWsKtyPgDit15JKAVnPBDpIBYeD3N+o5U+EZqFa3AG3H///cVj/ZJLLiE4gDGtddi4sN/ffvvtxNu7YqPv0aOHfOLBjn7RP2ykluIxZcqUUHvYfDEnpARmRkBCcq7GjRuLHwAerkje5SYI1cPDE4oQnA7hhAbbMZwP4YHPvPzSr5e1OvtP1OEM/UGBgAIAj/+GDRuKggYc4ddgcRNYfABOxz60R6gf1oc6+IRCAQ6Obdu24XJIoOhBoHipKAKKgCIQRARUgQjiXYljTl6Z7JS1Lw5wbU2Q2hie/wgVhBKDnRnskEDhgdMf51cgpiWWFrgnboJyOOBBcD+WL19OnTt3JrbZi9MlFLknnnhCrlvsi3Ki/ygCioAiECAEVIEI0M1IZCrK2lecoTARPCO1nTFjhphmsLMCyl92qiO29coDnxMxETzusdsCce4qWH1CAbHqgAUUUQMwMcHkwVkn6d133xWFBPVjmUusPvUz9Qi89957xIm6Uj+QjqAIZAkCqkBkyY3yMk0vTHbK2ucFSf91QIgFXwb4nVg5FeAD4hT4cMDUYdEY4zrMTmBVhGIB8w47HoZYDaFQqCgCioAiEEQEVIEI4l1JYE54iClr30BXBBN1osSOAuLlQRDlFDz84WAH/xL4RGB3AjlFnAKCIygRMHdEE/iZQOyJn6LV12vuCGQj0ymHT4aRlYGbIRMC8imLNM3NnycTc9Ixg4WAKhDBuh9xz0ZZ+0icRy2GQjcgE3WihJKABzoId5wCMwTk5JNPlk8O9xR2QecuBHYXQBiEKBIIHFOR18Hu6wA/C06pTvXr15cIF6mo/+QVAnB8hkKKvzp16sjaQYiFpGLYvcJ1OODClAa/m3gkFlMqorQwPvNXxNO9tskDBFSByJGbrKx94QyFqbit8EdA/gUoa3jww/kRkSqIDGH+DaGgvuaaa2RohLxCYYHJCKGriEgBZTBY/xA2a6WexhsyfCeYsEjMF3DK7Nq1q7Aqjh49Wt4AU7EW7TO7EAAzJCix4YCLqB0opkOGDKHHH39cwpuhdPoRr0ypfvrUunmIAGuYKmlAgL9aYex5qRjSC5OdsvYljjxHXAgbIisIhn/QTb169QyHuxqmqw7rnBMoGQ6RFfZE1GPKYsPRFWF1cPLGG28IEyJIisAEyEqF4bfNYvVSUZBqoqdU9x8Lk2xjOsV68J3hHYawpTHXirBX8i5YWDlnIRXCMQ5xDiuPdeKVKRX9gEETxGh+RYmk/CKWffWxRaWSBgTSoUCkYRmeh1DWPs9QZbRiqh/wfvvnt2xh+uRt+WK48K6OPCw/+eQTucZhtIZJyQzvDEkbttmbwYMHh9GCOxUIPIg5a2axvkeMGCF9c2Ks0DV2bA3RT0MBZN4ToZ9mLpBQnVQcuCkQw4YNM+PGjSs2HPOxyLx5F6zYtWgFXphSrfaqQFhI6KcTATVh5OGuU7qWzF+2dA2l4+QIAkgwBR6NSZMmFVsRTEAgL+OcDeSVUbVYJx4LvDKiOrtL1FHX2Z91DhPZxRdfbJ2GPsFUCkdHkJp5Fa9MqV7703r5i4AqEPl773XlikDgEEAGTUSy8M5F2NxAgw5fEWTmxAPTD6NqWEceT7wworp1laijrlufbmVgMoU/De+cUN++fV1p093aocwrU2qk9lquCFgIqAJhIaGfioAikHEEQMx17rnnEkibkALdEt6+F8UBOxQQv4yqVj9ePjEuHBU546ZEO9jbwOkVAr6PTAgccqFAIUwYDr2c3VUUCD9z8cOU6qdfrZt/CKgCkX/3PC0rVta+tMCck4NASUDILDuXyvp27twpkS7I1wITBgRRLUOHDpUwV4TuIqwR4bHI0QJBm3gFCeIQ1YDEcRYPgvVpEYDBDJAJQegmTIMgI+NMrfTII4/QMcccI8nzvM7HYkH1wpTqtU+tl58IqAKRn/ddV60IBBYBZIutWrWqKA2YJJK0Ydv98ssvD805HYyqV111lTys8cB2/k2YMCE0l0wc7LXXXnT++eeLKQeZXbET4VX8MqV67Vfr5R8CqkDkwT1XNr7cvcm5yBaInQQ4DH7wwQeS/fSll16SrKzIOQLBDsFbb70lHBvIilq3bl1JboZ2HDob9WYjS6zb7oTlF4DGNWrUECrxWH25DZQKJ0oOz6Yrr7xSdhycY1op4xcsWOC8FPE8GUypETvXC3mFgCoQeXW7s2uxbmx8P/30kySvQipsbMXiBxQPEWeSo1gsexYSXutZ9WN9emUL9Dou3i7btGkjadPhXNikSRMaM2ZMaBq5yhYIMwbYORGNAVMGlAdkQIXAvAGBw6JdQBMOki9IpAggDuGU7X+YQOyCzKqWIIU8SJs4XFSyrVrl+Jw+fbp85xCl4SapcKKsUqWKkJANHz5cTCv2cUGtDoES5Ue8MqX66VPr5iEC/B9NJQ0I8Fcr5URSkZbhjIWPVC9I5W6x8JxbwvBDxIArYO7cuULcxKF9wgHAD9nQ9FeuXGn4R9ecdtpphlNkCy8AyJpA1HTttdf6rhdqEOOAH15CAMTb6+bnn382zFIp95wVHcN2asNvvtKD1/nxNrnhLKuGIxMMKxyGlSTz8MMPSxk7EYbNJt5Yfb88DWGDejhJpH8OTTT8YBSeA4v7AUMCR04yZtgfQb4H7BRo3nnnHQMeCN65kPo455wjxvndZ+VLrvfp08eAzwH3giMuDCuiUm7xQHDUh2GFzRx55JGGFRODMXCNaaVN06ZN5dzD8uOq4vbdHzlypMyvS5cu8t3auHGjwfcNa65cubJ8zzEYKzhSj5lNo47NOyVCTMWOovLdwvp4p0e+vwMGDAhrG+93S4mkwmDMyRNo6ippQEAVCH8gu/2Itm3bVn7gmMY3rDM8AIAvflAhXln2vNYLGyzKiVe2QK/jco4M+ZHnt+WwUXk720Ap4cydofJ4f+QTecCHBo9ykEj/bNeX+woCJ3ZqDBvFK6OqU4GAUtGvXz9RBMD2iL7vvfdeM3HiRBmLnX9D4/DuT4hIis0jci9uueWWMNxDlZN44PbdR/evv/66YQ4MYSuFcoPvByfeMrwrFxrdUiBuuummUFmkA69MqfF+t1SBiIR87pSrApGme+lHgVA2Pnc630cffdSAkc8pL774ovz4g5UP4pVlz2s96dTDP17ZAr2My172sqYOHToUG/n999+Xa+yFH7oW7498Ig/40OBRDlLdf5Shs/ZSJAXC64J69eolSpHX+rHqxfvdUgUiFrLZf119IPjJHjRRNj73O3LDDTdI0irn1RUrVkgRb2uTV5Y9r/WcY0U798IW6HVc/mmRoRA+6BT4f0DAQqiiCNgRWL16NcHptH379vZiPVYEUoKAKhApgTWxTpWNzzt+8J5HLDwnqhJOAMub3ulghx7Zn4Dw8EUdr/W8z6R4TYzhZAv0Oi7miZh/EBo54/VB4wxZtWpV8UG1JK8RQHgnlFSkiFdRBFKNgCoQqUY4jv6Vjc8baCDT4e1VSakNUh2E6Hll2fNaz9tMwmtFYwv0My7YFpEyvHPnzsTOoLLOsWPHEmf0lAERpaCSmwgg0sQir1q2bFlGFmmFCIM2XEURcENAFQg3VAJQpmx80W8CHqgtW7YkhDG+/fbb1KxZM2nglWXPa73os3C/Go0t0M+47dq1o8mTJ9PChQsldBAmmnfffZc4nbgMzFko3SegpVmNABgwYcKy/jjyIyPrsUKEMQ/wW6goAk4EVIFwIhKQc2Xji3wjvvjiC6HvxdY+tvNbt24dquyVZc9rvVDHcRy4sQX6Hfess84iTist3AccdSFJpmCKgUChUFEEFAFFIFMIqAKRKeRjjKtsfO4AISsjlCvkREBCI/g+2MUry57Xeva+ox17ZQtMxrhQoCCtWrWKNiW9pggoAopAShFQBSKl8CbWubLxheMHWzDeyA899FACcyDyJbiJV5Y9r/XcxnCW+WEL9Dpujx49xBnO7uuAJE+jRo2i+vXri9Oocx56rggoAopA2hBg+5ZKGhDgGxoXE6Wy8e2+OWeffbawAy5dunR3ocuRV5Y9r/Uscp5Y7H5e2QK9jgtSIzBRXn311QZtwJoIEikQILHpJmzl8cbqp5qnIdX9h4GgJ4FCQHkgAnU7UjKZkmnTVHSguBCABz7T7sqWPbPQhfqAHRwZAZlxTpwJYfKAUyH/YEviIdjNEaFw2223hdpYB9jZwNs8IheY/Iiwrd61a1caPHiwZPizcg0cffTREkY4aNAgedtdt24d7bfffpLE6I477iDkZkiXbNq0iZieWIaLZPtHwqGnn36amKhJ5o05AhPMu169ehLu2a1bt9CUvdazGgDjaMI02YRcC8hZgJwV8NGoWbMmAce+ffuGfBa8jgtTDe4xMyUSHOlwz4899ljx+2jevHm0qQTuGkKTVfILAZgbkWpcJXcRKIBakrvLC87KEJKFhzszCwZnUgGeCVP00muvvUbOpEeZmnLv3r2FQwLKXBAFERtwKOWdCl/TGz9+vCiEqfoZmDFjBg0dOtTXnLRy7iAABZ6p5nNnQbqSMASiv1KFVdUTRSA/EbDY/aZMmZKfACSwajxArLDTBLrRpoqAIhBABFSBCOBN0SkFCwGL3S9Ys9LZKAKKgCKQWQQ0CiOz+OvoURAIAhtflOkF4pKyBQbiNugkFIG8REAViLy87cFfdFDY+IKOlLIFBv0O6fwUgdxFQBWI3L23ujJFQBFQBBQBRSBlCKgCkTJotWNFQBFQBBQBRSB3EVAFInfvra5MEVAEFAFFQBFIGQKqQKQMWu1YEVAEFAFFQBHIXQSUSCpN9xZEUmBlq1GjRppGJMKY/9/edcBLUV3v83g8imBDqkoL2GiKioooIpYYjFhjEEssf3tv2DVGo8GODWwgKtGowQIWgoAtokZBARVFEcMDg6gBBVEp8z/fibNvZnb2bd+d3f3O7wc7c+feO3e+e9/Muaf+rv+RMvW9f8jXy7/K+X0R5KmQ0Shz/gAZdFhuz1xbWyuIGJivQFIZQMwmRIAIlAgClEAUaKI0LnxBmQc81sDev5Ff7zRY/nTcTbLX9oOMocjV4yLBEwIrffzxx7nqMvL94FnxzN7kVpEfdJIBgqHF2iQRASJABNJFgBKIdBErkfrrfhZZOdsRZ23dgBtvKtJ486q6giyOjj/+eJk4caLMmTMnYVbMLLqPZFOEie7Zs6cMGjRIHnjggUiOkYMiAkSACBQKAUogCoV0ge/z4+d+5qGqWqSmdW6YBzAOY8aMkZEjR1YM84Dpa9mypdxzzz0yevRoeeqppwo8o7wdESACRCBaCFACEa35yMloVi8VWaUMhJeadKqSRq29JZkdL1u2zHbhe+65p2XzzKyX0m6FDKlTpkwx6UuLFi1K+2E4eiJABIhAhghQApEhcFFt5qjq4sd/+5mHhhtITpgHPPNpp50m69ats9TYUcUg3+O68847Bam9zzzzzHzfiv0TASJABCKLABmIyE5NZgNbtSCgutAZbtI5N6qLZ555Rh577DG5//77LbV1ZiMs/VYbbrih2UA8+uijzDRZ+tPJJyACRCBDBKjCyBC4KDZb/Y2qLj7zSx+adFTVRZvsR7t06VJTXRx44IFmB5B9j6Xfw0knnWS2EDAkbdMmByCXPiR8AiJABCoIATIQZTLZzmqRFfC6WFP3QNXrizTbJjfSB7j6vfvuuzJr1ixZf33tmCQrV66UbbfdVrp37y6QzpCIABEgApWEAFUYZTLbprrwMA+iM9s0R6qLhx9+WMaPH2+SBzIPdQumWbNmct9998mECRME2UNJRIAIEIFKQoASiDKY7dXfquri04DqooOqLtpm/3CLFy821cVRRx0lI0aMyL7DMuzhrLPOMo+U2bNnS/v27cvwCflIRIAIEIF4BMhAxGNSUiVQWayYFVBdNFfVRbfcqC72339/mTt3rrz//vvSvLl2TIpD4IcffpDevXtLx44dZdKkSTmN+Bl3MxYQASJABCKCAFUYEZmITIfxI7wuvKoL5RtypbqAeP7FF1+UBx98kMxDPRO03nrrGUYIc80IlfUAxUtEgAiUFQKUQJTwdK75r8gP8/yqC4SqRsjqbOmLL76QXr16ySmnnCLDhw/PtruKaD9s2DC5++67TVrTpUuXinhmPiQRIAKViwAZiBKde1NdwOtCvS9cqm72i+oiS+0FMjPut99+snDhQpkxY0bFZdx08Uz396effpI+ffpIq1at5KWXXqIqI10AWZ8IEIGSQoAqjJKarrrBItqkl3kQV3WRJfOAOyDSIsTxY8eOJfNQB3nSo8aNGxtmr732mtx1111J67MCESACRKCUESADUYKzt2aZyOqv/QNvvGmVNFjPX5bJ2fz58+XSSy+1f9hNk9JDAMaUF198sVx00UUyb9689BqzNhEgAkSghBCgCqOEJgtDRXpuCxilOS9cqlbGoVl3FT1kKX1Ajgskyfruu+/krbfekkaNGrm34G8aCKxZs0b69u0rNTU1AmlEdbWmQiURASJABMoMAUogSmxCTXXhYR7ANFiuiyyZB8Bw8803y5tvvmlieDIPmS8MJNqC+mfmzJly6623Zt4RWxIBIkAEIowAGYgIT05waGuWq+pCU3V7qXE7ERhPZksfffSRXHXVVfLHP/7RvC+y7a/S23fr1k2uuOIKufzyyy3td6XjwecnAkSg/BCgCqNE5hSqi5VzHFn3U92AGzQVad4je9UFRO677rqrpemePn26id7r7sKjTBFYu3at9OvXT37++WdTCUGlQSICRIAIlAsClECUyEz+tNDPPJjXxa+yZx7w+Ndff70lyYLYnR+53C0I2D4AU0TyZCyN3OHKnogAEYgGAmQgojEP9Y5izXciP3/lr4I8F7lQXSBE9bXXXmtMBLJKknKLwFZbbWX4Xn311ZbNNLe9szciQASIQPEQoAqjeNindGdnnaouNGCUT3XR5BfVRZbsH0TrcNVEhs1XXnmF3gIpzUj6leDdMnDgQFm6dKkxEU2a6ASSiAARIAIljkCWn6ASf/piDl8Zg1Top1o/84A2TaG6yMHMYVf82WefWR4HuhqmMhuZ1WnQoIGMGTPGIntC2kMiAkSACJQDAjn4DJUDDIV/hp/Vm2LVZ4FEWIFhrF2hqov/+AtNdZGDpJgIUX3jjTfKTTfdJF27dvXfhGc5R6Bz585mBwFbCMTYIBEBIkAESh0BqjCKNIOI5wDmoEoN85t0rJKaFoGBqIRiBbwufqwrb9BYA0b1rJKqLNk+5GzYYYcdpG3btjJ58mTmbKiDOK9HyDEyaNAgWbBggeUYadpU3WhIRIAIEIESRSDLT1GJPnUEhu38EgwK+SxWferYP29uix8X+ZkHDBkBo7JlHtDPJZdcIrW1tTJ69GgyDwCkQFRVVSX333+/LFmyxOJDFOi2vA0RIAJEIC8IkIHIC6zJO/UaRaL26m//F6J69TcioaqL1iINN0jeb7Iab7zxhtx+++1y2223SYcOHZJV5/UcI7DZZptZxE/gD8NVEhEgAkSgVBGgCqNIM/f9zEA2Te84kDpBA0e5ZKoLDRhVlWVKhZUrVwqSPcG1cMKECW73/C0CAocccoi89957AjdaeMGQiAARIAKlhgAlEMWYMUeTYqnqIiF5mAfUadIpe+YB/Vx44YXmSjhq1CickoqIANJ9I2kZMneSiAARIAKliAAZiCLMWlB9Ud8Qqho5gpDV2dKUKVMEjMPIkSMFYnRScRFo166d3HHHHTYfL774YnEHw7sTASJABDJAgCqMDEDLtgkiS/4wV8UQKRJUF407VEmjVik2CFTDTrdnz56y/fbby1NPPRW4ytNiInD44YcL7FJmz54tG2+8cTGHwnsTASJABNJCgBKItODKTWXHkxArlR6RSOvHzx1jOuqTXsBNMIzOOeccWbVqldxzzz1hl1lWRATuvvtuQTKzCy64IHQUieY0tDILiQARIAIFRIAMRAHBdm+17ufwD717PdEvJBfIyPnzkvga33//vfTv398SN3mvTpw40aIgQnXRurW6cpAihUDLli3l3nvvNZfaoHRo/vz5svfee5utRKQGzcEQASJABBQBMhBFWAb1SRGSDcekEV84svIjfxRLuAS+/vrrst1228mIESMsNfeyZcvk1FNPlaOPPloOPfTQZF3zepEQGDx4sBx11FFy+umny7fffmtzhzns1q2bTJ06VV599dUijYy3JQJEgAgkRoA2EImxydsV2D9AmpApNdBcTE3UJqLhRnU9nHvuuQJxOBJkIfdC3759pUWLFpa8Cfp1HJOii8Dy5cvNTgVutmAiYBeBJFyNGjWS0047TW699dboDp4jIwJEoCIRIANRhGlf8X58gqxUhmHGlJuqMWVbra35tLyE2A6ffPJJrKhhw4b2ATrxxBPN0h9REEnRRgB2EAgwBQZw9eo6P1/M7dy5c6M9eI6OCBCBikOADEQRpvy7fyEQRHo3rlEPjCabazwIzZ0RJIRGhltgmMEdPkZ77LGHjB07Vtq3bx9syvMIIPCf//xHTjjhBHnhhRdC5xDM36JFi2yOIzBcDoEIEAEiYAjQBqLAC8FyYKTBPFRr5s1m3aukKfJghDAPGD5iPCSSMEAMDtsI6NMfeuihAj8tb5cMAczJFltsIS+99FIo84D2mNtp06Yl64rXiQARIAIFRYAMREHhFln3SxKtZLdt0EikaZcqadatSqqb1V8bGTWrqxPHuYY4fMWKFfKnP/1JFi5cWH9nvFowBDAXmBPMDWxXEhHmFnNMIgJEgAhECQEyEAWejaQMhM5IYw0U2ayXpvjeJLXBTZo0yaczD7bCDvbggw+Wd955h2qMIDhFPIdKaebMmTJ06FAbRSIpEhhARqss4kTx1kSACIQiQAYiFJb8FdYXRKpGHSWaK+PQeDNVV6Q4MzCc/PLLL0MHDEPKmpoas+AfP368bLSRx20jtAULC40AEmmNGzfObFQaN24smLMwgp3EvHnzwi6xjAgQASJQFARS/EwVZWxledOwIFLV66nEYRu1c+haJVBdpEPQnYd9dFDWsWNHkzqcffbZ6XTJukVA4JhjjjFpRNeuXRPOJ+aaRASIABGICgJkIAo8E94gUlW62WyixpHNNFV3dYYZnaEbD3pfQBT++9//3lJF9+rVq8BPyNtlisDWW28tM2bMkFNOOcW68Ko0MMe0g8gUWbYjAkQgHwjQjTMfqNbT5woNRb1ulUijNrB1yC5N99q1ay0BE8JYg1yVBUIjI7IhqXQRePLJJ+XYY48140o3JkTz5s0F0UXrM5gt3SfmyIkAESg1BCiBKPCMVWtq7uY9qyySJAJDZUPYrXqZBwQcglEemYdsUI1G28MOO8yiiGJOXRUVvDUw5yQiQASIQBQQIANR4FmAayZCUeeCvDrxIUOGyNtvvy344JDKAwHMJTxnEMraJcT8IBEBIkAEooBAnApj+vTpcsstt0RhbBxDEgSQZAl5E3bccUfZfPPNk9Quj8vI8XHeeefl5WGw7rH+o0i1tbXGTCCnCbKuknKPANYV1heJCBCB1BCIk0AguA30r6RoIwD7B0SZRLrnSmEe3nzzzbx+4ME84B5RJMzxvvvuawazmHtSbhHAO49B1nKLKXsrfwTCnc71uZ944onyf/oSfsKVK1dajAdka6wU+t3vfpf3R91ll10ivfYRsRJGlc2aJQlPmnekyusGXo+X8noyPg0RyB8CCRmI/N2SPecCAX5AcoFi6fUBhrGSmMbSmyGOmAhUDgJxKozKeXQ+KREgAkSACBABIpApAmQgMkWO7YgAESACRIAIVDACZCAqePL56ESACBABIkAEMkWg7BgIeCVkkjQq03aZAs92RCDTNZdpOyJOBIgAEcglAmXHQOQSnHz0hYyK8CZo1aqVIPsiggVdf/315pKZzv0QgfJXv/qVwHp8zpw51vTHH3+0c5Ql+nfiiSda3RtvvDFhHbRds2ZNOsNh3TJEIJu1+q9//UsOOeQQ2WyzzWydI0nYsGHDYpFTuVbLcMHwkSoOgbJjIBCdEfkC0qVM26VzH6Rk7tevnyxfvlzeeust+e677+SGG26Q6667Ts4444x0upJzzz1XPv/8c1+bJk2aWJwAJF4K/nv66aetLpJsgVyM/vvf/8bVRVs3fLJV5n95QSDTNZdpu3QeIpu1igBnu+++u3mL/POf/5SlS5faGr/rrrsslgXil3CtpjMbrEsEoolA2TEQ0YT5f6O65pprBPkMHn30UZMeQAJx4IEHyuWXXy6jRo2SuXPnpjT85557Th544AE59NBDU6qPe5555pmWoRPib5DLQCBBE4kIBBHIZq1eeumlJmF76KGHpFOnTrLBBhvI4YcfbiG5Eajr3XffDd4uds61GoOCB0Qg8giUFANxxx13yJZbbmki0c6dO9uuBjtriNyfffZZAzuoHx40aJBAfApxLD7WCAW84YYb2g4JuSNcCrZzy3P5+7e//U0GDBggm2yyia/bgw8+2KQAqUQA/eabb+T//u//fMyAr7OQkyuvvNIYBm+IcjAQTZs2paQhBK9cFFXyWkUiMEjWgvEqunfvbtAuWLAgIcRcqwmh4QUiEDkESoaBGDlypJx11llywAEHmOh+2rRp8sEHHwh2O6Dgy8pFGuVff/21DB06VE4++WQLVwux6pdffin4cEMXmwqhj0R2Bd7yRFIEhMnFx79bt25xtwODU1NTU+/OzG106qmnmn0CPlCp0BdffCF33nmnnHPOObLpppvGmoCBWH/99WPnPMgdApW+VrHWjjjiiDhA33//ffsbchmJYAWu1SAiPCcC0UagZBiIm266ycShMP7DhxCi0QcffFBWrVqVFGHYHFxwwQUCaQQiOPbo0UPwIV68eLHMmjUraXtUaNmyZaitQNDWYOuttw7tb8mSJVaOfoLUoEEDk4y4dYLX3fNx48ZZmGUwBDDCTIWuvfZa0zfDZsJLYCDAtFx11VWCFzqkEcAVthhI0EXKHAGuVT92WNfABEzvFVdcEcpEowXXqh83nhGBqCNQEgwEjA3nz59vagd8bF3CBxCW3qmQq/t367Zr184OwUQUglxGpz5JyQ8//JBwKIsWLTI7hoMOOsjUFwkrei78+9//lrFjx1q7jTfe2HNFzOvjp59+MoYKKaJhNHf77bcbg9KnT5+YtbyvEU+SIsC1WgfRp59+ahKHtm3bytVXXy1/+ctfjIGoq1F3xLVahwWPiECpIFASuTDwcQO1bt06DtctttgirixYUF1dHWd34DIihXJXXG+99WxYSIYURviYu3XCrp9wwglWDPF4qgQjNjyf67rpbReWthq6a+AC48zhw4fbjtDbhsfJEeBarcMIqjlI6ODp8/LLLxsj+9hjj8nkyZMlyNByrdbhxiMiUCoI1G3nIzxid/cOW4MghZUF60Th3JV4wKUtSPjIQ20An/kwGj16tEyaNMk8NbCbS5VglAlpAtQ9qdJ+++1nu0a4mZLSR6DS12oYYmAWYG/0zDPPmJ0PJBFB4loNIsJzIhB9BEqCgXDtBmCEGCSoNgpB2RpRwr4AH38Yfgbpo48+MkkBPvZh5NppIIaD12ATdhygnj17WrlXmgJcYLS21157xXUJKciMGTPMMyV4EZIQ7Brhp09KH4FKX6tQRUBaBolCkFwD4g8//NB3iWvVBwdPiEDJIFASDAR25vj4wofcS6tXr5ZUXB+9bTI9ztaIEveFJ8grr7xigXW844B7JwI3DRkyxFscO77ttttCDThddcbs2bPtujf4EzxNQNttt12sH/cATMJuu+0Wqtp4/vnnrdrAgQPd6vxNA4FKX6sw7oWaYsSIEXHRVcG0grp06eJDlGvVBwdPiEDJIFASDATQxG4bO/VLLrnEPsBw+cIHFzEdSoXgcgpGBJIEGJjBhRQvW1ioI5hUhw4d7FEQaRCSBniOZEoff/yxNUW46yDBfRNGbWBm4J1RW1tr0TEff/xxc/fcdtttzeU12I7nqSFQyWsV3jxYz2AWYHuDmA8wDkZ0SsQvQZ4auGN7iWvViwaPiUDpIFASRpSA87LLLrMPLrwKbr31VkEgKURXhOHhcccdZx/cqMOOAFLYbYGR6Nu3r4WyRmAsSBhOOeWUnA4fhmsgRAEMowsvvNAwxE6xd+/eNhbYSuClDyatPoPOsP5YVodApa9VMFBt2rQxKQSYUajM2rdvLzvvvLN5YQSZWq7VurXDIyJQSghUqb7b8Q4Yu1DskAPF3iqROr755pttp/7GG2/YRzlSg+NgcooAkpCBnnjiiZz263aW7/65Vl2ko/cLiR9UiQi5TSICRCA1BEpGhQHJw5FHHhkXORJZ/xBbIVF0u9RgYC0ikDsEuFZzhyV7IgJEILoIlIwKA7YOSEKFBFTIXgkRO3YM2I1Cp5pIVB9d6DmyckWAa7VcZ5bPRQSIgBeBkmEgEIFx/PjxglDWCBcNf3sEqoFP+fnnn+99Jh4TgaIiwLVaVPh5cyJABAqEQMkwEMADL2b8IxGBqCPAtRr1GeL4iAARyBaBkrGByPZB2Z4IEAEiQASIABHIHQJkINLAEmGemzdvnkYLViUC0UWA6zm6c8OREYFSQIAMRCnMUoZjhL2IN/R18Ngb+nrevHkCN0ZEEoSh6lZbbSXXX399XDRBDAV+/cccc4z1jaBBJCJQKAQQoGr//fe3gFTwvkIyvYsuuojZYws1AbwPEfAgQAbCA0a5HS5btsweCYF6ENcj+M8NfY0Mkv369bNolEiihZTUN9xwg3m7nHHGGT5Y0Nevf/1r+eyzz3zlPCEC+UbgnXfekV122UUQSXXmzJmC3DgIKvfAAw/IPvvsE8rs5ntM7J8IVDICZCDKePZdBiKZ2uWaa66RFStWmJssogRCAnHggQdaeO1Ro0bJ3LlzDSUwD2A0+vfvLwiKRCIChUQAEVzB9CI7LSLRgpH47W9/a15YYHxff/31Qg6H9yICFY9A0RgIpK9GHgYk1kH8/NatW8ugQYPk7bff9k3K1KlTZe+997Y4D4j9sM0229jOGAmhXEI7uHQia+Wee+5pdgpIIXz00UebaBPxIpBUCu3xgbz99tvdpvaLDyLyUGBXM2DAAGvfrFkzy2SJjJb10XvvvWeeIQhTjQ8v+kcOi+XLl8eapfqssQY5OgADAWxdSUOiboEPnhvP4CWkYIbUwk1YtmTJEsuVgTwaJD8Cqc4x17Mft3TOFi5caCGyg2HW3eRchcrMm86YWZcIlDUC+oHwkX5MENraV5aPExU5Opq50NEQ1I7GdHD0j9855JBDHN0tO5pcx2752muvOfrxczS8rLNo0SJHd8nOI4884qgu3zn77LNjw9LdsqPBexzdHTuasdP5/vvvHRXB23PssccejorcrX/dQTtHHXWUlaOeS8qgOJq+2tG4/c60adOclStXOsqMOMpUOPpRdZYuXWpV0Y8yFm4zR6NgOvqBdg444ABHd+l23wkTJjjKDDk77bSTo9lCrW4qzxrr9JcD3BPzkOyfJhgLNo2dK2NlY4kVhBxo+mW7h8bSiLu6du1ap6amxlGXxLhr06dPt3ZqZxF3LV8Fhx12mIN/+aJs+k9ljrmes1vPaqNjf6fKGPuWwJ///GdbiyqF8JWnc4K/M7z7SESACKSOQBynUAgGAgxDgwYNHM3O5xup7trtg60SAivXnbwxFJp501dPd8vGMLiFYCDwApg4caJbZB9vMCP4AC5evDhWrqmvra5Gs4yVgTFA+3HjxsXKcKCZMq1cDQWtPMhA7L777sYEaVZNXzvVycb6S/VZfR3k6GTXXXe18V155ZVOt27d7OXbrl075/TTT3dUf2x3AROEZ1eDydC7alIkRxN/xV0jA1EHSapzzPVch1kmR2DqNZunM3jwYEelEY5KIZ0XX3zR3hmavyeTLmNtyEDEoOABEUgZgaKoMGA9DZXF008/LU899ZToTl3/fv+XOfLrr7+2LJs4hxeBShNiaa5RBoL+EyoC6OS9tNtuu8VOIbZv0aKFIMOkfjRj5cgSCILhYJCUQfAVQR0CgmokSDA0RGZN1IHqwktwjwNBL5vqs3rb5+p43bp1AlUP1DFTpkyxZ4b6BuG/+/TpY9jqx89uh3GGEcqRjpmUGIFU55jrOTGGqVzp2bOnRaNV5tWye+LvDn9rUEHee++9qXTBOkSACOQQgaIwECp9EBX12wde1RbmkgU7B7gEQpfsku7s5ZZbbjHDPTABeGGAMRgzZoxVURG7W1Wqq6sFOQi8BLdFMBFeQhnI2xbnKqmIswFw20L3HySVapjVt6pU4lwlVTVj1aGzTfVZg/3n4hwvWlWFyLBhw6Rt27aGj4rpZeTIkQJ98fDhw2Npu+GaGUZgQII657B6lVyW6hxzPWe3Sh5++GHzADr++ONlwYIFxhyrKtLWMhhirHUSESAChUOgKAwEHm/HHXc0637VC8t5551nroMXXnih+XXDmBGEtOIwSNx3333NwhrMBV7CeIHkmvARCJLKcawo7JpbV9Uwce6RaId/yN0BSuVZ3f4K8YtdGxgpSEhc6UzYyxdxIoC5yxAVYmyleo9U5pjrOfPZxVpU1ZtAyoj8Nx07djTp3s477ywPPvigfPLJJyaxzPwObEkEiEC6CMR/NdPtIYv6+IjhhQA3QnhfqEGlMRKw8scO/9lnnzUm4qqrrjJvDYjiIYFQm4gs7hreFDttr+cEasHPHOSqPezkl/8233xzky6kOpb6ntXbr3sMVQ7aJPvnuli67dxfSBQQdAcBooKEZwWDo4ajsummm5p04oMPPghWEzXQFLy4sbsjJUegvjnmes5uPePvDOpMeGEFCUHPQFivJCJABAqHQFEYiFdeeUXwAQ66SKqxnu2I8eHGRw7UsmVLHxp4SaA9yJUQ+CpkcTJ58mRfa/XIsHP15PCV4wSxFdSIUl5++eU4ewpIVdRoURD4JpVnjetcC/DcriSjvl9kJg0j4Afm7MQTT4y7/Pzzz1vZwIED7Xfo0KE2zqAUAu6dYNiGDBkS1wcL6hBIZY65nrNbz1DBQYU5Z86cOuB/OXLLOnXqFHeNBUSACOQPgaIwENjR4sP0hz/8wcToUEtAVA57B9gNnHDCCSaiREwFGFniBYE6+PDBZgIhl0HqQRBny5ApVIiXAEkImAgYDcJwEiFy8eJSN9LQbmFDANsLBLOBJABjBEOBMM942fXo0cN278meNbTzLAsRZAeSHHzcEG+jtrbWJCyPP/64xXJQl1U5+eST7S4I0AOGBSL2Tz/91J5DPVDMJuXyyy+PM2LNcmhl15zr2f+3m48JhvQR6sxXX31VsF7xnsDfKWwgTjrpJLOjUtfufNyafRIBIpAIAd3d+qgQbpy4IeIPqC2D0759e0et2B39gDm6Y/b5YmuQJgdxHOCOCfet3/zmN45KLRwNo+zozttiRFx22WUO3Dj1Q+57DpyontRRHamvXHfZMGwwV0b3AtwzEUfi3XffddSrwu6nhoMO4kN8+OGHbjWLJ+GNA4ELaIP7q8GljUclKw5iKrhukqiTyrOiXj5IPS4MV+ALnLfcckvnkksucdSLxHc7uMoeeeSRNg+op8yPo8aWvjp4LmCX6B/a55OyidOQyriy6T+VOeZ6TmUW6q+j9g4O3JOVQba/N8SS0YBxjtpA1N8wyVWsacaBSAISLxOBAAJVONc/nhhhh4qdaKA4dr0cD2BUCJdM6FhJ0UXAlTzBDTUflO/+8zHmsD65nsNQqb8M9itQ2SWSNtbfmleJQGUiUBQVRhShriSGKYr4c0y5RYDrObd4sjciQATiESADEY8JS4gAESACRIAIEIEkCJCBSAIQLxMBIkAEiAARIALxCDSML6q8Eo2nX3kPzScuWwS4nst2avlgRCBSCFACEanp4GCIABEgAkSACJQGApFjIGBBjiBNpUSaItwXMRJx+knxCCDolRtZE3EnSH4EuPb9eKRzxrWVDlqsSwRyg0DkGIjcPFbhe0HgKFi+4583Ih5CSiOwFD6cSBYWRhpLQgYNGmTBcBBeGkGeRo8eHVY1VgaXUwTaQr9uJL7YxRQPEIgLgbmQ6wLj79q1qyXeCrqzIhw2XBxbtWpl9RA6WNN/WzIx3AoBtFzGINEvImIi2Bbw0bgZKY6Q1UoBgbC1j0ywyPzavXv3WMh0BC5btmxZRo/08ccfCxLBIcEdkrsh0itC3K9YscL649rKCFY2IgJZIUAGIiv46m+MdONIEa6BrxJWRKTNnXbaXfk9dAAAC3FJREFUyaQuCH2NMN6I0IkPbiKGA50huuTnn3+esN9kFxDRD6G4kYoaMTAQxvq6666Tu+66y5KX4QMAQtrzfv36WRRLJN9CGvMbbrjB6p5xxhlWB0yPyzwFf5GyHYTYIqTKQQBr44orrpBrr71W8HeAGAtY6xoMztZKOkhoMDfZYYcd5KuvvrJIlMiOC+YB6dG5rtJBknWJQI4R0Be+jwoVidJ3U88JokIGoz16LkfyEBEYdRfmG5uG5nY08Y9z5ZVXOppW26I36gvPVwcnW2yxhYPolbqL913TcN4OomF6I1q6FSZOnGj9HXroofY7e/Zs91LKv8oU2H01R4OvjYYLtj41uZmVn3baaY6G+XY0uZevnmZEdFTa4GhuEl+590QlGRZpVF/y3mKL3LnJJpv4ylI5ySZSZBT6TzaGcln77nq/7777fI+sUjVHJRL1rhlfg19ODjjgAPv7QhRZL2kWX1urGq49VoyosJmsLX2tMhJlDEUeEIHUEMhaAtG/f38TKbqiRC9/o2GmTbSNfAygqVOnioaHlg022MDaILMedr1uoiFvW/cYCaGQjyJId955p/WN3BMuaahgOeigg0RfICZqh4gf8fODWTbd+vn8xS7pnHPOsXwUie6DnRnUAxqa18brrYeIeIj1/9xzz3mLTUKBFOLYeQHLTAniYEgSIIHwEkTOINeOAzvHAQMGGKbeegcffLDtJJ988klvse9YmScTWSPHSTkS1374rEL9htwVGmLaV+G4444zdVuiBHC+yp6TffbZx1J4B+1mIJUAzZ8/31Obh0SACBQKgawZCOj3V61aJRMmTIgbMxIyde7cWfCiff31102cj4879JUQmSNRE/4haVW2BPE/PsQQvSMtOFQB0ME+/PDDJpJHWuowyjZtdlifKMNLEkl+6iPl8ewy7AaCBF0vKJix9NRTT7UU23fccUewSVrnYG6OOOKIuDa4H8YDRgIJi4Aj9M1Bgr1ETU2NwH4jjJB+GUwe7oOU4eVIXPvhswqV2HbbbRfHFIfXTl565pln2joK1ly0aJEVYaNAIgJEoPAIZM1AwLgOOnDsVL2ELHnYGUCfjw/SM888Y/Wgt8QHBTsUFf0LUmVrghxv04yOVZxpBlbIkwAjP3hyIEsmjP1UHC/I8RFG2NXgQ57sX7q7prB7BcvAJOBDjBcujC29BIYLBL2vS+PGjRM8Hz7MMGjMJUFiApsLMCbQXYNpQBkouPNDWYMGDQxvtw7KvATdN9YFbDXKlbj2w2cWtjkwzH3ooYdk++23F2S6xVrH3zuywuaCsO5uu+02y3gLGx0SESAChUcgawZCs1jK4MGDBcFrYGDn0l//+ldjHLBLA4FxgHV/hw4d3Cr2CwkFVAwQ52dKuC8+wppJM27XA9c4EAwAo0jABS9ViHthbAkswFBpJkwb7urVq+0Xuy3sxKCiyaXhGNJ3g8GDmgjpv9W2wRgI3BSSJVBQzWGFv5RDzRIkzUwpY8eOtfFuvPHGwctlc861Hz+Va9eutXUDdeWYMWNsLUPaiA0G/kY1O27Gnhju3dS+yDx58LcCJkUz8bqX+EsEiEABEciagcBYwSTAjsG1uMdLBDt+SBfAIIDg6gddOHYL7dq1sw99w4YN7SWD62iTKS1evNhUF4888oh9DPFBdP9hJwSCOD6KBIbg+eefF01HbLt+iGNfeOEFkzRgvJq22IatRpX26zIWdpKD/yABgfQFL2W8jLGr22WXXYyhg7scKCgdcW+LOXfruGX4RT9QGcGTpNyJa98/w5BM4R8+7uPHj5devXqZNBB2DKNGjRL8rWZjEwMmu2/fvqYGVWNi6d27t38APCMCRKBgCOSEgYCrYuvWrWNqAuw+IGI89thjYw+CXTMMGvfdd1+zh8AHC0zF8ccfH6uT7QGMCxOpIvAyiyrBtW3mzJnGhMHmALs1vIRBYChglDZp0iR7AYcZlObiuSApgGEkVE2wa4AkAoweCDvIIIFBwBy6DJr3Ogwr+/TpI506dfIWl+Ux175/WsG4Q73WpUsXCUqfsKHAdaz1TAi2TWBuwdBCxTdgwIBMumEbIkAEcoRAThgISBJgkPePf/zDxJOPPvqo7Tpg6Q/CruPZZ5810Tv8t/FygQ0E2sHYrj6CeDJMOuHVvasbpH1wk/UVdp98GVGG3SudMrwsQfBCmTVrlh2DCXMlK/iFQSWoZ8+eVp7IUNQqef6DigESDUgKguQaTML3HrYqYFg++OCDYDVR902TMoBR8BLsXmCIuddee3mLy/aYaz9+amH34LXdcWtgfYLBT6QSc+uF/cKmCswaJJpQR/bo0SOsGsuIABEoIAI5YSAwXohyoa+HNwZUGWAewCSAXDfNoDEePkKuiydeLGHUpk0b2+lCWuGlKVOmxE5hMImgSHDpROAjL7322mumGoCXRhgV04gS44GRocaCMOzc8cGT5N577xW4uULlA7VCmGTFVWdoHAi7jo9ZKoQdIjxkRowYEYsm6babMWOGHYLJAw0dOtTmKCiFgJQE9xsyZIjVc/+DnhsEK/xKIa59/0xjMwHp1OTJk30Xpk2bZudgitMhuBRDSgfjaPzdQ9pJIgJEoPgI5IyBwK4Drn8wxINBpFd90bFjRxPFIxIdwi6DGYDeH2GUYckOQljlMEkDXhz4oKJf6FXBIJx//vl27IVv+PDhZkwFzwu4ieIeYCjwckeo3ajuWGDkiV376aefbi6TeD64fwInDcRjkgXvcyY7hmgX0gk3SmRYfVjFw+MCzALsFPCChjEkolNCDbTRRhvJWWedZU0vvfRS88KA9AMGl8AVzAfawwU3aBSLkMOgSnKt49q3KY/9B6YT6gq8A8DAY22BeYARMGxusMZAqaxV1MNaxrqDB5JrE4RyEhEgAkVGQHe2PtKdpUV38xWmeILohPo4jooZHf3o+1ppkCdHXyqOSgsc/UA5yhg4Kup21CjKURdJR3ezjgaecoLR+FTsadEcO3XqZNHo0Le6ZjrKjNi91Psjdh/V3VuUQ3UZs/4Q4VGZjdBojrFGOTgIi0SJ+wKLRP/QxiWV2DhqnW7YaJAtR5kKRxkq93LCX5VAWP/eSJT6wrays88+O2E798Lf//53R2N0OLinulxaVExNDOYoE+BWsV9VDTkYr0prHBU/O8qMObh3GCFyJZ452Ie3bqbRAqMciZJr3zvDjrNy5UpH47s4unlwNF6Io/Y0jjKrjqoeYxVTWavoJ9HfkFuOqK0uZbq20BfefSQiQARSR6AKVfWPJ0bwnsBuM1Acu86DeASQjROGg9glRYGGDRtmfvcXX3xxFIYTNwZ4nmD3CfuTdMiVVmEnmg/Kd//5GHOx+8x27ed6rWa6tiC1g1oOEWBJRIAIpIZAakrz1PpirQggAPURjFjhCUMiAlFGgGs1yrPDsRGB5AiQgUiOUUnVgOtcVGNelBSQHGzeEeBazTvEvAERyCsCOTOizOsoS6BzeJq4LpYwSiTFI4Bw4MAIsSZI5YNAFNY+11b5rCc+SekgQAYiB3OFCJiwGXH/qcFnDnotvy7gHeNilK79Q/mhUR5PFJW1z7VVHuuJT1FaCJCBKK354miJABEgAkSACEQCATIQkZgGDoIIEAEiQASIQGkhQAaitOaLoyUCRIAIEAEiEAkEyEBEYho4CCJABIgAESACpYUAGYjSmi+OlggQASJABIhAJBBIGAcC7nYkIhA1BNwMr/kaFyKKcu3nC132SwSIQDkhEBfKura2VtxU0uX0oHyW8kCgffv20rdv37w8zPTp0xmEKy/Ilkanu+66q2j+nNIYLEdJBCKAQBwDEYExcQhEgAgQASJABIhAxBGgDUTEJ4jDIwJEgAgQASIQRQTIQERxVjgmIkAEiAARIAIRR4AMRMQniMMjAkSACBABIhBFBP4f85JlyKLoF20AAAAASUVORK5CYII=)"
      ],
      "metadata": {
        "id": "6fkLM5oDpGqK"
      }
    },
    {
      "cell_type": "markdown",
      "source": [
        "# **PREGUNTA 9**"
      ],
      "metadata": {
        "id": "lkHLSJRGpPke"
      }
    },
    {
      "cell_type": "markdown",
      "source": [
        "*Agrupamiento de KMEANS*"
      ],
      "metadata": {
        "id": "FL2nPGAzrIP8"
      }
    },
    {
      "cell_type": "markdown",
      "source": [
        "Determinar los clusters que lograron la mayor calificación en la preparatoria (HS GPA) y el promedio de la calificación en la Universidad (GPA)"
      ],
      "metadata": {
        "id": "2gJVi17zpUNF"
      }
    },
    {
      "cell_type": "code",
      "source": [
        "nxl='/content/sample_data/4. BD_Parcial__int.xlsx'\n",
        "XDB=pd.read_excel(nxl,sheet_name=0)\n",
        "XDB=XDB.dropna() #Eliminar celdas vacias o sin datos\n",
        "XDB['Sex'] = XDB['Sex'].replace({'M':0,'F':1}) # Convertir la variable sex como una variable categorica\n",
        "\n",
        "#Se procede con la seleccion de las variables de trabajo\n",
        "XD=np.array(XDB.iloc[:,1:6]) #Datos entrada\n",
        "yd=np.array(XDB.iloc[:,6]) #Dato que el modelo va a pronosticar"
      ],
      "metadata": {
        "id": "N3HqMO1hnqRy"
      },
      "execution_count": null,
      "outputs": []
    },
    {
      "cell_type": "code",
      "source": [
        "np.random.seed(42)\n",
        "\n",
        "#Modelo de KMeans\n",
        "mkm = KMeans(n_clusters=5, init='random', random_state=42)\n",
        "mkm.fit(XD,yd)  # Solo usas XD para entrenar\n",
        "\n",
        "#Características de cada cluster\n",
        "clusters = mkm.cluster_centers_\n",
        "print('Las características de cada cluster son:\\n', clusters)\n"
      ],
      "metadata": {
        "colab": {
          "base_uri": "https://localhost:8080/"
        },
        "id": "MafxUb1Gplnd",
        "outputId": "373c8700-7304-4cf5-bd7c-a06adb684526"
      },
      "execution_count": null,
      "outputs": [
        {
          "output_type": "stream",
          "name": "stdout",
          "text": [
            "Las características de cada cluster son:\n",
            " [[4.64684015e-01 3.63951673e+00 1.05312268e+03 2.70508550e+00\n",
            "  7.32342007e-01]\n",
            " [6.40794224e-01 3.80368231e+00 1.19072202e+03 2.97076354e+00\n",
            "  6.85920578e-01]\n",
            " [7.72540984e-01 3.96206967e+00 1.44682377e+03 3.16286475e+00\n",
            "  6.59836066e-01]\n",
            " [7.28862974e-01 3.90004373e+00 1.30469388e+03 3.09267201e+00\n",
            "  6.85131195e-01]\n",
            " [6.66666667e-01 2.62666667e+00 2.27373675e-13 2.87900000e+00\n",
            "  6.66666667e-01]]\n"
          ]
        },
        {
          "output_type": "stream",
          "name": "stderr",
          "text": [
            "/usr/local/lib/python3.10/dist-packages/sklearn/cluster/_kmeans.py:1416: FutureWarning: The default value of `n_init` will change from 10 to 'auto' in 1.4. Set the value of `n_init` explicitly to suppress the warning\n",
            "  super()._check_params_vs_input(X, default_n_init=10)\n"
          ]
        }
      ]
    },
    {
      "cell_type": "code",
      "source": [
        "#Cluster 0\n",
        "print(f'El HS GPA medio del cluster 0 es: {XD[mkm.labels_ == 0][: , 1].mean()}')\n",
        "print(f'El GPA medio del cluster 0 es: {XD[mkm.labels_ == 0][: , 3].mean()}')\n",
        "print('---')\n",
        "\n",
        "#Cluster 1\n",
        "print(f'El HS GPA medio del cluster 1 es: {XD[mkm.labels_ == 1][: , 1].mean()}')\n",
        "print(f'El GPA medio del cluster 1 es: {XD[mkm.labels_ == 1][: , 3].mean()}')\n",
        "print('---')\n",
        "\n",
        "#Cluster 2\n",
        "print(f'El HS GPA medio del cluster 2 es: {XD[mkm.labels_ == 2][: , 1].mean()}')\n",
        "print(f'El GPA medio del cluster 2 es: {XD[mkm.labels_ == 2][: , 3].mean()}')\n",
        "print('---')\n",
        "\n",
        "#Cluster 3\n",
        "print(f'El HS GPA medio del cluster 3 es: {XD[mkm.labels_ == 3][: , 1].mean()}')\n",
        "print(f'El GPA medio del cluster 3 es: {XD[mkm.labels_ == 3][: , 3].mean()}')\n",
        "print('---')\n",
        "\n",
        "#Cluster 4\n",
        "print(f'El HS GPA medio del cluster 4 es: {XD[mkm.labels_ == 4][: , 1].mean()}')\n",
        "print(f'El GPA medio del cluster 4 es: {XD[mkm.labels_ == 4][: , 3].mean()}')\n",
        "print('---')"
      ],
      "metadata": {
        "colab": {
          "base_uri": "https://localhost:8080/"
        },
        "id": "hqx0ROf9pxly",
        "outputId": "92b75986-2191-4f75-f1fc-815d7ba1bd89"
      },
      "execution_count": null,
      "outputs": [
        {
          "output_type": "stream",
          "name": "stdout",
          "text": [
            "El HS GPA medio del cluster 0 es: 3.6395167286245353\n",
            "El GPA medio del cluster 0 es: 2.705085501858736\n",
            "---\n",
            "El HS GPA medio del cluster 1 es: 3.8036823104693136\n",
            "El GPA medio del cluster 1 es: 2.970763537906137\n",
            "---\n",
            "El HS GPA medio del cluster 2 es: 3.9620696721311477\n",
            "El GPA medio del cluster 2 es: 3.162864754098361\n",
            "---\n",
            "El HS GPA medio del cluster 3 es: 3.900043731778426\n",
            "El GPA medio del cluster 3 es: 3.0926720116618074\n",
            "---\n",
            "El HS GPA medio del cluster 4 es: 2.6266666666666665\n",
            "El GPA medio del cluster 4 es: 2.879\n",
            "---\n"
          ]
        }
      ]
    },
    {
      "cell_type": "markdown",
      "source": [
        "El cluster que logró la mayor calificación en ambas variables fue el cluster 2:\n",
        "\n",
        "El HS GPA medio del cluster 2 es: 3.9621\n",
        "\n",
        "El GPA medio del cluster 2 es: 3.1628"
      ],
      "metadata": {
        "id": "tdI3asSJqKPP"
      }
    },
    {
      "cell_type": "markdown",
      "source": [
        "# **PREGUNTA 10**"
      ],
      "metadata": {
        "id": "SzoPIi_rqSMF"
      }
    },
    {
      "cell_type": "markdown",
      "source": [
        "*Ajustar un modelo KNN*"
      ],
      "metadata": {
        "id": "ffVEV8WlrMna"
      }
    },
    {
      "cell_type": "markdown",
      "source": [
        "Compara el coeficiente de Exactitud, Sensibilidad y Especificidad alcanzado por este modelo y comparar su desempeño con los demás modelos."
      ],
      "metadata": {
        "id": "ILmHJRqpqZz2"
      }
    },
    {
      "cell_type": "code",
      "source": [
        "mknn=KNeighborsClassifier(n_neighbors=10) #Tomar 10 vecinos\n",
        "mknn.fit(XD,yd) #Ajustar el modelo\n",
        "\n",
        "#Evaluar el funcionamiento del modelo\n",
        "ydp=mknn.predict(XD)\n",
        "\n",
        "#Matriz de confusion\n",
        "from sklearn.metrics import confusion_matrix\n",
        "cm=confusion_matrix(yd,ydp)\n",
        "print('Matriz de confusion:\\n',cm)\n",
        "print('---')\n",
        "\n",
        "VN=cm[0,0];FP=cm[0,1];FN=cm[1,0];VP=cm[1,1]\n",
        "Exac=(VP+VN)/(VP+VN+FP+FN)\n",
        "Sen=VP/(VP+FN)\n",
        "Spec=VN/(VN+FP)\n",
        "print('Exactitud:',Exac)\n",
        "print('Sensibilidad:',Sen)\n",
        "print('Especificidad:',Spec)"
      ],
      "metadata": {
        "colab": {
          "base_uri": "https://localhost:8080/"
        },
        "id": "yf8-HeplraPD",
        "outputId": "d338ced2-66d3-4e0f-986d-bfc8af54e07a"
      },
      "execution_count": null,
      "outputs": [
        {
          "output_type": "stream",
          "name": "stdout",
          "text": [
            "Matriz de confusion:\n",
            " [[ 386  230]\n",
            " [  69 1315]]\n",
            "---\n",
            "Exactitud: 0.8505\n",
            "Sensibilidad: 0.9501445086705202\n",
            "Especificidad: 0.6266233766233766\n"
          ]
        }
      ]
    },
    {
      "cell_type": "code",
      "source": [
        "# Predecir nuevo punto\n",
        "XDP = np.array([[1, 4, 1260, 1.9, 1]])\n",
        "ydpp2 = mknn.predict(XDP)\n",
        "print('Cluster:', ydpp2)"
      ],
      "metadata": {
        "colab": {
          "base_uri": "https://localhost:8080/"
        },
        "id": "78hO1QtzrkOZ",
        "outputId": "46dde3f7-a4ec-4ed7-a934-3669e2536871"
      },
      "execution_count": null,
      "outputs": [
        {
          "output_type": "stream",
          "name": "stdout",
          "text": [
            "Cluster: [0]\n"
          ]
        }
      ]
    },
    {
      "cell_type": "code",
      "source": [
        "XDP = np.array([[1, 2.91, 1090, 2.719, 1]])\n",
        "ydpp2 = mknn.predict(XDP)\n",
        "print('Cluster:', ydpp2)"
      ],
      "metadata": {
        "colab": {
          "base_uri": "https://localhost:8080/"
        },
        "id": "7kHOvlLurla6",
        "outputId": "200abb94-3fa0-47fc-d4ca-505206886f46"
      },
      "execution_count": null,
      "outputs": [
        {
          "output_type": "stream",
          "name": "stdout",
          "text": [
            "Cluster: [0]\n"
          ]
        }
      ]
    },
    {
      "cell_type": "code",
      "source": [
        "XDP = np.array([[0, 3.58, 1210, 3.319, 1]])\n",
        "ydpp2 = mknn.predict(XDP)\n",
        "print('Cluster:', ydpp2)"
      ],
      "metadata": {
        "colab": {
          "base_uri": "https://localhost:8080/"
        },
        "id": "uNCFlLEaruuT",
        "outputId": "5c2b3bff-3e9a-442f-8475-54c794f1b00c"
      },
      "execution_count": null,
      "outputs": [
        {
          "output_type": "stream",
          "name": "stdout",
          "text": [
            "Cluster: [1]\n"
          ]
        }
      ]
    },
    {
      "cell_type": "markdown",
      "source": [
        "El modelo obtuvo una exactitud del 85.05%, lo que indica que el modelo tiene un buen rendimiento general. Con una alta sensibilidad del 95.01%, indica una excelente capacidad para identificar correctamente a los estudiantes que completarán sus estudios a tiempo. Sin embargo, su precisión disminuye al intentar identificar a aquellos que no lo lograrán, con una especificidad del 62.66%. En resumen, el modelo minimiza los falsos negativos y resulta en una mayor cantidad de falsos positivos.\n",
        "\n",
        "Comparandolo con los otros modelos, este modelo, con una exactitud del 85.05%, es menos preciso que el árbol de decisión (90.2%) y el Naive Bayes (86.7%). Este modelo se destaca por su sensibilidad (95.01%), superior a la del Naive Bayes (92.63%) pero menor que la del árbol de decisión (99.86%), pero tiene una especificidad más baja (62.66%), en comparación con el Naive Bayes (73.37%) y el árbol de decisión (68.51%). En general, aunque este modelo es muy efectivo en identificar a los estudiantes que completarán su grado, tiene más dificultades para clasificar a quienes no lo lograrán, en comparación con los otros dos modelos."
      ],
      "metadata": {
        "id": "05VFmWoUsG_-"
      }
    },
    {
      "cell_type": "markdown",
      "source": [
        "# **PREGUNTA 11**"
      ],
      "metadata": {
        "id": "fdo7C3IKulDF"
      }
    },
    {
      "cell_type": "markdown",
      "source": [
        "Cuál es el clúster que posee la mayor cantidad de personas que van a graduarse e indicar el porcentaje de graduación."
      ],
      "metadata": {
        "id": "vM9KXRN3uqoE"
      }
    },
    {
      "cell_type": "code",
      "source": [
        "#Total de individuos por cluster\n",
        "print(f\"Cluster 0: {len(np.where(mkm.labels_ == 0)[0])} individuos\")\n",
        "print(f\"Cluster 1: {len(np.where(mkm.labels_ == 1)[0])} individuos\")\n",
        "print(f\"Cluster 2: {len(np.where(mkm.labels_ == 2)[0])} individuos\")\n",
        "print(f\"Cluster 3: {len(np.where(mkm.labels_ == 3)[0])} individuos\")\n",
        "print(f\"Cluster 4: {len(np.where(mkm.labels_ == 4)[0])} individuos\")"
      ],
      "metadata": {
        "colab": {
          "base_uri": "https://localhost:8080/"
        },
        "id": "V0-OuLEtuqFc",
        "outputId": "5f916cf9-06bb-4279-bcdb-ef68e139fba3"
      },
      "execution_count": null,
      "outputs": [
        {
          "output_type": "stream",
          "name": "stdout",
          "text": [
            "Cluster 0: 269 individuos\n",
            "Cluster 1: 554 individuos\n",
            "Cluster 2: 488 individuos\n",
            "Cluster 3: 686 individuos\n",
            "Cluster 4: 3 individuos\n"
          ]
        }
      ]
    },
    {
      "cell_type": "code",
      "source": [
        "#Total de individuos que SI van a graduarse por cluster\n",
        "print(f\"Cluster 0: {len(np.where((mkm.labels_ == 0) & (yd == 1))[0])} individuos\")\n",
        "print(f\"Cluster 1: {len(np.where((mkm.labels_ == 1) & (yd == 1))[0])} individuos\")\n",
        "print(f\"Cluster 2: {len(np.where((mkm.labels_ == 2) & (yd == 1))[0])} individuos\")\n",
        "print(f\"Cluster 3: {len(np.where((mkm.labels_ == 3) & (yd == 1))[0])} individuos\")\n",
        "print(f\"Cluster 4: {len(np.where((mkm.labels_ == 4) & (yd == 1))[0])} individuos\")"
      ],
      "metadata": {
        "colab": {
          "base_uri": "https://localhost:8080/"
        },
        "id": "wvoVT7Emux6N",
        "outputId": "1cf9ba5c-2932-4466-e2a1-ad3cf985c5c2"
      },
      "execution_count": null,
      "outputs": [
        {
          "output_type": "stream",
          "name": "stdout",
          "text": [
            "Cluster 0: 131 individuos\n",
            "Cluster 1: 371 individuos\n",
            "Cluster 2: 370 individuos\n",
            "Cluster 3: 510 individuos\n",
            "Cluster 4: 2 individuos\n"
          ]
        }
      ]
    },
    {
      "cell_type": "code",
      "source": [
        "#Porcentajes Cluster 0\n",
        "c00 = len(np.where((mkm.labels_ == 0) & (yd == 0))[0])\n",
        "c01 = len(np.where((mkm.labels_ == 0) & (yd == 1))[0])\n",
        "print('Porcentaje de NO graduados para el cluster 0:', c00 / (c00 + c01))\n",
        "print('Porcentaje de SI graduados para el cluster 0:', c01 / (c00 + c01))\n",
        "print('---')\n",
        "\n",
        "# Porcentajes Cluster 1\n",
        "c10 = len(np.where((mkm.labels_ == 1) & (yd == 0))[0])\n",
        "c11 = len(np.where((mkm.labels_ == 1) & (yd == 1))[0])\n",
        "print('Porcentaje de NO graduados para el cluster 1:', c10 / (c10 + c11))\n",
        "print('Porcentaje de SI graduados para el cluster 1:', c11 / (c10 + c11))\n",
        "print('---')\n",
        "\n",
        "# Porcentajes Cluster 2\n",
        "c20 = len(np.where((mkm.labels_ == 2) & (yd == 0))[0])\n",
        "c21 = len(np.where((mkm.labels_ == 2) & (yd == 1))[0])\n",
        "print('Porcentaje de NO graduados para el cluster 2:', c20 / (c20 + c21))\n",
        "print('Porcentaje de SI graduados para el cluster 2:', c21 / (c20 + c21))\n",
        "print('---')\n",
        "\n",
        "# Porcentajes Cluster 3\n",
        "c30 = len(np.where((mkm.labels_ == 3) & (yd == 0))[0])\n",
        "c31 = len(np.where((mkm.labels_ == 3) & (yd == 1))[0])\n",
        "print('Porcentaje de NO graduados para el cluster 3:', c30 / (c30 + c31))\n",
        "print('Porcentaje de SI graduados para el cluster 3:', c31 / (c30 + c31))\n",
        "print('---')\n",
        "\n",
        "# Porcentajes en el cluster 4\n",
        "c40 = len(np.where((mkm.labels_ == 4) & (yd == 0))[0])\n",
        "c41 = len(np.where((mkm.labels_ == 4) & (yd == 1))[0])\n",
        "print('Porcentaje de NO graduados para el cluster 4:', c40 / (c40 + c41))\n",
        "print('Porcentaje de SI graduados para el cluster 4:', c41 / (c40 + c41))\n",
        "print('---')"
      ],
      "metadata": {
        "colab": {
          "base_uri": "https://localhost:8080/"
        },
        "id": "g8Mk0LT2u6uw",
        "outputId": "d9cdba37-7dc8-4101-a459-c5a953e1c016"
      },
      "execution_count": null,
      "outputs": [
        {
          "output_type": "stream",
          "name": "stdout",
          "text": [
            "Porcentaje de NO graduados para el cluster 0: 0.5130111524163569\n",
            "Porcentaje de SI graduados para el cluster 0: 0.48698884758364314\n",
            "---\n",
            "Porcentaje de NO graduados para el cluster 1: 0.3303249097472924\n",
            "Porcentaje de SI graduados para el cluster 1: 0.6696750902527075\n",
            "---\n",
            "Porcentaje de NO graduados para el cluster 2: 0.24180327868852458\n",
            "Porcentaje de SI graduados para el cluster 2: 0.7581967213114754\n",
            "---\n",
            "Porcentaje de NO graduados para el cluster 3: 0.2565597667638484\n",
            "Porcentaje de SI graduados para el cluster 3: 0.7434402332361516\n",
            "---\n",
            "Porcentaje de NO graduados para el cluster 4: 0.3333333333333333\n",
            "Porcentaje de SI graduados para el cluster 4: 0.6666666666666666\n",
            "---\n"
          ]
        }
      ]
    },
    {
      "cell_type": "markdown",
      "source": [
        "El cluster con mayor cantidad de personas que van a graduarse es el numero 3.\n",
        "\n",
        "Porcentaje de graduación del cluster 3: 74.3440%"
      ],
      "metadata": {
        "id": "UTpdlt3pv2Vp"
      }
    },
    {
      "cell_type": "markdown",
      "source": [
        "# **PREGUNTA 12**"
      ],
      "metadata": {
        "id": "sWwdNroKv7Aa"
      }
    },
    {
      "cell_type": "markdown",
      "source": [
        "Determinar el clúster al que pertenecen cada uno de los estudiantes que hacen parte de la hoja de pronóstico."
      ],
      "metadata": {
        "id": "YHxIg8pdv_QO"
      }
    },
    {
      "cell_type": "code",
      "source": [
        "# Predecir nuevo punto\n",
        "XDP = np.array([[1, 4, 1260, 1.9, 1]])\n",
        "ydpp2 = mkm.predict(XDP)\n",
        "print('Cluster:', ydpp2)"
      ],
      "metadata": {
        "colab": {
          "base_uri": "https://localhost:8080/"
        },
        "id": "zRuREjPmwAKr",
        "outputId": "bbedf01f-322a-4ff4-fa03-c0a9ce6d82ed"
      },
      "execution_count": null,
      "outputs": [
        {
          "output_type": "stream",
          "name": "stdout",
          "text": [
            "Cluster: [3]\n"
          ]
        }
      ]
    },
    {
      "cell_type": "code",
      "source": [
        "XDP = np.array([[1, 2.91, 1090, 2.719, 1]])\n",
        "ydpp2 = mkm.predict(XDP)\n",
        "print('Cluster:', ydpp2)"
      ],
      "metadata": {
        "colab": {
          "base_uri": "https://localhost:8080/"
        },
        "id": "w4Pv-SHSwDG3",
        "outputId": "9da52072-0628-4f00-fa90-68be32708b91"
      },
      "execution_count": null,
      "outputs": [
        {
          "output_type": "stream",
          "name": "stdout",
          "text": [
            "Cluster: [0]\n"
          ]
        }
      ]
    },
    {
      "cell_type": "code",
      "source": [
        "XDP = np.array([[ 0, 3.58, 1210, 3.319, 1]])\n",
        "ydpp2 = mkm.predict(XDP)\n",
        "print('Cluster:', ydpp2)"
      ],
      "metadata": {
        "colab": {
          "base_uri": "https://localhost:8080/"
        },
        "id": "2CsYth5TwFF5",
        "outputId": "d1a39492-cafd-4975-c555-9babb4fe4768"
      },
      "execution_count": null,
      "outputs": [
        {
          "output_type": "stream",
          "name": "stdout",
          "text": [
            "Cluster: [1]\n"
          ]
        }
      ]
    },
    {
      "cell_type": "markdown",
      "source": [
        "Persona 1: Cluster 3\n",
        "\n",
        "Persona 2: Cluster 0\n",
        "\n",
        "Persona 3: Cluster 1"
      ],
      "metadata": {
        "id": "VYiIz80VwCfD"
      }
    }
  ]
}